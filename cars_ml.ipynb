{
 "cells": [
  {
   "cell_type": "markdown",
   "id": "609bdfdd",
   "metadata": {},
   "source": [
    "# WORK IN PROGRESS!!!\n",
    "**This notebook is not ready** but if you wan't to look at the mess below, then go ahead."
   ]
  },
  {
   "cell_type": "code",
   "execution_count": 1,
   "id": "66feb209",
   "metadata": {},
   "outputs": [],
   "source": [
    "import pandas as pd\n",
    "import numpy as np\n",
    "import random\n",
    "import seaborn as sns\n",
    "%matplotlib inline\n",
    "import os\n",
    "import matplotlib.pyplot as plt\n",
    "from numpy import arange\n",
    "import wikipedia\n",
    "from matplotlib.patches import ConnectionPatch\n",
    "from matplotlib.patches import Rectangle"
   ]
  },
  {
   "cell_type": "code",
   "execution_count": 2,
   "id": "f20ba33c",
   "metadata": {},
   "outputs": [],
   "source": [
    "from sklearn.metrics import mean_squared_error\n",
    "from sklearn.neighbors import KNeighborsRegressor\n",
    "from sklearn.model_selection import cross_val_score, KFold"
   ]
  },
  {
   "cell_type": "code",
   "execution_count": 3,
   "id": "8752d264",
   "metadata": {},
   "outputs": [
    {
     "data": {
      "text/html": [
       "<div>\n",
       "<style scoped>\n",
       "    .dataframe tbody tr th:only-of-type {\n",
       "        vertical-align: middle;\n",
       "    }\n",
       "\n",
       "    .dataframe tbody tr th {\n",
       "        vertical-align: top;\n",
       "    }\n",
       "\n",
       "    .dataframe thead th {\n",
       "        text-align: right;\n",
       "    }\n",
       "</style>\n",
       "<table border=\"1\" class=\"dataframe\">\n",
       "  <thead>\n",
       "    <tr style=\"text-align: right;\">\n",
       "      <th></th>\n",
       "      <th>symboling</th>\n",
       "      <th>normalized_losses</th>\n",
       "      <th>make</th>\n",
       "      <th>fuel_type</th>\n",
       "      <th>aspiration</th>\n",
       "      <th>num_doors</th>\n",
       "      <th>body_style</th>\n",
       "      <th>drive_wheels</th>\n",
       "      <th>engine_location</th>\n",
       "      <th>wheel_base</th>\n",
       "      <th>...</th>\n",
       "      <th>engine_size</th>\n",
       "      <th>fuel_system</th>\n",
       "      <th>bore</th>\n",
       "      <th>stroke</th>\n",
       "      <th>compression_rate</th>\n",
       "      <th>horsepower</th>\n",
       "      <th>peak_rpm</th>\n",
       "      <th>city_mpg</th>\n",
       "      <th>highway_mpg</th>\n",
       "      <th>price</th>\n",
       "    </tr>\n",
       "  </thead>\n",
       "  <tbody>\n",
       "    <tr>\n",
       "      <th>0</th>\n",
       "      <td>3</td>\n",
       "      <td>?</td>\n",
       "      <td>alfa-romero</td>\n",
       "      <td>gas</td>\n",
       "      <td>std</td>\n",
       "      <td>two</td>\n",
       "      <td>convertible</td>\n",
       "      <td>rwd</td>\n",
       "      <td>front</td>\n",
       "      <td>88.6</td>\n",
       "      <td>...</td>\n",
       "      <td>130</td>\n",
       "      <td>mpfi</td>\n",
       "      <td>3.47</td>\n",
       "      <td>2.68</td>\n",
       "      <td>9.0</td>\n",
       "      <td>111</td>\n",
       "      <td>5000</td>\n",
       "      <td>21</td>\n",
       "      <td>27</td>\n",
       "      <td>13495</td>\n",
       "    </tr>\n",
       "    <tr>\n",
       "      <th>1</th>\n",
       "      <td>3</td>\n",
       "      <td>?</td>\n",
       "      <td>alfa-romero</td>\n",
       "      <td>gas</td>\n",
       "      <td>std</td>\n",
       "      <td>two</td>\n",
       "      <td>convertible</td>\n",
       "      <td>rwd</td>\n",
       "      <td>front</td>\n",
       "      <td>88.6</td>\n",
       "      <td>...</td>\n",
       "      <td>130</td>\n",
       "      <td>mpfi</td>\n",
       "      <td>3.47</td>\n",
       "      <td>2.68</td>\n",
       "      <td>9.0</td>\n",
       "      <td>111</td>\n",
       "      <td>5000</td>\n",
       "      <td>21</td>\n",
       "      <td>27</td>\n",
       "      <td>16500</td>\n",
       "    </tr>\n",
       "    <tr>\n",
       "      <th>2</th>\n",
       "      <td>1</td>\n",
       "      <td>?</td>\n",
       "      <td>alfa-romero</td>\n",
       "      <td>gas</td>\n",
       "      <td>std</td>\n",
       "      <td>two</td>\n",
       "      <td>hatchback</td>\n",
       "      <td>rwd</td>\n",
       "      <td>front</td>\n",
       "      <td>94.5</td>\n",
       "      <td>...</td>\n",
       "      <td>152</td>\n",
       "      <td>mpfi</td>\n",
       "      <td>2.68</td>\n",
       "      <td>3.47</td>\n",
       "      <td>9.0</td>\n",
       "      <td>154</td>\n",
       "      <td>5000</td>\n",
       "      <td>19</td>\n",
       "      <td>26</td>\n",
       "      <td>16500</td>\n",
       "    </tr>\n",
       "    <tr>\n",
       "      <th>3</th>\n",
       "      <td>2</td>\n",
       "      <td>164</td>\n",
       "      <td>audi</td>\n",
       "      <td>gas</td>\n",
       "      <td>std</td>\n",
       "      <td>four</td>\n",
       "      <td>sedan</td>\n",
       "      <td>fwd</td>\n",
       "      <td>front</td>\n",
       "      <td>99.8</td>\n",
       "      <td>...</td>\n",
       "      <td>109</td>\n",
       "      <td>mpfi</td>\n",
       "      <td>3.19</td>\n",
       "      <td>3.40</td>\n",
       "      <td>10.0</td>\n",
       "      <td>102</td>\n",
       "      <td>5500</td>\n",
       "      <td>24</td>\n",
       "      <td>30</td>\n",
       "      <td>13950</td>\n",
       "    </tr>\n",
       "    <tr>\n",
       "      <th>4</th>\n",
       "      <td>2</td>\n",
       "      <td>164</td>\n",
       "      <td>audi</td>\n",
       "      <td>gas</td>\n",
       "      <td>std</td>\n",
       "      <td>four</td>\n",
       "      <td>sedan</td>\n",
       "      <td>4wd</td>\n",
       "      <td>front</td>\n",
       "      <td>99.4</td>\n",
       "      <td>...</td>\n",
       "      <td>136</td>\n",
       "      <td>mpfi</td>\n",
       "      <td>3.19</td>\n",
       "      <td>3.40</td>\n",
       "      <td>8.0</td>\n",
       "      <td>115</td>\n",
       "      <td>5500</td>\n",
       "      <td>18</td>\n",
       "      <td>22</td>\n",
       "      <td>17450</td>\n",
       "    </tr>\n",
       "    <tr>\n",
       "      <th>...</th>\n",
       "      <td>...</td>\n",
       "      <td>...</td>\n",
       "      <td>...</td>\n",
       "      <td>...</td>\n",
       "      <td>...</td>\n",
       "      <td>...</td>\n",
       "      <td>...</td>\n",
       "      <td>...</td>\n",
       "      <td>...</td>\n",
       "      <td>...</td>\n",
       "      <td>...</td>\n",
       "      <td>...</td>\n",
       "      <td>...</td>\n",
       "      <td>...</td>\n",
       "      <td>...</td>\n",
       "      <td>...</td>\n",
       "      <td>...</td>\n",
       "      <td>...</td>\n",
       "      <td>...</td>\n",
       "      <td>...</td>\n",
       "      <td>...</td>\n",
       "    </tr>\n",
       "    <tr>\n",
       "      <th>200</th>\n",
       "      <td>-1</td>\n",
       "      <td>95</td>\n",
       "      <td>volvo</td>\n",
       "      <td>gas</td>\n",
       "      <td>std</td>\n",
       "      <td>four</td>\n",
       "      <td>sedan</td>\n",
       "      <td>rwd</td>\n",
       "      <td>front</td>\n",
       "      <td>109.1</td>\n",
       "      <td>...</td>\n",
       "      <td>141</td>\n",
       "      <td>mpfi</td>\n",
       "      <td>3.78</td>\n",
       "      <td>3.15</td>\n",
       "      <td>9.5</td>\n",
       "      <td>114</td>\n",
       "      <td>5400</td>\n",
       "      <td>23</td>\n",
       "      <td>28</td>\n",
       "      <td>16845</td>\n",
       "    </tr>\n",
       "    <tr>\n",
       "      <th>201</th>\n",
       "      <td>-1</td>\n",
       "      <td>95</td>\n",
       "      <td>volvo</td>\n",
       "      <td>gas</td>\n",
       "      <td>turbo</td>\n",
       "      <td>four</td>\n",
       "      <td>sedan</td>\n",
       "      <td>rwd</td>\n",
       "      <td>front</td>\n",
       "      <td>109.1</td>\n",
       "      <td>...</td>\n",
       "      <td>141</td>\n",
       "      <td>mpfi</td>\n",
       "      <td>3.78</td>\n",
       "      <td>3.15</td>\n",
       "      <td>8.7</td>\n",
       "      <td>160</td>\n",
       "      <td>5300</td>\n",
       "      <td>19</td>\n",
       "      <td>25</td>\n",
       "      <td>19045</td>\n",
       "    </tr>\n",
       "    <tr>\n",
       "      <th>202</th>\n",
       "      <td>-1</td>\n",
       "      <td>95</td>\n",
       "      <td>volvo</td>\n",
       "      <td>gas</td>\n",
       "      <td>std</td>\n",
       "      <td>four</td>\n",
       "      <td>sedan</td>\n",
       "      <td>rwd</td>\n",
       "      <td>front</td>\n",
       "      <td>109.1</td>\n",
       "      <td>...</td>\n",
       "      <td>173</td>\n",
       "      <td>mpfi</td>\n",
       "      <td>3.58</td>\n",
       "      <td>2.87</td>\n",
       "      <td>8.8</td>\n",
       "      <td>134</td>\n",
       "      <td>5500</td>\n",
       "      <td>18</td>\n",
       "      <td>23</td>\n",
       "      <td>21485</td>\n",
       "    </tr>\n",
       "    <tr>\n",
       "      <th>203</th>\n",
       "      <td>-1</td>\n",
       "      <td>95</td>\n",
       "      <td>volvo</td>\n",
       "      <td>diesel</td>\n",
       "      <td>turbo</td>\n",
       "      <td>four</td>\n",
       "      <td>sedan</td>\n",
       "      <td>rwd</td>\n",
       "      <td>front</td>\n",
       "      <td>109.1</td>\n",
       "      <td>...</td>\n",
       "      <td>145</td>\n",
       "      <td>idi</td>\n",
       "      <td>3.01</td>\n",
       "      <td>3.40</td>\n",
       "      <td>23.0</td>\n",
       "      <td>106</td>\n",
       "      <td>4800</td>\n",
       "      <td>26</td>\n",
       "      <td>27</td>\n",
       "      <td>22470</td>\n",
       "    </tr>\n",
       "    <tr>\n",
       "      <th>204</th>\n",
       "      <td>-1</td>\n",
       "      <td>95</td>\n",
       "      <td>volvo</td>\n",
       "      <td>gas</td>\n",
       "      <td>turbo</td>\n",
       "      <td>four</td>\n",
       "      <td>sedan</td>\n",
       "      <td>rwd</td>\n",
       "      <td>front</td>\n",
       "      <td>109.1</td>\n",
       "      <td>...</td>\n",
       "      <td>141</td>\n",
       "      <td>mpfi</td>\n",
       "      <td>3.78</td>\n",
       "      <td>3.15</td>\n",
       "      <td>9.5</td>\n",
       "      <td>114</td>\n",
       "      <td>5400</td>\n",
       "      <td>19</td>\n",
       "      <td>25</td>\n",
       "      <td>22625</td>\n",
       "    </tr>\n",
       "  </tbody>\n",
       "</table>\n",
       "<p>205 rows × 26 columns</p>\n",
       "</div>"
      ],
      "text/plain": [
       "     symboling normalized_losses         make fuel_type aspiration num_doors  \\\n",
       "0            3                 ?  alfa-romero       gas        std       two   \n",
       "1            3                 ?  alfa-romero       gas        std       two   \n",
       "2            1                 ?  alfa-romero       gas        std       two   \n",
       "3            2               164         audi       gas        std      four   \n",
       "4            2               164         audi       gas        std      four   \n",
       "..         ...               ...          ...       ...        ...       ...   \n",
       "200         -1                95        volvo       gas        std      four   \n",
       "201         -1                95        volvo       gas      turbo      four   \n",
       "202         -1                95        volvo       gas        std      four   \n",
       "203         -1                95        volvo    diesel      turbo      four   \n",
       "204         -1                95        volvo       gas      turbo      four   \n",
       "\n",
       "      body_style drive_wheels engine_location  wheel_base  ...  engine_size  \\\n",
       "0    convertible          rwd           front        88.6  ...          130   \n",
       "1    convertible          rwd           front        88.6  ...          130   \n",
       "2      hatchback          rwd           front        94.5  ...          152   \n",
       "3          sedan          fwd           front        99.8  ...          109   \n",
       "4          sedan          4wd           front        99.4  ...          136   \n",
       "..           ...          ...             ...         ...  ...          ...   \n",
       "200        sedan          rwd           front       109.1  ...          141   \n",
       "201        sedan          rwd           front       109.1  ...          141   \n",
       "202        sedan          rwd           front       109.1  ...          173   \n",
       "203        sedan          rwd           front       109.1  ...          145   \n",
       "204        sedan          rwd           front       109.1  ...          141   \n",
       "\n",
       "     fuel_system  bore  stroke compression_rate horsepower  peak_rpm city_mpg  \\\n",
       "0           mpfi  3.47    2.68              9.0        111      5000       21   \n",
       "1           mpfi  3.47    2.68              9.0        111      5000       21   \n",
       "2           mpfi  2.68    3.47              9.0        154      5000       19   \n",
       "3           mpfi  3.19    3.40             10.0        102      5500       24   \n",
       "4           mpfi  3.19    3.40              8.0        115      5500       18   \n",
       "..           ...   ...     ...              ...        ...       ...      ...   \n",
       "200         mpfi  3.78    3.15              9.5        114      5400       23   \n",
       "201         mpfi  3.78    3.15              8.7        160      5300       19   \n",
       "202         mpfi  3.58    2.87              8.8        134      5500       18   \n",
       "203          idi  3.01    3.40             23.0        106      4800       26   \n",
       "204         mpfi  3.78    3.15              9.5        114      5400       19   \n",
       "\n",
       "    highway_mpg  price  \n",
       "0            27  13495  \n",
       "1            27  16500  \n",
       "2            26  16500  \n",
       "3            30  13950  \n",
       "4            22  17450  \n",
       "..          ...    ...  \n",
       "200          28  16845  \n",
       "201          25  19045  \n",
       "202          23  21485  \n",
       "203          27  22470  \n",
       "204          25  22625  \n",
       "\n",
       "[205 rows x 26 columns]"
      ]
     },
     "execution_count": 3,
     "metadata": {},
     "output_type": "execute_result"
    }
   ],
   "source": [
    "cols = ['symboling', 'normalized_losses', 'make', 'fuel_type', 'aspiration', 'num_doors', 'body_style', \n",
    "        'drive_wheels', 'engine_location', 'wheel_base', 'length', 'width', 'height', 'curb_weight', 'engine_type', \n",
    "        'num_cylinders', 'engine_size', 'fuel_system', 'bore', 'stroke', 'compression_rate', 'horsepower', 'peak_rpm', 'city_mpg', 'highway_mpg', 'price']\n",
    "df = pd.read_csv('imports-85.data', names=cols)\n",
    "df"
   ]
  },
  {
   "cell_type": "code",
   "execution_count": 4,
   "id": "0af79675",
   "metadata": {},
   "outputs": [
    {
     "name": "stdout",
     "output_type": "stream",
     "text": [
      "<class 'pandas.core.frame.DataFrame'>\n",
      "RangeIndex: 205 entries, 0 to 204\n",
      "Data columns (total 26 columns):\n",
      " #   Column             Non-Null Count  Dtype  \n",
      "---  ------             --------------  -----  \n",
      " 0   symboling          205 non-null    int64  \n",
      " 1   normalized_losses  205 non-null    object \n",
      " 2   make               205 non-null    object \n",
      " 3   fuel_type          205 non-null    object \n",
      " 4   aspiration         205 non-null    object \n",
      " 5   num_doors          205 non-null    object \n",
      " 6   body_style         205 non-null    object \n",
      " 7   drive_wheels       205 non-null    object \n",
      " 8   engine_location    205 non-null    object \n",
      " 9   wheel_base         205 non-null    float64\n",
      " 10  length             205 non-null    float64\n",
      " 11  width              205 non-null    float64\n",
      " 12  height             205 non-null    float64\n",
      " 13  curb_weight        205 non-null    int64  \n",
      " 14  engine_type        205 non-null    object \n",
      " 15  num_cylinders      205 non-null    object \n",
      " 16  engine_size        205 non-null    int64  \n",
      " 17  fuel_system        205 non-null    object \n",
      " 18  bore               205 non-null    object \n",
      " 19  stroke             205 non-null    object \n",
      " 20  compression_rate   205 non-null    float64\n",
      " 21  horsepower         205 non-null    object \n",
      " 22  peak_rpm           205 non-null    object \n",
      " 23  city_mpg           205 non-null    int64  \n",
      " 24  highway_mpg        205 non-null    int64  \n",
      " 25  price              205 non-null    object \n",
      "dtypes: float64(5), int64(5), object(16)\n",
      "memory usage: 41.8+ KB\n"
     ]
    }
   ],
   "source": [
    "df.info()"
   ]
  },
  {
   "cell_type": "code",
   "execution_count": 5,
   "id": "19e2062b",
   "metadata": {},
   "outputs": [
    {
     "data": {
      "text/html": [
       "<div>\n",
       "<style scoped>\n",
       "    .dataframe tbody tr th:only-of-type {\n",
       "        vertical-align: middle;\n",
       "    }\n",
       "\n",
       "    .dataframe tbody tr th {\n",
       "        vertical-align: top;\n",
       "    }\n",
       "\n",
       "    .dataframe thead th {\n",
       "        text-align: right;\n",
       "    }\n",
       "</style>\n",
       "<table border=\"1\" class=\"dataframe\">\n",
       "  <thead>\n",
       "    <tr style=\"text-align: right;\">\n",
       "      <th></th>\n",
       "      <th>symboling</th>\n",
       "      <th>normalized_losses</th>\n",
       "      <th>make</th>\n",
       "      <th>fuel_type</th>\n",
       "      <th>aspiration</th>\n",
       "      <th>num_doors</th>\n",
       "      <th>body_style</th>\n",
       "      <th>drive_wheels</th>\n",
       "      <th>engine_location</th>\n",
       "      <th>wheel_base</th>\n",
       "      <th>...</th>\n",
       "      <th>engine_size</th>\n",
       "      <th>fuel_system</th>\n",
       "      <th>bore</th>\n",
       "      <th>stroke</th>\n",
       "      <th>compression_rate</th>\n",
       "      <th>horsepower</th>\n",
       "      <th>peak_rpm</th>\n",
       "      <th>city_mpg</th>\n",
       "      <th>highway_mpg</th>\n",
       "      <th>price</th>\n",
       "    </tr>\n",
       "  </thead>\n",
       "  <tbody>\n",
       "    <tr>\n",
       "      <th>count</th>\n",
       "      <td>205.000000</td>\n",
       "      <td>205</td>\n",
       "      <td>205</td>\n",
       "      <td>205</td>\n",
       "      <td>205</td>\n",
       "      <td>205</td>\n",
       "      <td>205</td>\n",
       "      <td>205</td>\n",
       "      <td>205</td>\n",
       "      <td>205.000000</td>\n",
       "      <td>...</td>\n",
       "      <td>205.000000</td>\n",
       "      <td>205</td>\n",
       "      <td>205</td>\n",
       "      <td>205</td>\n",
       "      <td>205.000000</td>\n",
       "      <td>205</td>\n",
       "      <td>205</td>\n",
       "      <td>205.000000</td>\n",
       "      <td>205.000000</td>\n",
       "      <td>205</td>\n",
       "    </tr>\n",
       "    <tr>\n",
       "      <th>unique</th>\n",
       "      <td>NaN</td>\n",
       "      <td>52</td>\n",
       "      <td>22</td>\n",
       "      <td>2</td>\n",
       "      <td>2</td>\n",
       "      <td>3</td>\n",
       "      <td>5</td>\n",
       "      <td>3</td>\n",
       "      <td>2</td>\n",
       "      <td>NaN</td>\n",
       "      <td>...</td>\n",
       "      <td>NaN</td>\n",
       "      <td>8</td>\n",
       "      <td>39</td>\n",
       "      <td>37</td>\n",
       "      <td>NaN</td>\n",
       "      <td>60</td>\n",
       "      <td>24</td>\n",
       "      <td>NaN</td>\n",
       "      <td>NaN</td>\n",
       "      <td>187</td>\n",
       "    </tr>\n",
       "    <tr>\n",
       "      <th>top</th>\n",
       "      <td>NaN</td>\n",
       "      <td>?</td>\n",
       "      <td>toyota</td>\n",
       "      <td>gas</td>\n",
       "      <td>std</td>\n",
       "      <td>four</td>\n",
       "      <td>sedan</td>\n",
       "      <td>fwd</td>\n",
       "      <td>front</td>\n",
       "      <td>NaN</td>\n",
       "      <td>...</td>\n",
       "      <td>NaN</td>\n",
       "      <td>mpfi</td>\n",
       "      <td>3.62</td>\n",
       "      <td>3.40</td>\n",
       "      <td>NaN</td>\n",
       "      <td>68</td>\n",
       "      <td>5500</td>\n",
       "      <td>NaN</td>\n",
       "      <td>NaN</td>\n",
       "      <td>?</td>\n",
       "    </tr>\n",
       "    <tr>\n",
       "      <th>freq</th>\n",
       "      <td>NaN</td>\n",
       "      <td>41</td>\n",
       "      <td>32</td>\n",
       "      <td>185</td>\n",
       "      <td>168</td>\n",
       "      <td>114</td>\n",
       "      <td>96</td>\n",
       "      <td>120</td>\n",
       "      <td>202</td>\n",
       "      <td>NaN</td>\n",
       "      <td>...</td>\n",
       "      <td>NaN</td>\n",
       "      <td>94</td>\n",
       "      <td>23</td>\n",
       "      <td>20</td>\n",
       "      <td>NaN</td>\n",
       "      <td>19</td>\n",
       "      <td>37</td>\n",
       "      <td>NaN</td>\n",
       "      <td>NaN</td>\n",
       "      <td>4</td>\n",
       "    </tr>\n",
       "    <tr>\n",
       "      <th>mean</th>\n",
       "      <td>0.834146</td>\n",
       "      <td>NaN</td>\n",
       "      <td>NaN</td>\n",
       "      <td>NaN</td>\n",
       "      <td>NaN</td>\n",
       "      <td>NaN</td>\n",
       "      <td>NaN</td>\n",
       "      <td>NaN</td>\n",
       "      <td>NaN</td>\n",
       "      <td>98.756585</td>\n",
       "      <td>...</td>\n",
       "      <td>126.907317</td>\n",
       "      <td>NaN</td>\n",
       "      <td>NaN</td>\n",
       "      <td>NaN</td>\n",
       "      <td>10.142537</td>\n",
       "      <td>NaN</td>\n",
       "      <td>NaN</td>\n",
       "      <td>25.219512</td>\n",
       "      <td>30.751220</td>\n",
       "      <td>NaN</td>\n",
       "    </tr>\n",
       "    <tr>\n",
       "      <th>std</th>\n",
       "      <td>1.245307</td>\n",
       "      <td>NaN</td>\n",
       "      <td>NaN</td>\n",
       "      <td>NaN</td>\n",
       "      <td>NaN</td>\n",
       "      <td>NaN</td>\n",
       "      <td>NaN</td>\n",
       "      <td>NaN</td>\n",
       "      <td>NaN</td>\n",
       "      <td>6.021776</td>\n",
       "      <td>...</td>\n",
       "      <td>41.642693</td>\n",
       "      <td>NaN</td>\n",
       "      <td>NaN</td>\n",
       "      <td>NaN</td>\n",
       "      <td>3.972040</td>\n",
       "      <td>NaN</td>\n",
       "      <td>NaN</td>\n",
       "      <td>6.542142</td>\n",
       "      <td>6.886443</td>\n",
       "      <td>NaN</td>\n",
       "    </tr>\n",
       "    <tr>\n",
       "      <th>min</th>\n",
       "      <td>-2.000000</td>\n",
       "      <td>NaN</td>\n",
       "      <td>NaN</td>\n",
       "      <td>NaN</td>\n",
       "      <td>NaN</td>\n",
       "      <td>NaN</td>\n",
       "      <td>NaN</td>\n",
       "      <td>NaN</td>\n",
       "      <td>NaN</td>\n",
       "      <td>86.600000</td>\n",
       "      <td>...</td>\n",
       "      <td>61.000000</td>\n",
       "      <td>NaN</td>\n",
       "      <td>NaN</td>\n",
       "      <td>NaN</td>\n",
       "      <td>7.000000</td>\n",
       "      <td>NaN</td>\n",
       "      <td>NaN</td>\n",
       "      <td>13.000000</td>\n",
       "      <td>16.000000</td>\n",
       "      <td>NaN</td>\n",
       "    </tr>\n",
       "    <tr>\n",
       "      <th>25%</th>\n",
       "      <td>0.000000</td>\n",
       "      <td>NaN</td>\n",
       "      <td>NaN</td>\n",
       "      <td>NaN</td>\n",
       "      <td>NaN</td>\n",
       "      <td>NaN</td>\n",
       "      <td>NaN</td>\n",
       "      <td>NaN</td>\n",
       "      <td>NaN</td>\n",
       "      <td>94.500000</td>\n",
       "      <td>...</td>\n",
       "      <td>97.000000</td>\n",
       "      <td>NaN</td>\n",
       "      <td>NaN</td>\n",
       "      <td>NaN</td>\n",
       "      <td>8.600000</td>\n",
       "      <td>NaN</td>\n",
       "      <td>NaN</td>\n",
       "      <td>19.000000</td>\n",
       "      <td>25.000000</td>\n",
       "      <td>NaN</td>\n",
       "    </tr>\n",
       "    <tr>\n",
       "      <th>50%</th>\n",
       "      <td>1.000000</td>\n",
       "      <td>NaN</td>\n",
       "      <td>NaN</td>\n",
       "      <td>NaN</td>\n",
       "      <td>NaN</td>\n",
       "      <td>NaN</td>\n",
       "      <td>NaN</td>\n",
       "      <td>NaN</td>\n",
       "      <td>NaN</td>\n",
       "      <td>97.000000</td>\n",
       "      <td>...</td>\n",
       "      <td>120.000000</td>\n",
       "      <td>NaN</td>\n",
       "      <td>NaN</td>\n",
       "      <td>NaN</td>\n",
       "      <td>9.000000</td>\n",
       "      <td>NaN</td>\n",
       "      <td>NaN</td>\n",
       "      <td>24.000000</td>\n",
       "      <td>30.000000</td>\n",
       "      <td>NaN</td>\n",
       "    </tr>\n",
       "    <tr>\n",
       "      <th>75%</th>\n",
       "      <td>2.000000</td>\n",
       "      <td>NaN</td>\n",
       "      <td>NaN</td>\n",
       "      <td>NaN</td>\n",
       "      <td>NaN</td>\n",
       "      <td>NaN</td>\n",
       "      <td>NaN</td>\n",
       "      <td>NaN</td>\n",
       "      <td>NaN</td>\n",
       "      <td>102.400000</td>\n",
       "      <td>...</td>\n",
       "      <td>141.000000</td>\n",
       "      <td>NaN</td>\n",
       "      <td>NaN</td>\n",
       "      <td>NaN</td>\n",
       "      <td>9.400000</td>\n",
       "      <td>NaN</td>\n",
       "      <td>NaN</td>\n",
       "      <td>30.000000</td>\n",
       "      <td>34.000000</td>\n",
       "      <td>NaN</td>\n",
       "    </tr>\n",
       "    <tr>\n",
       "      <th>max</th>\n",
       "      <td>3.000000</td>\n",
       "      <td>NaN</td>\n",
       "      <td>NaN</td>\n",
       "      <td>NaN</td>\n",
       "      <td>NaN</td>\n",
       "      <td>NaN</td>\n",
       "      <td>NaN</td>\n",
       "      <td>NaN</td>\n",
       "      <td>NaN</td>\n",
       "      <td>120.900000</td>\n",
       "      <td>...</td>\n",
       "      <td>326.000000</td>\n",
       "      <td>NaN</td>\n",
       "      <td>NaN</td>\n",
       "      <td>NaN</td>\n",
       "      <td>23.000000</td>\n",
       "      <td>NaN</td>\n",
       "      <td>NaN</td>\n",
       "      <td>49.000000</td>\n",
       "      <td>54.000000</td>\n",
       "      <td>NaN</td>\n",
       "    </tr>\n",
       "  </tbody>\n",
       "</table>\n",
       "<p>11 rows × 26 columns</p>\n",
       "</div>"
      ],
      "text/plain": [
       "         symboling normalized_losses    make fuel_type aspiration num_doors  \\\n",
       "count   205.000000               205     205       205        205       205   \n",
       "unique         NaN                52      22         2          2         3   \n",
       "top            NaN                 ?  toyota       gas        std      four   \n",
       "freq           NaN                41      32       185        168       114   \n",
       "mean      0.834146               NaN     NaN       NaN        NaN       NaN   \n",
       "std       1.245307               NaN     NaN       NaN        NaN       NaN   \n",
       "min      -2.000000               NaN     NaN       NaN        NaN       NaN   \n",
       "25%       0.000000               NaN     NaN       NaN        NaN       NaN   \n",
       "50%       1.000000               NaN     NaN       NaN        NaN       NaN   \n",
       "75%       2.000000               NaN     NaN       NaN        NaN       NaN   \n",
       "max       3.000000               NaN     NaN       NaN        NaN       NaN   \n",
       "\n",
       "       body_style drive_wheels engine_location  wheel_base  ...  engine_size  \\\n",
       "count         205          205             205  205.000000  ...   205.000000   \n",
       "unique          5            3               2         NaN  ...          NaN   \n",
       "top         sedan          fwd           front         NaN  ...          NaN   \n",
       "freq           96          120             202         NaN  ...          NaN   \n",
       "mean          NaN          NaN             NaN   98.756585  ...   126.907317   \n",
       "std           NaN          NaN             NaN    6.021776  ...    41.642693   \n",
       "min           NaN          NaN             NaN   86.600000  ...    61.000000   \n",
       "25%           NaN          NaN             NaN   94.500000  ...    97.000000   \n",
       "50%           NaN          NaN             NaN   97.000000  ...   120.000000   \n",
       "75%           NaN          NaN             NaN  102.400000  ...   141.000000   \n",
       "max           NaN          NaN             NaN  120.900000  ...   326.000000   \n",
       "\n",
       "        fuel_system  bore  stroke compression_rate horsepower  peak_rpm  \\\n",
       "count           205   205     205       205.000000        205       205   \n",
       "unique            8    39      37              NaN         60        24   \n",
       "top            mpfi  3.62    3.40              NaN         68      5500   \n",
       "freq             94    23      20              NaN         19        37   \n",
       "mean            NaN   NaN     NaN        10.142537        NaN       NaN   \n",
       "std             NaN   NaN     NaN         3.972040        NaN       NaN   \n",
       "min             NaN   NaN     NaN         7.000000        NaN       NaN   \n",
       "25%             NaN   NaN     NaN         8.600000        NaN       NaN   \n",
       "50%             NaN   NaN     NaN         9.000000        NaN       NaN   \n",
       "75%             NaN   NaN     NaN         9.400000        NaN       NaN   \n",
       "max             NaN   NaN     NaN        23.000000        NaN       NaN   \n",
       "\n",
       "          city_mpg highway_mpg price  \n",
       "count   205.000000  205.000000   205  \n",
       "unique         NaN         NaN   187  \n",
       "top            NaN         NaN     ?  \n",
       "freq           NaN         NaN     4  \n",
       "mean     25.219512   30.751220   NaN  \n",
       "std       6.542142    6.886443   NaN  \n",
       "min      13.000000   16.000000   NaN  \n",
       "25%      19.000000   25.000000   NaN  \n",
       "50%      24.000000   30.000000   NaN  \n",
       "75%      30.000000   34.000000   NaN  \n",
       "max      49.000000   54.000000   NaN  \n",
       "\n",
       "[11 rows x 26 columns]"
      ]
     },
     "execution_count": 5,
     "metadata": {},
     "output_type": "execute_result"
    }
   ],
   "source": [
    "df.describe(include='all')"
   ]
  },
  {
   "cell_type": "markdown",
   "id": "e2dbd4db",
   "metadata": {},
   "source": [
    "# Initial observations:\n",
    "* we're managing a fairly small dataset - we should try to avoid removing rows\n",
    "* we can see missing values replaced with '?' sign\n",
    "* some columns which seem numeric are not numeric at all - this is probably due to storing missing values as '?'"
   ]
  },
  {
   "cell_type": "code",
   "execution_count": 6,
   "id": "92b3342b",
   "metadata": {},
   "outputs": [],
   "source": [
    "numeric_cols = ['normalized_losses', 'price', 'bore', 'stroke', 'horsepower', 'peak_rpm',]\n",
    "df[numeric_cols] = np.where(df[numeric_cols] == '?', '', df[numeric_cols])"
   ]
  },
  {
   "cell_type": "code",
   "execution_count": 7,
   "id": "897b4763",
   "metadata": {},
   "outputs": [],
   "source": [
    "df[numeric_cols] = df[numeric_cols].apply(pd.to_numeric)"
   ]
  },
  {
   "cell_type": "code",
   "execution_count": 8,
   "id": "8b5760be",
   "metadata": {},
   "outputs": [
    {
     "data": {
      "text/html": [
       "<div>\n",
       "<style scoped>\n",
       "    .dataframe tbody tr th:only-of-type {\n",
       "        vertical-align: middle;\n",
       "    }\n",
       "\n",
       "    .dataframe tbody tr th {\n",
       "        vertical-align: top;\n",
       "    }\n",
       "\n",
       "    .dataframe thead th {\n",
       "        text-align: right;\n",
       "    }\n",
       "</style>\n",
       "<table border=\"1\" class=\"dataframe\">\n",
       "  <thead>\n",
       "    <tr style=\"text-align: right;\">\n",
       "      <th></th>\n",
       "      <th>symboling</th>\n",
       "      <th>normalized_losses</th>\n",
       "      <th>make</th>\n",
       "      <th>fuel_type</th>\n",
       "      <th>aspiration</th>\n",
       "      <th>num_doors</th>\n",
       "      <th>body_style</th>\n",
       "      <th>drive_wheels</th>\n",
       "      <th>engine_location</th>\n",
       "      <th>wheel_base</th>\n",
       "      <th>...</th>\n",
       "      <th>engine_size</th>\n",
       "      <th>fuel_system</th>\n",
       "      <th>bore</th>\n",
       "      <th>stroke</th>\n",
       "      <th>compression_rate</th>\n",
       "      <th>horsepower</th>\n",
       "      <th>peak_rpm</th>\n",
       "      <th>city_mpg</th>\n",
       "      <th>highway_mpg</th>\n",
       "      <th>price</th>\n",
       "    </tr>\n",
       "  </thead>\n",
       "  <tbody>\n",
       "    <tr>\n",
       "      <th>0</th>\n",
       "      <td>3</td>\n",
       "      <td>NaN</td>\n",
       "      <td>alfa-romero</td>\n",
       "      <td>gas</td>\n",
       "      <td>std</td>\n",
       "      <td>two</td>\n",
       "      <td>convertible</td>\n",
       "      <td>rwd</td>\n",
       "      <td>front</td>\n",
       "      <td>88.6</td>\n",
       "      <td>...</td>\n",
       "      <td>130</td>\n",
       "      <td>mpfi</td>\n",
       "      <td>3.47</td>\n",
       "      <td>2.68</td>\n",
       "      <td>9.0</td>\n",
       "      <td>111.0</td>\n",
       "      <td>5000.0</td>\n",
       "      <td>21</td>\n",
       "      <td>27</td>\n",
       "      <td>13495.0</td>\n",
       "    </tr>\n",
       "    <tr>\n",
       "      <th>1</th>\n",
       "      <td>3</td>\n",
       "      <td>NaN</td>\n",
       "      <td>alfa-romero</td>\n",
       "      <td>gas</td>\n",
       "      <td>std</td>\n",
       "      <td>two</td>\n",
       "      <td>convertible</td>\n",
       "      <td>rwd</td>\n",
       "      <td>front</td>\n",
       "      <td>88.6</td>\n",
       "      <td>...</td>\n",
       "      <td>130</td>\n",
       "      <td>mpfi</td>\n",
       "      <td>3.47</td>\n",
       "      <td>2.68</td>\n",
       "      <td>9.0</td>\n",
       "      <td>111.0</td>\n",
       "      <td>5000.0</td>\n",
       "      <td>21</td>\n",
       "      <td>27</td>\n",
       "      <td>16500.0</td>\n",
       "    </tr>\n",
       "    <tr>\n",
       "      <th>2</th>\n",
       "      <td>1</td>\n",
       "      <td>NaN</td>\n",
       "      <td>alfa-romero</td>\n",
       "      <td>gas</td>\n",
       "      <td>std</td>\n",
       "      <td>two</td>\n",
       "      <td>hatchback</td>\n",
       "      <td>rwd</td>\n",
       "      <td>front</td>\n",
       "      <td>94.5</td>\n",
       "      <td>...</td>\n",
       "      <td>152</td>\n",
       "      <td>mpfi</td>\n",
       "      <td>2.68</td>\n",
       "      <td>3.47</td>\n",
       "      <td>9.0</td>\n",
       "      <td>154.0</td>\n",
       "      <td>5000.0</td>\n",
       "      <td>19</td>\n",
       "      <td>26</td>\n",
       "      <td>16500.0</td>\n",
       "    </tr>\n",
       "    <tr>\n",
       "      <th>3</th>\n",
       "      <td>2</td>\n",
       "      <td>164.0</td>\n",
       "      <td>audi</td>\n",
       "      <td>gas</td>\n",
       "      <td>std</td>\n",
       "      <td>four</td>\n",
       "      <td>sedan</td>\n",
       "      <td>fwd</td>\n",
       "      <td>front</td>\n",
       "      <td>99.8</td>\n",
       "      <td>...</td>\n",
       "      <td>109</td>\n",
       "      <td>mpfi</td>\n",
       "      <td>3.19</td>\n",
       "      <td>3.40</td>\n",
       "      <td>10.0</td>\n",
       "      <td>102.0</td>\n",
       "      <td>5500.0</td>\n",
       "      <td>24</td>\n",
       "      <td>30</td>\n",
       "      <td>13950.0</td>\n",
       "    </tr>\n",
       "    <tr>\n",
       "      <th>4</th>\n",
       "      <td>2</td>\n",
       "      <td>164.0</td>\n",
       "      <td>audi</td>\n",
       "      <td>gas</td>\n",
       "      <td>std</td>\n",
       "      <td>four</td>\n",
       "      <td>sedan</td>\n",
       "      <td>4wd</td>\n",
       "      <td>front</td>\n",
       "      <td>99.4</td>\n",
       "      <td>...</td>\n",
       "      <td>136</td>\n",
       "      <td>mpfi</td>\n",
       "      <td>3.19</td>\n",
       "      <td>3.40</td>\n",
       "      <td>8.0</td>\n",
       "      <td>115.0</td>\n",
       "      <td>5500.0</td>\n",
       "      <td>18</td>\n",
       "      <td>22</td>\n",
       "      <td>17450.0</td>\n",
       "    </tr>\n",
       "    <tr>\n",
       "      <th>...</th>\n",
       "      <td>...</td>\n",
       "      <td>...</td>\n",
       "      <td>...</td>\n",
       "      <td>...</td>\n",
       "      <td>...</td>\n",
       "      <td>...</td>\n",
       "      <td>...</td>\n",
       "      <td>...</td>\n",
       "      <td>...</td>\n",
       "      <td>...</td>\n",
       "      <td>...</td>\n",
       "      <td>...</td>\n",
       "      <td>...</td>\n",
       "      <td>...</td>\n",
       "      <td>...</td>\n",
       "      <td>...</td>\n",
       "      <td>...</td>\n",
       "      <td>...</td>\n",
       "      <td>...</td>\n",
       "      <td>...</td>\n",
       "      <td>...</td>\n",
       "    </tr>\n",
       "    <tr>\n",
       "      <th>200</th>\n",
       "      <td>-1</td>\n",
       "      <td>95.0</td>\n",
       "      <td>volvo</td>\n",
       "      <td>gas</td>\n",
       "      <td>std</td>\n",
       "      <td>four</td>\n",
       "      <td>sedan</td>\n",
       "      <td>rwd</td>\n",
       "      <td>front</td>\n",
       "      <td>109.1</td>\n",
       "      <td>...</td>\n",
       "      <td>141</td>\n",
       "      <td>mpfi</td>\n",
       "      <td>3.78</td>\n",
       "      <td>3.15</td>\n",
       "      <td>9.5</td>\n",
       "      <td>114.0</td>\n",
       "      <td>5400.0</td>\n",
       "      <td>23</td>\n",
       "      <td>28</td>\n",
       "      <td>16845.0</td>\n",
       "    </tr>\n",
       "    <tr>\n",
       "      <th>201</th>\n",
       "      <td>-1</td>\n",
       "      <td>95.0</td>\n",
       "      <td>volvo</td>\n",
       "      <td>gas</td>\n",
       "      <td>turbo</td>\n",
       "      <td>four</td>\n",
       "      <td>sedan</td>\n",
       "      <td>rwd</td>\n",
       "      <td>front</td>\n",
       "      <td>109.1</td>\n",
       "      <td>...</td>\n",
       "      <td>141</td>\n",
       "      <td>mpfi</td>\n",
       "      <td>3.78</td>\n",
       "      <td>3.15</td>\n",
       "      <td>8.7</td>\n",
       "      <td>160.0</td>\n",
       "      <td>5300.0</td>\n",
       "      <td>19</td>\n",
       "      <td>25</td>\n",
       "      <td>19045.0</td>\n",
       "    </tr>\n",
       "    <tr>\n",
       "      <th>202</th>\n",
       "      <td>-1</td>\n",
       "      <td>95.0</td>\n",
       "      <td>volvo</td>\n",
       "      <td>gas</td>\n",
       "      <td>std</td>\n",
       "      <td>four</td>\n",
       "      <td>sedan</td>\n",
       "      <td>rwd</td>\n",
       "      <td>front</td>\n",
       "      <td>109.1</td>\n",
       "      <td>...</td>\n",
       "      <td>173</td>\n",
       "      <td>mpfi</td>\n",
       "      <td>3.58</td>\n",
       "      <td>2.87</td>\n",
       "      <td>8.8</td>\n",
       "      <td>134.0</td>\n",
       "      <td>5500.0</td>\n",
       "      <td>18</td>\n",
       "      <td>23</td>\n",
       "      <td>21485.0</td>\n",
       "    </tr>\n",
       "    <tr>\n",
       "      <th>203</th>\n",
       "      <td>-1</td>\n",
       "      <td>95.0</td>\n",
       "      <td>volvo</td>\n",
       "      <td>diesel</td>\n",
       "      <td>turbo</td>\n",
       "      <td>four</td>\n",
       "      <td>sedan</td>\n",
       "      <td>rwd</td>\n",
       "      <td>front</td>\n",
       "      <td>109.1</td>\n",
       "      <td>...</td>\n",
       "      <td>145</td>\n",
       "      <td>idi</td>\n",
       "      <td>3.01</td>\n",
       "      <td>3.40</td>\n",
       "      <td>23.0</td>\n",
       "      <td>106.0</td>\n",
       "      <td>4800.0</td>\n",
       "      <td>26</td>\n",
       "      <td>27</td>\n",
       "      <td>22470.0</td>\n",
       "    </tr>\n",
       "    <tr>\n",
       "      <th>204</th>\n",
       "      <td>-1</td>\n",
       "      <td>95.0</td>\n",
       "      <td>volvo</td>\n",
       "      <td>gas</td>\n",
       "      <td>turbo</td>\n",
       "      <td>four</td>\n",
       "      <td>sedan</td>\n",
       "      <td>rwd</td>\n",
       "      <td>front</td>\n",
       "      <td>109.1</td>\n",
       "      <td>...</td>\n",
       "      <td>141</td>\n",
       "      <td>mpfi</td>\n",
       "      <td>3.78</td>\n",
       "      <td>3.15</td>\n",
       "      <td>9.5</td>\n",
       "      <td>114.0</td>\n",
       "      <td>5400.0</td>\n",
       "      <td>19</td>\n",
       "      <td>25</td>\n",
       "      <td>22625.0</td>\n",
       "    </tr>\n",
       "  </tbody>\n",
       "</table>\n",
       "<p>205 rows × 26 columns</p>\n",
       "</div>"
      ],
      "text/plain": [
       "     symboling  normalized_losses         make fuel_type aspiration num_doors  \\\n",
       "0            3                NaN  alfa-romero       gas        std       two   \n",
       "1            3                NaN  alfa-romero       gas        std       two   \n",
       "2            1                NaN  alfa-romero       gas        std       two   \n",
       "3            2              164.0         audi       gas        std      four   \n",
       "4            2              164.0         audi       gas        std      four   \n",
       "..         ...                ...          ...       ...        ...       ...   \n",
       "200         -1               95.0        volvo       gas        std      four   \n",
       "201         -1               95.0        volvo       gas      turbo      four   \n",
       "202         -1               95.0        volvo       gas        std      four   \n",
       "203         -1               95.0        volvo    diesel      turbo      four   \n",
       "204         -1               95.0        volvo       gas      turbo      four   \n",
       "\n",
       "      body_style drive_wheels engine_location  wheel_base  ...  engine_size  \\\n",
       "0    convertible          rwd           front        88.6  ...          130   \n",
       "1    convertible          rwd           front        88.6  ...          130   \n",
       "2      hatchback          rwd           front        94.5  ...          152   \n",
       "3          sedan          fwd           front        99.8  ...          109   \n",
       "4          sedan          4wd           front        99.4  ...          136   \n",
       "..           ...          ...             ...         ...  ...          ...   \n",
       "200        sedan          rwd           front       109.1  ...          141   \n",
       "201        sedan          rwd           front       109.1  ...          141   \n",
       "202        sedan          rwd           front       109.1  ...          173   \n",
       "203        sedan          rwd           front       109.1  ...          145   \n",
       "204        sedan          rwd           front       109.1  ...          141   \n",
       "\n",
       "     fuel_system  bore  stroke compression_rate horsepower  peak_rpm city_mpg  \\\n",
       "0           mpfi  3.47    2.68              9.0      111.0    5000.0       21   \n",
       "1           mpfi  3.47    2.68              9.0      111.0    5000.0       21   \n",
       "2           mpfi  2.68    3.47              9.0      154.0    5000.0       19   \n",
       "3           mpfi  3.19    3.40             10.0      102.0    5500.0       24   \n",
       "4           mpfi  3.19    3.40              8.0      115.0    5500.0       18   \n",
       "..           ...   ...     ...              ...        ...       ...      ...   \n",
       "200         mpfi  3.78    3.15              9.5      114.0    5400.0       23   \n",
       "201         mpfi  3.78    3.15              8.7      160.0    5300.0       19   \n",
       "202         mpfi  3.58    2.87              8.8      134.0    5500.0       18   \n",
       "203          idi  3.01    3.40             23.0      106.0    4800.0       26   \n",
       "204         mpfi  3.78    3.15              9.5      114.0    5400.0       19   \n",
       "\n",
       "     highway_mpg    price  \n",
       "0             27  13495.0  \n",
       "1             27  16500.0  \n",
       "2             26  16500.0  \n",
       "3             30  13950.0  \n",
       "4             22  17450.0  \n",
       "..           ...      ...  \n",
       "200           28  16845.0  \n",
       "201           25  19045.0  \n",
       "202           23  21485.0  \n",
       "203           27  22470.0  \n",
       "204           25  22625.0  \n",
       "\n",
       "[205 rows x 26 columns]"
      ]
     },
     "execution_count": 8,
     "metadata": {},
     "output_type": "execute_result"
    }
   ],
   "source": [
    "df"
   ]
  },
  {
   "cell_type": "code",
   "execution_count": 9,
   "id": "f972b5f7",
   "metadata": {
    "scrolled": true
   },
   "outputs": [
    {
     "data": {
      "text/plain": [
       "normalized_losses    41\n",
       "bore                  4\n",
       "stroke                4\n",
       "horsepower            2\n",
       "peak_rpm              2\n",
       "price                 4\n",
       "dtype: int64"
      ]
     },
     "execution_count": 9,
     "metadata": {},
     "output_type": "execute_result"
    }
   ],
   "source": [
    "df[df.columns[df.isna().any()]].isna().sum()"
   ]
  },
  {
   "cell_type": "markdown",
   "id": "764ce02e",
   "metadata": {},
   "source": [
    "# We have some missing values - instead of applying 1 method to a single dataframe, we'll create 6 different dataframes:\n",
    "* numeric_a - where we've dropped rows without the price value, and filled the remaining empty cells with avg values for their columns\n",
    "* numeric_b - in this df we've dropped rows empty rows from columns:  'bore', 'stroke', 'horsepower', 'peak_rpm', 'price', the remaining empty cells were  filled with avg values for their columns\n",
    "* numeric_c - we've dropped empty rows from columns:  'bore', 'stroke', 'horsepower', 'peak_rpm', then **we took special care filling in the missing values in price column**, the remaining empty cells(normalized losses) were  filled with avg values for their columns\n",
    "\n",
    "We've alsor created normalized versions of the above dataframes: numeric_a_n, numeric_b_n, numeric_c_n"
   ]
  },
  {
   "cell_type": "code",
   "execution_count": 10,
   "id": "42c75ec2",
   "metadata": {},
   "outputs": [],
   "source": [
    "numeric = df.loc[:, df.dtypes != object].copy()"
   ]
  },
  {
   "cell_type": "code",
   "execution_count": 11,
   "id": "ab783676",
   "metadata": {},
   "outputs": [],
   "source": [
    "numeric_a = numeric.dropna(subset = ['price']).copy()\n",
    "numeric_a = numeric_a.fillna(numeric.mean())\n",
    "\n",
    "numeric_b = numeric.dropna(subset = [ 'bore', 'stroke', 'horsepower', 'peak_rpm', 'price']).copy()\n",
    "numeric_b = numeric_b.fillna(numeric_b.mean())\n"
   ]
  },
  {
   "cell_type": "code",
   "execution_count": 12,
   "id": "70415275",
   "metadata": {},
   "outputs": [
    {
     "data": {
      "text/html": [
       "<div>\n",
       "<style scoped>\n",
       "    .dataframe tbody tr th:only-of-type {\n",
       "        vertical-align: middle;\n",
       "    }\n",
       "\n",
       "    .dataframe tbody tr th {\n",
       "        vertical-align: top;\n",
       "    }\n",
       "\n",
       "    .dataframe thead th {\n",
       "        text-align: right;\n",
       "    }\n",
       "</style>\n",
       "<table border=\"1\" class=\"dataframe\">\n",
       "  <thead>\n",
       "    <tr style=\"text-align: right;\">\n",
       "      <th></th>\n",
       "      <th>price_A_corr</th>\n",
       "      <th>price_B_corr</th>\n",
       "    </tr>\n",
       "  </thead>\n",
       "  <tbody>\n",
       "    <tr>\n",
       "      <th>highway_mpg</th>\n",
       "      <td>-0.704692</td>\n",
       "      <td>-0.715590</td>\n",
       "    </tr>\n",
       "    <tr>\n",
       "      <th>city_mpg</th>\n",
       "      <td>-0.686571</td>\n",
       "      <td>-0.702685</td>\n",
       "    </tr>\n",
       "    <tr>\n",
       "      <th>peak_rpm</th>\n",
       "      <td>-0.101616</td>\n",
       "      <td>-0.104333</td>\n",
       "    </tr>\n",
       "    <tr>\n",
       "      <th>symboling</th>\n",
       "      <td>-0.082391</td>\n",
       "      <td>-0.084118</td>\n",
       "    </tr>\n",
       "    <tr>\n",
       "      <th>compression_rate</th>\n",
       "      <td>0.071107</td>\n",
       "      <td>0.069500</td>\n",
       "    </tr>\n",
       "    <tr>\n",
       "      <th>stroke</th>\n",
       "      <td>0.082269</td>\n",
       "      <td>0.093746</td>\n",
       "    </tr>\n",
       "    <tr>\n",
       "      <th>normalized_losses</th>\n",
       "      <td>0.133999</td>\n",
       "      <td>0.131736</td>\n",
       "    </tr>\n",
       "    <tr>\n",
       "      <th>height</th>\n",
       "      <td>0.135486</td>\n",
       "      <td>0.138291</td>\n",
       "    </tr>\n",
       "    <tr>\n",
       "      <th>bore</th>\n",
       "      <td>0.543155</td>\n",
       "      <td>0.546873</td>\n",
       "    </tr>\n",
       "    <tr>\n",
       "      <th>wheel_base</th>\n",
       "      <td>0.584642</td>\n",
       "      <td>0.585793</td>\n",
       "    </tr>\n",
       "    <tr>\n",
       "      <th>length</th>\n",
       "      <td>0.690628</td>\n",
       "      <td>0.695331</td>\n",
       "    </tr>\n",
       "    <tr>\n",
       "      <th>width</th>\n",
       "      <td>0.751265</td>\n",
       "      <td>0.754273</td>\n",
       "    </tr>\n",
       "    <tr>\n",
       "      <th>horsepower</th>\n",
       "      <td>0.809575</td>\n",
       "      <td>0.811027</td>\n",
       "    </tr>\n",
       "    <tr>\n",
       "      <th>curb_weight</th>\n",
       "      <td>0.834415</td>\n",
       "      <td>0.835729</td>\n",
       "    </tr>\n",
       "    <tr>\n",
       "      <th>engine_size</th>\n",
       "      <td>0.872335</td>\n",
       "      <td>0.888942</td>\n",
       "    </tr>\n",
       "    <tr>\n",
       "      <th>price</th>\n",
       "      <td>1.000000</td>\n",
       "      <td>1.000000</td>\n",
       "    </tr>\n",
       "  </tbody>\n",
       "</table>\n",
       "</div>"
      ],
      "text/plain": [
       "                   price_A_corr  price_B_corr\n",
       "highway_mpg           -0.704692     -0.715590\n",
       "city_mpg              -0.686571     -0.702685\n",
       "peak_rpm              -0.101616     -0.104333\n",
       "symboling             -0.082391     -0.084118\n",
       "compression_rate       0.071107      0.069500\n",
       "stroke                 0.082269      0.093746\n",
       "normalized_losses      0.133999      0.131736\n",
       "height                 0.135486      0.138291\n",
       "bore                   0.543155      0.546873\n",
       "wheel_base             0.584642      0.585793\n",
       "length                 0.690628      0.695331\n",
       "width                  0.751265      0.754273\n",
       "horsepower             0.809575      0.811027\n",
       "curb_weight            0.834415      0.835729\n",
       "engine_size            0.872335      0.888942\n",
       "price                  1.000000      1.000000"
      ]
     },
     "execution_count": 12,
     "metadata": {},
     "output_type": "execute_result"
    }
   ],
   "source": [
    "corr_df = numeric_a.corr()['price'].to_frame().merge(numeric_b.corr()['price'], \n",
    "                                           left_index=True, right_index=True, suffixes=['_A_corr', '_B_corr'])\n",
    "corr_df.sort_values('price_A_corr')"
   ]
  },
  {
   "cell_type": "markdown",
   "id": "0b62121d",
   "metadata": {},
   "source": [
    "# we're expecting engine_size column to have the biggest impact on price predictions"
   ]
  },
  {
   "cell_type": "markdown",
   "id": "a9ae402e",
   "metadata": {},
   "source": [
    "# Is it worth doing all the extra work filling in the missing price values?"
   ]
  },
  {
   "cell_type": "code",
   "execution_count": 13,
   "id": "3700d74d",
   "metadata": {},
   "outputs": [],
   "source": [
    "numeric_c = numeric.dropna(subset = [ 'bore', 'stroke', 'horsepower', 'peak_rpm']).copy()"
   ]
  },
  {
   "cell_type": "markdown",
   "id": "14b156f4",
   "metadata": {},
   "source": [
    "In numeric a and b dataframes we've filled in the missing values, using the mean value for the column. Very simplistic aproach that we're going to modify and upgrade for the dataframe numeric_c. We've checked corelation values for the price column( that's what we're after eventually). Column engine_size has the highest corelation value. That is why we're going to use that column to decide with what values we should be filling in the price column:\n",
    "* We'll divide the engine_size values into 20 bins\n",
    "* we'll assign the price value to our missing rows depending on its engine size"
   ]
  },
  {
   "cell_type": "code",
   "execution_count": 14,
   "id": "8b0c5345",
   "metadata": {},
   "outputs": [
    {
     "data": {
      "text/html": [
       "<div>\n",
       "<style scoped>\n",
       "    .dataframe tbody tr th:only-of-type {\n",
       "        vertical-align: middle;\n",
       "    }\n",
       "\n",
       "    .dataframe tbody tr th {\n",
       "        vertical-align: top;\n",
       "    }\n",
       "\n",
       "    .dataframe thead th {\n",
       "        text-align: right;\n",
       "    }\n",
       "</style>\n",
       "<table border=\"1\" class=\"dataframe\">\n",
       "  <thead>\n",
       "    <tr style=\"text-align: right;\">\n",
       "      <th></th>\n",
       "      <th>symboling</th>\n",
       "      <th>normalized_losses</th>\n",
       "      <th>wheel_base</th>\n",
       "      <th>length</th>\n",
       "      <th>width</th>\n",
       "      <th>height</th>\n",
       "      <th>curb_weight</th>\n",
       "      <th>engine_size</th>\n",
       "      <th>bore</th>\n",
       "      <th>stroke</th>\n",
       "      <th>compression_rate</th>\n",
       "      <th>horsepower</th>\n",
       "      <th>peak_rpm</th>\n",
       "      <th>city_mpg</th>\n",
       "      <th>highway_mpg</th>\n",
       "      <th>price</th>\n",
       "    </tr>\n",
       "  </thead>\n",
       "  <tbody>\n",
       "    <tr>\n",
       "      <th>9</th>\n",
       "      <td>0</td>\n",
       "      <td>NaN</td>\n",
       "      <td>99.5</td>\n",
       "      <td>178.2</td>\n",
       "      <td>67.9</td>\n",
       "      <td>52.0</td>\n",
       "      <td>3053</td>\n",
       "      <td>131</td>\n",
       "      <td>3.13</td>\n",
       "      <td>3.40</td>\n",
       "      <td>7.0</td>\n",
       "      <td>160.0</td>\n",
       "      <td>5500.0</td>\n",
       "      <td>16</td>\n",
       "      <td>22</td>\n",
       "      <td>NaN</td>\n",
       "    </tr>\n",
       "    <tr>\n",
       "      <th>44</th>\n",
       "      <td>1</td>\n",
       "      <td>NaN</td>\n",
       "      <td>94.5</td>\n",
       "      <td>155.9</td>\n",
       "      <td>63.6</td>\n",
       "      <td>52.0</td>\n",
       "      <td>1874</td>\n",
       "      <td>90</td>\n",
       "      <td>3.03</td>\n",
       "      <td>3.11</td>\n",
       "      <td>9.6</td>\n",
       "      <td>70.0</td>\n",
       "      <td>5400.0</td>\n",
       "      <td>38</td>\n",
       "      <td>43</td>\n",
       "      <td>NaN</td>\n",
       "    </tr>\n",
       "    <tr>\n",
       "      <th>45</th>\n",
       "      <td>0</td>\n",
       "      <td>NaN</td>\n",
       "      <td>94.5</td>\n",
       "      <td>155.9</td>\n",
       "      <td>63.6</td>\n",
       "      <td>52.0</td>\n",
       "      <td>1909</td>\n",
       "      <td>90</td>\n",
       "      <td>3.03</td>\n",
       "      <td>3.11</td>\n",
       "      <td>9.6</td>\n",
       "      <td>70.0</td>\n",
       "      <td>5400.0</td>\n",
       "      <td>38</td>\n",
       "      <td>43</td>\n",
       "      <td>NaN</td>\n",
       "    </tr>\n",
       "    <tr>\n",
       "      <th>129</th>\n",
       "      <td>1</td>\n",
       "      <td>NaN</td>\n",
       "      <td>98.4</td>\n",
       "      <td>175.7</td>\n",
       "      <td>72.3</td>\n",
       "      <td>50.5</td>\n",
       "      <td>3366</td>\n",
       "      <td>203</td>\n",
       "      <td>3.94</td>\n",
       "      <td>3.11</td>\n",
       "      <td>10.0</td>\n",
       "      <td>288.0</td>\n",
       "      <td>5750.0</td>\n",
       "      <td>17</td>\n",
       "      <td>28</td>\n",
       "      <td>NaN</td>\n",
       "    </tr>\n",
       "  </tbody>\n",
       "</table>\n",
       "</div>"
      ],
      "text/plain": [
       "     symboling  normalized_losses  wheel_base  length  width  height  \\\n",
       "9            0                NaN        99.5   178.2   67.9    52.0   \n",
       "44           1                NaN        94.5   155.9   63.6    52.0   \n",
       "45           0                NaN        94.5   155.9   63.6    52.0   \n",
       "129          1                NaN        98.4   175.7   72.3    50.5   \n",
       "\n",
       "     curb_weight  engine_size  bore  stroke  compression_rate  horsepower  \\\n",
       "9           3053          131  3.13    3.40               7.0       160.0   \n",
       "44          1874           90  3.03    3.11               9.6        70.0   \n",
       "45          1909           90  3.03    3.11               9.6        70.0   \n",
       "129         3366          203  3.94    3.11              10.0       288.0   \n",
       "\n",
       "     peak_rpm  city_mpg  highway_mpg  price  \n",
       "9      5500.0        16           22    NaN  \n",
       "44     5400.0        38           43    NaN  \n",
       "45     5400.0        38           43    NaN  \n",
       "129    5750.0        17           28    NaN  "
      ]
     },
     "execution_count": 14,
     "metadata": {},
     "output_type": "execute_result"
    }
   ],
   "source": [
    "numeric_c[numeric_c['price'].isnull()]"
   ]
  },
  {
   "cell_type": "code",
   "execution_count": 15,
   "id": "2a1d3fef",
   "metadata": {},
   "outputs": [
    {
     "data": {
      "text/plain": [
       "engine_size\n",
       "(87.5, 100.75]      7265.948276\n",
       "(100.75, 114.0]     9754.628571\n",
       "(114.0, 127.25]    11619.034483\n",
       "(140.5, 153.75]    15516.047619\n",
       "(127.25, 140.5]    17510.142857\n",
       "(180.25, 193.5]    21027.000000\n",
       "(153.75, 167.0]    16678.333333\n",
       "(193.5, 206.75]    34528.000000\n",
       "(167.0, 180.25]    17432.750000\n",
       "(206.75, 220.0]    36318.333333\n",
       "(233.25, 246.5]    34620.000000\n",
       "(299.5, 312.75]    43180.000000\n",
       "(246.5, 259.75]    33900.000000\n",
       "(60.734, 74.25]     5151.000000\n",
       "(74.25, 87.5]       5399.000000\n",
       "(312.75, 326.0]    36000.000000\n",
       "(220.0, 233.25]             NaN\n",
       "(259.75, 273.0]             NaN\n",
       "(273.0, 286.25]             NaN\n",
       "(286.25, 299.5]             NaN\n",
       "Name: price, dtype: float64"
      ]
     },
     "execution_count": 15,
     "metadata": {},
     "output_type": "execute_result"
    }
   ],
   "source": [
    "bins = numeric_c['engine_size'].value_counts(bins=20).index\n",
    "numeric_c.groupby(pd.cut(numeric_c.engine_size, bins=bins))['price'].mean()"
   ]
  },
  {
   "cell_type": "code",
   "execution_count": 16,
   "id": "bc9da99f",
   "metadata": {},
   "outputs": [
    {
     "data": {
      "text/html": [
       "<div>\n",
       "<style scoped>\n",
       "    .dataframe tbody tr th:only-of-type {\n",
       "        vertical-align: middle;\n",
       "    }\n",
       "\n",
       "    .dataframe tbody tr th {\n",
       "        vertical-align: top;\n",
       "    }\n",
       "\n",
       "    .dataframe thead th {\n",
       "        text-align: right;\n",
       "    }\n",
       "</style>\n",
       "<table border=\"1\" class=\"dataframe\">\n",
       "  <thead>\n",
       "    <tr style=\"text-align: right;\">\n",
       "      <th></th>\n",
       "      <th>symboling</th>\n",
       "      <th>normalized_losses</th>\n",
       "      <th>wheel_base</th>\n",
       "      <th>length</th>\n",
       "      <th>width</th>\n",
       "      <th>height</th>\n",
       "      <th>curb_weight</th>\n",
       "      <th>engine_size</th>\n",
       "      <th>bore</th>\n",
       "      <th>stroke</th>\n",
       "      <th>compression_rate</th>\n",
       "      <th>horsepower</th>\n",
       "      <th>peak_rpm</th>\n",
       "      <th>city_mpg</th>\n",
       "      <th>highway_mpg</th>\n",
       "      <th>price</th>\n",
       "    </tr>\n",
       "  </thead>\n",
       "  <tbody>\n",
       "    <tr>\n",
       "      <th>9</th>\n",
       "      <td>0</td>\n",
       "      <td>NaN</td>\n",
       "      <td>99.5</td>\n",
       "      <td>178.2</td>\n",
       "      <td>67.9</td>\n",
       "      <td>52.0</td>\n",
       "      <td>3053</td>\n",
       "      <td>131</td>\n",
       "      <td>3.13</td>\n",
       "      <td>3.40</td>\n",
       "      <td>7.0</td>\n",
       "      <td>160.0</td>\n",
       "      <td>5500.0</td>\n",
       "      <td>16</td>\n",
       "      <td>22</td>\n",
       "      <td>NaN</td>\n",
       "    </tr>\n",
       "    <tr>\n",
       "      <th>44</th>\n",
       "      <td>1</td>\n",
       "      <td>NaN</td>\n",
       "      <td>94.5</td>\n",
       "      <td>155.9</td>\n",
       "      <td>63.6</td>\n",
       "      <td>52.0</td>\n",
       "      <td>1874</td>\n",
       "      <td>90</td>\n",
       "      <td>3.03</td>\n",
       "      <td>3.11</td>\n",
       "      <td>9.6</td>\n",
       "      <td>70.0</td>\n",
       "      <td>5400.0</td>\n",
       "      <td>38</td>\n",
       "      <td>43</td>\n",
       "      <td>NaN</td>\n",
       "    </tr>\n",
       "    <tr>\n",
       "      <th>45</th>\n",
       "      <td>0</td>\n",
       "      <td>NaN</td>\n",
       "      <td>94.5</td>\n",
       "      <td>155.9</td>\n",
       "      <td>63.6</td>\n",
       "      <td>52.0</td>\n",
       "      <td>1909</td>\n",
       "      <td>90</td>\n",
       "      <td>3.03</td>\n",
       "      <td>3.11</td>\n",
       "      <td>9.6</td>\n",
       "      <td>70.0</td>\n",
       "      <td>5400.0</td>\n",
       "      <td>38</td>\n",
       "      <td>43</td>\n",
       "      <td>NaN</td>\n",
       "    </tr>\n",
       "    <tr>\n",
       "      <th>129</th>\n",
       "      <td>1</td>\n",
       "      <td>NaN</td>\n",
       "      <td>98.4</td>\n",
       "      <td>175.7</td>\n",
       "      <td>72.3</td>\n",
       "      <td>50.5</td>\n",
       "      <td>3366</td>\n",
       "      <td>203</td>\n",
       "      <td>3.94</td>\n",
       "      <td>3.11</td>\n",
       "      <td>10.0</td>\n",
       "      <td>288.0</td>\n",
       "      <td>5750.0</td>\n",
       "      <td>17</td>\n",
       "      <td>28</td>\n",
       "      <td>NaN</td>\n",
       "    </tr>\n",
       "  </tbody>\n",
       "</table>\n",
       "</div>"
      ],
      "text/plain": [
       "     symboling  normalized_losses  wheel_base  length  width  height  \\\n",
       "9            0                NaN        99.5   178.2   67.9    52.0   \n",
       "44           1                NaN        94.5   155.9   63.6    52.0   \n",
       "45           0                NaN        94.5   155.9   63.6    52.0   \n",
       "129          1                NaN        98.4   175.7   72.3    50.5   \n",
       "\n",
       "     curb_weight  engine_size  bore  stroke  compression_rate  horsepower  \\\n",
       "9           3053          131  3.13    3.40               7.0       160.0   \n",
       "44          1874           90  3.03    3.11               9.6        70.0   \n",
       "45          1909           90  3.03    3.11               9.6        70.0   \n",
       "129         3366          203  3.94    3.11              10.0       288.0   \n",
       "\n",
       "     peak_rpm  city_mpg  highway_mpg  price  \n",
       "9      5500.0        16           22    NaN  \n",
       "44     5400.0        38           43    NaN  \n",
       "45     5400.0        38           43    NaN  \n",
       "129    5750.0        17           28    NaN  "
      ]
     },
     "execution_count": 16,
     "metadata": {},
     "output_type": "execute_result"
    }
   ],
   "source": [
    "numeric_c[numeric_c['price'].isnull()]"
   ]
  },
  {
   "cell_type": "code",
   "execution_count": 17,
   "id": "3c2143d7",
   "metadata": {},
   "outputs": [],
   "source": [
    "numeric_c.loc[9,'price'] = 16520.750000\n",
    "numeric_c.loc[44,'price'] = 7265.948276\n",
    "numeric_c.loc[45,'price'] = 7265.948276\n",
    "numeric_c.loc[129,'price'] = 34528.000000"
   ]
  },
  {
   "cell_type": "code",
   "execution_count": 18,
   "id": "d1065ddf",
   "metadata": {},
   "outputs": [
    {
     "data": {
      "text/plain": [
       "normalized_losses    39\n",
       "dtype: int64"
      ]
     },
     "execution_count": 18,
     "metadata": {},
     "output_type": "execute_result"
    }
   ],
   "source": [
    "numeric_c[numeric_c.columns[numeric_c.isna().any()]].isna().sum()"
   ]
  },
  {
   "cell_type": "code",
   "execution_count": 19,
   "id": "00567b4c",
   "metadata": {},
   "outputs": [],
   "source": [
    "numeric_c = numeric_c.fillna(numeric_c.mean())"
   ]
  },
  {
   "cell_type": "code",
   "execution_count": 20,
   "id": "b0eb4015",
   "metadata": {},
   "outputs": [],
   "source": [
    "def spines(ax):\n",
    "    x1 = ax.spines['right'].set_visible(False)\n",
    "    x2 = ax.spines['top'].set_visible(False)\n",
    "    x3 = ax.spines['left'].set_linewidth(2)\n",
    "    x4 = ax.spines['bottom'].set_linewidth(2)\n",
    "    return x1, x2, x3, x4\n",
    "\n",
    "def spines2():\n",
    "    x1 = ax.spines['right'].set_visible(False)\n",
    "    x2 = ax.spines['top'].set_visible(False)\n",
    "    x3 = ax.spines['left'].set_linewidth(3)\n",
    "    x4 = ax.spines['bottom'].set_linewidth(3)\n",
    "    return x1, x2, x3, x4"
   ]
  },
  {
   "cell_type": "code",
   "execution_count": 21,
   "id": "fc766ebc",
   "metadata": {},
   "outputs": [
    {
     "data": {
      "image/png": "[encoded data removed]",
      "text/plain": [
       "<Figure size 1152x576 with 1 Axes>"
      ]
     },
     "metadata": {
      "needs_background": "light"
     },
     "output_type": "display_data"
    }
   ],
   "source": [
    "fig, ax = plt.subplots(figsize=(16,8))\n",
    "plt.scatter(data=numeric_a, x='engine_size', y='price', label='A')\n",
    "plt.scatter(data=numeric_b, x='engine_size', y='price', label= 'B')\n",
    "# plt.scatter(data=numeric_c, x='engine_size', y='price', label= 'C')\n",
    "plt.legend()\n",
    "plt.title('Numeric A and B dataframes')\n",
    "plt.xlabel('Engine size', size=16)\n",
    "plt.ylabel('Price',  size=16)\n",
    "\n",
    "for location in [ 'right', 'top']:\n",
    "        ax.spines[location].set_visible(False)\n",
    "for location in [ 'left', 'bottom']:\n",
    "        ax.spines[location].set_linewidth(2)\n",
    "ax.tick_params(labelsize=12)\n",
    "\n",
    "# ax.set_xlabel('Year',size=15)\n",
    "plt.show()"
   ]
  },
  {
   "cell_type": "code",
   "execution_count": 22,
   "id": "40008ba7",
   "metadata": {},
   "outputs": [],
   "source": [
    "price_col = numeric_a['price']\n",
    "numeric_a_n = (numeric_a - numeric_a.min())/(numeric_a.max() - numeric_a.min()).copy()\n",
    "numeric_a_n['price'] = price_col\n",
    "\n",
    "price_col = numeric_b['price']\n",
    "numeric_b_n = (numeric_b - numeric_b.min())/(numeric_b.max() - numeric_b.min()).copy()\n",
    "numeric_b_n['price'] = price_col\n",
    "\n",
    "price_col = numeric_c['price']\n",
    "numeric_c_n = (numeric_c - numeric_c.min())/(numeric_c.max() - numeric_c.min()).copy()\n",
    "numeric_c_n['price'] = price_col"
   ]
  },
  {
   "cell_type": "markdown",
   "id": "48b26b8c",
   "metadata": {},
   "source": [
    "# which columns?"
   ]
  },
  {
   "cell_type": "code",
   "execution_count": 23,
   "id": "ed08fb9f",
   "metadata": {},
   "outputs": [],
   "source": [
    "def knn_train_test(df, feature_col, target_col):\n",
    "    # randomize\n",
    "    np.random.seed(1)\n",
    "    shuffled_index = np.random.permutation(df.index)\n",
    "    df = df.reindex(index = shuffled_index)\n",
    "    split_loc = int(0.5*len(df))\n",
    "    # split\n",
    "    train_set = df.iloc[:split_loc].copy()\n",
    "    test_set  = df.iloc[split_loc:].copy()\n",
    "    # train and predict\n",
    "    knn = KNeighborsRegressor()\n",
    "    knn.fit(train_set[[feature_col]], train_set[target_col])\n",
    "    predictions = knn.predict(test_set[[feature_col]])\n",
    "    rmse = np.sqrt(mean_squared_error(test_set[target_col], predictions))\n",
    "\n",
    "    return rmse"
   ]
  },
  {
   "cell_type": "code",
   "execution_count": 24,
   "id": "aba280f8",
   "metadata": {},
   "outputs": [
    {
     "data": {
      "text/html": [
       "<div>\n",
       "<style scoped>\n",
       "    .dataframe tbody tr th:only-of-type {\n",
       "        vertical-align: middle;\n",
       "    }\n",
       "\n",
       "    .dataframe tbody tr th {\n",
       "        vertical-align: top;\n",
       "    }\n",
       "\n",
       "    .dataframe thead th {\n",
       "        text-align: right;\n",
       "    }\n",
       "</style>\n",
       "<table border=\"1\" class=\"dataframe\">\n",
       "  <thead>\n",
       "    <tr style=\"text-align: right;\">\n",
       "      <th></th>\n",
       "      <th>numeric_a</th>\n",
       "      <th>numeric_b</th>\n",
       "      <th>numeric_c</th>\n",
       "    </tr>\n",
       "  </thead>\n",
       "  <tbody>\n",
       "    <tr>\n",
       "      <th>engine_size</th>\n",
       "      <td>3271.449938</td>\n",
       "      <td>4206.269209</td>\n",
       "      <td>3014.293169</td>\n",
       "    </tr>\n",
       "    <tr>\n",
       "      <th>horsepower</th>\n",
       "      <td>4064.464572</td>\n",
       "      <td>4543.317619</td>\n",
       "      <td>4441.723870</td>\n",
       "    </tr>\n",
       "    <tr>\n",
       "      <th>curb_weight</th>\n",
       "      <td>4445.141920</td>\n",
       "      <td>4594.629028</td>\n",
       "      <td>3667.924168</td>\n",
       "    </tr>\n",
       "    <tr>\n",
       "      <th>highway_mpg</th>\n",
       "      <td>4643.046278</td>\n",
       "      <td>4368.230464</td>\n",
       "      <td>4139.949639</td>\n",
       "    </tr>\n",
       "    <tr>\n",
       "      <th>city_mpg</th>\n",
       "      <td>4760.449842</td>\n",
       "      <td>4440.237523</td>\n",
       "      <td>4717.122297</td>\n",
       "    </tr>\n",
       "    <tr>\n",
       "      <th>width</th>\n",
       "      <td>4772.459149</td>\n",
       "      <td>5038.643838</td>\n",
       "      <td>4290.488430</td>\n",
       "    </tr>\n",
       "    <tr>\n",
       "      <th>length</th>\n",
       "      <td>5428.810101</td>\n",
       "      <td>5212.513611</td>\n",
       "      <td>6186.265681</td>\n",
       "    </tr>\n",
       "    <tr>\n",
       "      <th>wheel_base</th>\n",
       "      <td>5460.851458</td>\n",
       "      <td>5692.794469</td>\n",
       "      <td>6121.214509</td>\n",
       "    </tr>\n",
       "    <tr>\n",
       "      <th>compression_rate</th>\n",
       "      <td>6610.812153</td>\n",
       "      <td>7020.882648</td>\n",
       "      <td>6210.718457</td>\n",
       "    </tr>\n",
       "    <tr>\n",
       "      <th>bore</th>\n",
       "      <td>6778.637424</td>\n",
       "      <td>7225.667155</td>\n",
       "      <td>7590.625100</td>\n",
       "    </tr>\n",
       "    <tr>\n",
       "      <th>normalized_losses</th>\n",
       "      <td>7339.675755</td>\n",
       "      <td>7083.841259</td>\n",
       "      <td>7217.866305</td>\n",
       "    </tr>\n",
       "    <tr>\n",
       "      <th>peak_rpm</th>\n",
       "      <td>7649.170564</td>\n",
       "      <td>7309.974616</td>\n",
       "      <td>7043.426558</td>\n",
       "    </tr>\n",
       "    <tr>\n",
       "      <th>stroke</th>\n",
       "      <td>7954.301034</td>\n",
       "      <td>7217.395544</td>\n",
       "      <td>7269.245529</td>\n",
       "    </tr>\n",
       "    <tr>\n",
       "      <th>symboling</th>\n",
       "      <td>7979.434920</td>\n",
       "      <td>7368.869758</td>\n",
       "      <td>8050.034443</td>\n",
       "    </tr>\n",
       "    <tr>\n",
       "      <th>height</th>\n",
       "      <td>8073.119759</td>\n",
       "      <td>7574.428009</td>\n",
       "      <td>8304.016043</td>\n",
       "    </tr>\n",
       "  </tbody>\n",
       "</table>\n",
       "</div>"
      ],
      "text/plain": [
       "                     numeric_a    numeric_b    numeric_c\n",
       "engine_size        3271.449938  4206.269209  3014.293169\n",
       "horsepower         4064.464572  4543.317619  4441.723870\n",
       "curb_weight        4445.141920  4594.629028  3667.924168\n",
       "highway_mpg        4643.046278  4368.230464  4139.949639\n",
       "city_mpg           4760.449842  4440.237523  4717.122297\n",
       "width              4772.459149  5038.643838  4290.488430\n",
       "length             5428.810101  5212.513611  6186.265681\n",
       "wheel_base         5460.851458  5692.794469  6121.214509\n",
       "compression_rate   6610.812153  7020.882648  6210.718457\n",
       "bore               6778.637424  7225.667155  7590.625100\n",
       "normalized_losses  7339.675755  7083.841259  7217.866305\n",
       "peak_rpm           7649.170564  7309.974616  7043.426558\n",
       "stroke             7954.301034  7217.395544  7269.245529\n",
       "symboling          7979.434920  7368.869758  8050.034443\n",
       "height             8073.119759  7574.428009  8304.016043"
      ]
     },
     "execution_count": 24,
     "metadata": {},
     "output_type": "execute_result"
    }
   ],
   "source": [
    "all_features = numeric.columns.tolist()\n",
    "all_features.remove('price')\n",
    "\n",
    "rmse_dict_a = {}\n",
    "rmse_dict_b = {}\n",
    "rmse_dict_c = {}\n",
    "for col in all_features:\n",
    "    rmse_dict_a[col] = knn_train_test(numeric_a, col, 'price')\n",
    "for col in all_features:\n",
    "    rmse_dict_b[col] = knn_train_test(numeric_b, col, 'price')\n",
    "for col in all_features:\n",
    "    rmse_dict_c[col] = knn_train_test(numeric_c, col, 'price')\n",
    "\n",
    "rmse_dict_a= dict(sorted(rmse_dict_a.items(), key=lambda item: item[1]))\n",
    "rmse_dict_b = dict(sorted(rmse_dict_b.items(), key=lambda item: item[1]))\n",
    "rmse_dict_c = dict(sorted(rmse_dict_c.items(), key=lambda item: item[1]))\n",
    "\n",
    "results_a = pd.DataFrame.from_dict(rmse_dict_a, orient='index')\n",
    "results_b = pd.DataFrame.from_dict(rmse_dict_b, orient='index')\n",
    "results_c = pd.DataFrame.from_dict(rmse_dict_c, orient='index')\n",
    "\n",
    "results_frame = results_a.merge(results_b, left_index=True, right_index=True, suffixes=['_numeric_A', '_numeric_B'])\n",
    "results_frame2 = results_frame.merge(results_c, left_index=True, right_index=True)\n",
    "results_frame2 = results_frame2.rename(columns={results_frame2.columns[0]: 'numeric_a', results_frame2.columns[1]: 'numeric_b', \n",
    "                              results_frame2.columns[2]: 'numeric_c'\n",
    "                              })\n",
    "results_frame2"
   ]
  },
  {
   "cell_type": "code",
   "execution_count": 25,
   "id": "f3c12498",
   "metadata": {},
   "outputs": [
    {
     "data": {
      "image/png": "[encoded data removed]",
      "text/plain": [
       "<Figure size 1152x576 with 1 Axes>"
      ]
     },
     "metadata": {
      "needs_background": "light"
     },
     "output_type": "display_data"
    }
   ],
   "source": [
    "fig, ax = plt.subplots(figsize=(16,8))\n",
    "plt.scatter( x=results_frame2.index, y=results_frame2['numeric_a'] ,label='numeric_a', s=200, alpha=0.8)\n",
    "plt.scatter( x=results_frame2.index, y=results_frame2['numeric_b'] ,label='numeric_a', s=200, alpha=0.8)\n",
    "plt.scatter( x=results_frame2.index, y=results_frame2['numeric_c'] ,label='numeric_a', s=200, alpha=0.8)\n",
    "spines(ax)\n",
    "ax.tick_params(axis = 'x',labelsize=12, rotation=65)\n",
    "plt.legend(loc=2)\n",
    "plt.xlabel('column', size=16)\n",
    "plt.ylabel('RMSE',  size=16)\n",
    "plt.title('RMSE results for each column and dataframe')\n",
    "plt.show()\n"
   ]
  },
  {
   "cell_type": "markdown",
   "id": "1153e407",
   "metadata": {},
   "source": [
    "# Observations:\n",
    "* taking extra care with filling in missing price values in dataframe 'numeric_c' paid of\n",
    "* as expected 'engine_size' column delivers the best results (lowest rmse)\n",
    "* big difference between numeric a and b is looks odd, we'll try a different arrangement of indexes:"
   ]
  },
  {
   "cell_type": "markdown",
   "id": "e193910f",
   "metadata": {},
   "source": [
    "# random seed and normalized or not? "
   ]
  },
  {
   "cell_type": "code",
   "execution_count": 26,
   "id": "cfdeb7da",
   "metadata": {},
   "outputs": [],
   "source": [
    "def knn_train_test_v2(df, feature_col, target_col, n):\n",
    "    \n",
    "    # randomize \n",
    "    np.random.seed(n)\n",
    "    shuffled_index = np.random.permutation(df.index)\n",
    "    df = df.reindex(index = shuffled_index)\n",
    "    split_loc = int(0.5*len(df))\n",
    "    # split\n",
    "    train_set = df.iloc[:split_loc].copy()\n",
    "    test_set  = df.iloc[split_loc:].copy()\n",
    "    \n",
    "    # train and test \n",
    "    knn = KNeighborsRegressor()\n",
    "    knn.fit(train_set[[feature_col]], train_set[target_col])\n",
    "    predictions = knn.predict(test_set[[feature_col]])\n",
    "    rmse = np.sqrt(mean_squared_error(test_set[target_col], predictions))\n",
    "\n",
    "    return rmse"
   ]
  },
  {
   "cell_type": "code",
   "execution_count": 27,
   "id": "7b97d72d",
   "metadata": {},
   "outputs": [],
   "source": [
    "df_list = [numeric_a, numeric_b, numeric_c]\n",
    "results = []\n",
    "def df_seed_check(df_list, col_name,n):\n",
    "    best_results = []\n",
    "#     results = []\n",
    "    for df in df_list:\n",
    "        seed_dictionary = {}\n",
    "        for i in list(range(0,n)):\n",
    "            seed_dictionary[i] = knn_train_test_v2(df,col_name, 'price', i)\n",
    "#             results.append(min(seed_dictionary.items(), key=lambda x: x[1])) \n",
    "            results.append(seed_dictionary[i])\n",
    "            \n",
    "        best_results.append(min(seed_dictionary.items(), key=lambda x: x[1]))   \n",
    "    return best_results"
   ]
  },
  {
   "cell_type": "code",
   "execution_count": 28,
   "id": "d611c249",
   "metadata": {},
   "outputs": [
    {
     "data": {
      "text/html": [
       "<div>\n",
       "<style scoped>\n",
       "    .dataframe tbody tr th:only-of-type {\n",
       "        vertical-align: middle;\n",
       "    }\n",
       "\n",
       "    .dataframe tbody tr th {\n",
       "        vertical-align: top;\n",
       "    }\n",
       "\n",
       "    .dataframe thead th {\n",
       "        text-align: right;\n",
       "    }\n",
       "</style>\n",
       "<table border=\"1\" class=\"dataframe\">\n",
       "  <thead>\n",
       "    <tr style=\"text-align: right;\">\n",
       "      <th></th>\n",
       "      <th>numeric A</th>\n",
       "      <th>numeric B</th>\n",
       "      <th>numeric C</th>\n",
       "    </tr>\n",
       "  </thead>\n",
       "  <tbody>\n",
       "    <tr>\n",
       "      <th>horsepower 10 seeds</th>\n",
       "      <td>(3, 3741.7302132188593)</td>\n",
       "      <td>(7, 3958.9520200607203)</td>\n",
       "      <td>(3, 3782.1773239485788)</td>\n",
       "    </tr>\n",
       "    <tr>\n",
       "      <th>curb_weight 10 seeds</th>\n",
       "      <td>(0, 3787.561329791334)</td>\n",
       "      <td>(3, 3909.7204880520394)</td>\n",
       "      <td>(1, 3667.9241682927845)</td>\n",
       "    </tr>\n",
       "    <tr>\n",
       "      <th>engine_size 10 seeds</th>\n",
       "      <td>(0, 3205.3630293773294)</td>\n",
       "      <td>(5, 2981.0871157745014)</td>\n",
       "      <td>(7, 2827.3963605665767)</td>\n",
       "    </tr>\n",
       "    <tr>\n",
       "      <th>horsepower 1000 seeds</th>\n",
       "      <td>(882, 2927.69420919847)</td>\n",
       "      <td>(128, 2773.6407302331286)</td>\n",
       "      <td>(251, 3022.0747740540983)</td>\n",
       "    </tr>\n",
       "    <tr>\n",
       "      <th>curb_weight 1000 seeds</th>\n",
       "      <td>(982, 3065.7514839895553)</td>\n",
       "      <td>(426, 2871.5644242205294)</td>\n",
       "      <td>(252, 3296.6267655401803)</td>\n",
       "    </tr>\n",
       "    <tr>\n",
       "      <th>engine_size 1000 seeds</th>\n",
       "      <td>(788, 2497.602611218277)</td>\n",
       "      <td>(289, 2469.6304606650965)</td>\n",
       "      <td>(788, 2357.8562423336266)</td>\n",
       "    </tr>\n",
       "  </tbody>\n",
       "</table>\n",
       "</div>"
      ],
      "text/plain": [
       "                                        numeric A                  numeric B  \\\n",
       "horsepower 10 seeds       (3, 3741.7302132188593)    (7, 3958.9520200607203)   \n",
       "curb_weight 10 seeds       (0, 3787.561329791334)    (3, 3909.7204880520394)   \n",
       "engine_size 10 seeds      (0, 3205.3630293773294)    (5, 2981.0871157745014)   \n",
       "horsepower 1000 seeds     (882, 2927.69420919847)  (128, 2773.6407302331286)   \n",
       "curb_weight 1000 seeds  (982, 3065.7514839895553)  (426, 2871.5644242205294)   \n",
       "engine_size 1000 seeds   (788, 2497.602611218277)  (289, 2469.6304606650965)   \n",
       "\n",
       "                                        numeric C  \n",
       "horsepower 10 seeds       (3, 3782.1773239485788)  \n",
       "curb_weight 10 seeds      (1, 3667.9241682927845)  \n",
       "engine_size 10 seeds      (7, 2827.3963605665767)  \n",
       "horsepower 1000 seeds   (251, 3022.0747740540983)  \n",
       "curb_weight 1000 seeds  (252, 3296.6267655401803)  \n",
       "engine_size 1000 seeds  (788, 2357.8562423336266)  "
      ]
     },
     "execution_count": 28,
     "metadata": {},
     "output_type": "execute_result"
    }
   ],
   "source": [
    "# check rmse results for random seed 0-10 and 0-1000\n",
    "nums = pd.DataFrame([df_seed_check(df_list,'horsepower',10),\n",
    "             df_seed_check(df_list,'curb_weight',10),\n",
    "              df_seed_check(df_list,'engine_size',10),\n",
    "              df_seed_check(df_list,'horsepower',1000),\n",
    "              df_seed_check(df_list,'curb_weight',1000), df_seed_check(df_list,'engine_size',1000)\n",
    "             ], \n",
    "             columns=('numeric A','numeric B','numeric C'), index=('horsepower 10 seeds',\n",
    "                                                                   'curb_weight 10 seeds',\n",
    "                                                                   'engine_size 10 seeds',\n",
    "                                                                  'horsepower 1000 seeds',\n",
    "                                                                  'curb_weight 1000 seeds',\n",
    "                                                                   'engine_size 1000 seeds'\n",
    "                                                                  ))\n",
    "\n",
    "nums"
   ]
  },
  {
   "cell_type": "code",
   "execution_count": 29,
   "id": "b5cf3472",
   "metadata": {},
   "outputs": [
    {
     "data": {
      "text/html": [
       "<div>\n",
       "<style scoped>\n",
       "    .dataframe tbody tr th:only-of-type {\n",
       "        vertical-align: middle;\n",
       "    }\n",
       "\n",
       "    .dataframe tbody tr th {\n",
       "        vertical-align: top;\n",
       "    }\n",
       "\n",
       "    .dataframe thead th {\n",
       "        text-align: right;\n",
       "    }\n",
       "</style>\n",
       "<table border=\"1\" class=\"dataframe\">\n",
       "  <thead>\n",
       "    <tr style=\"text-align: right;\">\n",
       "      <th></th>\n",
       "      <th>numeric A normalized</th>\n",
       "      <th>numeric B normalized</th>\n",
       "      <th>numeric C normalized</th>\n",
       "    </tr>\n",
       "  </thead>\n",
       "  <tbody>\n",
       "    <tr>\n",
       "      <th>horsepower 10 seeds</th>\n",
       "      <td>(3, 3742.705969093633)</td>\n",
       "      <td>(2, 4041.084857474057)</td>\n",
       "      <td>(3, 3781.715959480673)</td>\n",
       "    </tr>\n",
       "    <tr>\n",
       "      <th>curb_weight 10 seeds</th>\n",
       "      <td>(0, 3787.561329791334)</td>\n",
       "      <td>(3, 3877.064333871646)</td>\n",
       "      <td>(1, 3670.613515796278)</td>\n",
       "    </tr>\n",
       "    <tr>\n",
       "      <th>engine_size 10 seeds</th>\n",
       "      <td>(0, 3205.3630293773294)</td>\n",
       "      <td>(5, 2981.0871157745014)</td>\n",
       "      <td>(7, 2827.3963605665767)</td>\n",
       "    </tr>\n",
       "    <tr>\n",
       "      <th>horsepower 1000 seeds</th>\n",
       "      <td>(882, 2928.8650521089817)</td>\n",
       "      <td>(128, 2782.8585137133614)</td>\n",
       "      <td>(251, 3021.649260259856)</td>\n",
       "    </tr>\n",
       "    <tr>\n",
       "      <th>curb_weight 1000 seeds</th>\n",
       "      <td>(982, 3065.879225176089)</td>\n",
       "      <td>(426, 2951.4589936891502)</td>\n",
       "      <td>(252, 3296.6267655401803)</td>\n",
       "    </tr>\n",
       "    <tr>\n",
       "      <th>engine_size 1000 seeds</th>\n",
       "      <td>(788, 2497.602611218277)</td>\n",
       "      <td>(289, 2469.6304606650965)</td>\n",
       "      <td>(788, 2353.2063175828102)</td>\n",
       "    </tr>\n",
       "  </tbody>\n",
       "</table>\n",
       "</div>"
      ],
      "text/plain": [
       "                             numeric A normalized       numeric B normalized  \\\n",
       "horsepower 10 seeds        (3, 3742.705969093633)     (2, 4041.084857474057)   \n",
       "curb_weight 10 seeds       (0, 3787.561329791334)     (3, 3877.064333871646)   \n",
       "engine_size 10 seeds      (0, 3205.3630293773294)    (5, 2981.0871157745014)   \n",
       "horsepower 1000 seeds   (882, 2928.8650521089817)  (128, 2782.8585137133614)   \n",
       "curb_weight 1000 seeds   (982, 3065.879225176089)  (426, 2951.4589936891502)   \n",
       "engine_size 1000 seeds   (788, 2497.602611218277)  (289, 2469.6304606650965)   \n",
       "\n",
       "                             numeric C normalized  \n",
       "horsepower 10 seeds        (3, 3781.715959480673)  \n",
       "curb_weight 10 seeds       (1, 3670.613515796278)  \n",
       "engine_size 10 seeds      (7, 2827.3963605665767)  \n",
       "horsepower 1000 seeds    (251, 3021.649260259856)  \n",
       "curb_weight 1000 seeds  (252, 3296.6267655401803)  \n",
       "engine_size 1000 seeds  (788, 2353.2063175828102)  "
      ]
     },
     "execution_count": 29,
     "metadata": {},
     "output_type": "execute_result"
    }
   ],
   "source": [
    "# check rmse results for random seed 0-10 and 0-1000 in normalized dataframes:\n",
    "df_n_list = [numeric_a_n, numeric_b_n, numeric_c_n]\n",
    "nums_n = pd.DataFrame([df_seed_check(df_n_list,'horsepower',10),\n",
    "             df_seed_check(df_n_list,'curb_weight',10),\n",
    "              df_seed_check(df_n_list,'engine_size',10),\n",
    "              df_seed_check(df_n_list,'horsepower',1000),\n",
    "              df_seed_check(df_n_list,'curb_weight',1000), df_seed_check(df_n_list,'engine_size',1000)\n",
    "             ], \n",
    "             columns=('numeric A normalized','numeric B normalized','numeric C normalized'), index=('horsepower 10 seeds',\n",
    "                                                                   'curb_weight 10 seeds',\n",
    "                                                                   'engine_size 10 seeds',\n",
    "                                                                  'horsepower 1000 seeds',\n",
    "                                                                  'curb_weight 1000 seeds',\n",
    "                                                                   'engine_size 1000 seeds'\n",
    "                                                                  ))\n",
    "nums_n"
   ]
  },
  {
   "cell_type": "code",
   "execution_count": 30,
   "id": "712c75c7",
   "metadata": {},
   "outputs": [
    {
     "data": {
      "image/png": "[encoded data removed]",
      "text/plain": [
       "<Figure size 1152x576 with 1 Axes>"
      ]
     },
     "metadata": {
      "needs_background": "light"
     },
     "output_type": "display_data"
    }
   ],
   "source": [
    "fig, ax = plt.subplots(figsize=(16,8))\n",
    "sns.stripplot( x=nums.index, y=nums[nums.columns[0]].str[1], s=15, color='#1f77b4',  alpha=0.6, label='numeric_a')\n",
    "sns.stripplot( x=nums.index, y=nums[nums.columns[1]].str[1], s=15, color='#ff7f0e', alpha=0.6, label='numeric_b')\n",
    "sns.stripplot( x=nums.index, y=nums[nums.columns[2]].str[1], s=15, color='green', alpha=0.6, label='numeric_c')\n",
    "sns.stripplot( x=nums_n.index, y=nums_n[nums_n.columns[0]].str[1], s=15, color='#1f77b4', label='numeric_a normalized')\n",
    "sns.stripplot( x=nums_n.index, y=nums_n[nums_n.columns[1]].str[1], s=15, color='#ff7f0e', label='numeric_b normalized')\n",
    "sns.stripplot( x=nums_n.index, y=nums_n[nums_n.columns[2]].str[1], s=15, color='green', label='numeric_c normalized')\n",
    "\n",
    "handles, labels = ax.get_legend_handles_labels()\n",
    "l = plt.legend(handles[::6], labels[::6], bbox_to_anchor=(1.05, 1), loc=2, borderaxespad=0.)\n",
    "spines2()\n",
    "plt.title('RMSE values for various columns, dataframes and random seed numbers', size=16)\n",
    "plt.xlabel('column and seed number', size=14)\n",
    "plt.ylabel('RMSE values', size=14)\n",
    "plt.show()"
   ]
  },
  {
   "cell_type": "markdown",
   "id": "b90e3f6b",
   "metadata": {},
   "source": [
    "# it's settled then: normalized gives us a micro advantage so we'll keep it, also it's clear and obvious tha engine_size is the best col"
   ]
  },
  {
   "cell_type": "code",
   "execution_count": 31,
   "id": "fb605a95",
   "metadata": {},
   "outputs": [
    {
     "name": "stdout",
     "output_type": "stream",
     "text": [
      "best results for numeric_a, numeric_b and numeric_c:\n"
     ]
    },
    {
     "data": {
      "text/plain": [
       "[(0, 3205.3630293773294), (5, 2981.0871157745014), (7, 2827.3963605665767)]"
      ]
     },
     "execution_count": 31,
     "metadata": {},
     "output_type": "execute_result"
    }
   ],
   "source": [
    "print('best results for numeric_a, numeric_b and numeric_c:')\n",
    "df_seed_check(df_list,'engine_size',10)"
   ]
  },
  {
   "cell_type": "code",
   "execution_count": 32,
   "id": "ed4b5d68",
   "metadata": {},
   "outputs": [],
   "source": [
    "results = []\n",
    "df_seed_check(df_list,'engine_size',1000)\n",
    "num_a_results = results[:1000].copy()\n",
    "num_b_results = results[1000:2000].copy()\n",
    "num_c_results = results[2000:].copy()"
   ]
  },
  {
   "cell_type": "code",
   "execution_count": 33,
   "id": "4c88e5c6",
   "metadata": {},
   "outputs": [
    {
     "data": {
      "text/plain": [
       "3000"
      ]
     },
     "execution_count": 33,
     "metadata": {},
     "output_type": "execute_result"
    }
   ],
   "source": [
    "results = []\n",
    "df_seed_check(df_n_list,'engine_size',1000)\n",
    "num_a_results_n = results[:1000].copy()\n",
    "num_b_results_n = results[1000:2000].copy()\n",
    "num_c_results_n = results[2000:].copy()\n",
    "len(results)"
   ]
  },
  {
   "cell_type": "code",
   "execution_count": 34,
   "id": "f118f280",
   "metadata": {
    "scrolled": false
   },
   "outputs": [
    {
     "data": {
      "image/png": "[encoded data removed]",
      "text/plain": [
       "<Figure size 1152x864 with 2 Axes>"
      ]
     },
     "metadata": {
      "needs_background": "light"
     },
     "output_type": "display_data"
    }
   ],
   "source": [
    "fig, ax = plt.subplots(figsize=(16,12))\n",
    "grid = plt.GridSpec(8, 1, wspace=0, hspace=19.3)\n",
    "ax1 = plt.subplot(grid[0:6, 0])\n",
    "plt.scatter( x=list(range(1,1001)), y=num_a_results_n ,label='numeric_a', s=10)\n",
    "plt.scatter( x=list(range(1,1001)), y=num_b_results_n ,label='numeric_b', s=10)\n",
    "plt.scatter( x=list(range(1,1001)), y=num_c_results_n ,label='numeric_c', s=10)\n",
    "\n",
    "plt.legend()\n",
    "plt.title('normalized engine_size column RMSE results')\n",
    "plt.xlabel('Random seed', size=16)\n",
    "plt.ylabel('RMSE',  size=16)\n",
    "\n",
    "ax1.add_patch(Rectangle((0, 2300), 1000, 400, alpha=0.3, facecolor = 'grey'))\n",
    "plt.legend(loc=2)\n",
    "\n",
    "plt.ylim(2000,6500)\n",
    "plt.arrow(2,-3000, 10,500)\n",
    "\n",
    "ax2 = plt.subplot(grid[6:, 0])\n",
    "plt.scatter( x=list(range(1,1001)), y=num_a_results_n ,label='numeric_a', s=60)\n",
    "plt.scatter( x=list(range(1,1001)), y=num_b_results_n ,label='numeric_b', s=60)\n",
    "plt.scatter( x=list(range(1,1001)), y=num_c_results_n ,label='numeric_c', s=60)\n",
    "\n",
    "plt.legend()\n",
    "plt.title('normalized engine_size columns results ZOOMED IN')\n",
    "plt.xlabel('Random seed', size=16)\n",
    "plt.ylabel('RMSE',  size=16)\n",
    "spines(ax1)\n",
    "ax.tick_params(labelsize=12)\n",
    "plt.ylim(2300,2700)\n",
    "plt.legend(loc=3)\n",
    "\n",
    "\n",
    "con = ConnectionPatch(\n",
    "    # in axes coordinates\n",
    "    xyA=(0.1, 0.1), coordsA=ax1.transAxes,\n",
    "    # x in axes coordinates, y in data coordinates\n",
    "    xyB=(0.1, 2759.7), coordsB=ax2.get_yaxis_transform(),\n",
    "    arrowstyle=\"->\", linewidth=1.5)\n",
    "ax2.add_artist(con)\n",
    "plt.show()"
   ]
  },
  {
   "cell_type": "code",
   "execution_count": 35,
   "id": "add46138",
   "metadata": {
    "scrolled": false
   },
   "outputs": [
    {
     "data": {
      "text/html": [
       "<div>\n",
       "<style scoped>\n",
       "    .dataframe tbody tr th:only-of-type {\n",
       "        vertical-align: middle;\n",
       "    }\n",
       "\n",
       "    .dataframe tbody tr th {\n",
       "        vertical-align: top;\n",
       "    }\n",
       "\n",
       "    .dataframe thead th {\n",
       "        text-align: right;\n",
       "    }\n",
       "</style>\n",
       "<table border=\"1\" class=\"dataframe\">\n",
       "  <thead>\n",
       "    <tr style=\"text-align: right;\">\n",
       "      <th></th>\n",
       "      <th>numeric_a</th>\n",
       "      <th>numeric_b</th>\n",
       "      <th>numeric_c</th>\n",
       "      <th>numeric_a_n</th>\n",
       "      <th>numeric_b_n</th>\n",
       "      <th>numeric_c_n</th>\n",
       "      <th>avg non normalized</th>\n",
       "      <th>avg normalized</th>\n",
       "      <th>normalized smaller</th>\n",
       "    </tr>\n",
       "  </thead>\n",
       "  <tbody>\n",
       "    <tr>\n",
       "      <th>mean</th>\n",
       "      <td>3626.998882</td>\n",
       "      <td>3480.439640</td>\n",
       "      <td>3377.467030</td>\n",
       "      <td>3622.295660</td>\n",
       "      <td>3480.975338</td>\n",
       "      <td>3377.789533</td>\n",
       "      <td>3494.968517</td>\n",
       "      <td>3494.007262</td>\n",
       "      <td>True</td>\n",
       "    </tr>\n",
       "    <tr>\n",
       "      <th>median</th>\n",
       "      <td>3565.723553</td>\n",
       "      <td>3403.347687</td>\n",
       "      <td>3304.425648</td>\n",
       "      <td>3562.269532</td>\n",
       "      <td>3403.347687</td>\n",
       "      <td>3303.533751</td>\n",
       "      <td>3424.498963</td>\n",
       "      <td>3423.412483</td>\n",
       "      <td>True</td>\n",
       "    </tr>\n",
       "    <tr>\n",
       "      <th>std</th>\n",
       "      <td>452.944515</td>\n",
       "      <td>460.238868</td>\n",
       "      <td>436.689523</td>\n",
       "      <td>453.479499</td>\n",
       "      <td>460.259276</td>\n",
       "      <td>436.381969</td>\n",
       "      <td>449.957636</td>\n",
       "      <td>450.019595</td>\n",
       "      <td>False</td>\n",
       "    </tr>\n",
       "  </tbody>\n",
       "</table>\n",
       "</div>"
      ],
      "text/plain": [
       "          numeric_a    numeric_b    numeric_c  numeric_a_n  numeric_b_n  \\\n",
       "mean    3626.998882  3480.439640  3377.467030  3622.295660  3480.975338   \n",
       "median  3565.723553  3403.347687  3304.425648  3562.269532  3403.347687   \n",
       "std      452.944515   460.238868   436.689523   453.479499   460.259276   \n",
       "\n",
       "        numeric_c_n  avg non normalized  avg normalized  normalized smaller  \n",
       "mean    3377.789533         3494.968517     3494.007262                True  \n",
       "median  3303.533751         3424.498963     3423.412483                True  \n",
       "std      436.381969          449.957636      450.019595               False  "
      ]
     },
     "execution_count": 35,
     "metadata": {},
     "output_type": "execute_result"
    }
   ],
   "source": [
    "d = {'numeric_a': [np.mean(num_a_results), np.median(num_a_results),np.std(num_a_results)], \n",
    "     'numeric_b': [np.mean(num_b_results), np.median(num_b_results),np.std(num_b_results)], \n",
    "     'numeric_c':[np.mean(num_c_results),np.median(num_c_results),  np.std(num_c_results)],\n",
    "     'numeric_a_n': [np.mean(num_a_results_n), np.median(num_a_results_n),np.std(num_a_results_n)],\n",
    "     'numeric_b_n': [np.mean(num_b_results_n), np.median(num_b_results_n),np.std(num_b_results_n)],\n",
    "     'numeric_c_n': [np.mean(num_c_results_n), np.median(num_c_results_n),np.std(num_c_results_n)]                  \n",
    "    }\n",
    "means = pd.DataFrame(data=d, index=('mean', 'median','std'))\n",
    "means['avg non normalized'] = means.iloc[:,0:3].mean(axis=1)\n",
    "means['avg normalized'] = means.iloc[:,3:].mean(axis=1)\n",
    "means['normalized smaller'] = means['avg non normalized']> means['avg normalized']\n",
    "means"
   ]
  },
  {
   "cell_type": "code",
   "execution_count": 36,
   "id": "936809e3",
   "metadata": {},
   "outputs": [],
   "source": [
    "def knn_train_test_v3(df, feature_col, target_col):\n",
    "    \n",
    "    # randomize \n",
    "    np.random.seed(788)\n",
    "    shuffled_index = np.random.permutation(df.index)\n",
    "    df = df.reindex(index = shuffled_index)\n",
    "    split_loc = int(0.5*len(df))\n",
    "    # split\n",
    "    train_set = df.iloc[:split_loc].copy()\n",
    "    test_set  = df.iloc[split_loc:].copy()\n",
    "    k_list = [1, 3, 5, 7, 9]\n",
    "    rmse_dict = {}   \n",
    "    for k in k_list:\n",
    "    # train and test \n",
    "        \n",
    "        knn = KNeighborsRegressor(n_neighbors=k)\n",
    "        knn.fit(train_set[[feature_col]], train_set[target_col])\n",
    "        predictions = knn.predict(test_set[[feature_col]])\n",
    "        rmse = np.sqrt(mean_squared_error(test_set[target_col], predictions))\n",
    "        rmse_dict[k] = rmse\n",
    "\n",
    "    return rmse_dict"
   ]
  },
  {
   "cell_type": "code",
   "execution_count": 37,
   "id": "2cf15bb0",
   "metadata": {},
   "outputs": [
    {
     "data": {
      "text/plain": [
       "{1: 3277.1469018532766,\n",
       " 3: 2461.686799092321,\n",
       " 5: 2928.9438425926205,\n",
       " 7: 2656.232785896153,\n",
       " 9: 2709.5965718649954}"
      ]
     },
     "execution_count": 37,
     "metadata": {},
     "output_type": "execute_result"
    }
   ],
   "source": [
    "knn_train_test_v3(numeric_b, 'engine_size', 'price')"
   ]
  },
  {
   "cell_type": "code",
   "execution_count": 38,
   "id": "2d8c604f",
   "metadata": {},
   "outputs": [
    {
     "data": {
      "text/html": [
       "<div>\n",
       "<style scoped>\n",
       "    .dataframe tbody tr th:only-of-type {\n",
       "        vertical-align: middle;\n",
       "    }\n",
       "\n",
       "    .dataframe tbody tr th {\n",
       "        vertical-align: top;\n",
       "    }\n",
       "\n",
       "    .dataframe thead th {\n",
       "        text-align: right;\n",
       "    }\n",
       "</style>\n",
       "<table border=\"1\" class=\"dataframe\">\n",
       "  <thead>\n",
       "    <tr style=\"text-align: right;\">\n",
       "      <th></th>\n",
       "      <th>numeric_a_n_k1</th>\n",
       "      <th>numeric_a_n_k3</th>\n",
       "      <th>numeric_a_n_k5</th>\n",
       "      <th>numeric_a_n_k7</th>\n",
       "      <th>numeric_a_n_k9</th>\n",
       "      <th>numeric_b_n_k1</th>\n",
       "      <th>numeric_b_n_k3</th>\n",
       "      <th>numeric_b_n_k5</th>\n",
       "      <th>numeric_b_n_k7</th>\n",
       "      <th>numeric_b_n_k9</th>\n",
       "      <th>numeric_c_n_k1</th>\n",
       "      <th>numeric_c_n_k3</th>\n",
       "      <th>numeric_c_n_k5</th>\n",
       "      <th>numeric_c_n_k7</th>\n",
       "      <th>numeric_c_n_k9</th>\n",
       "    </tr>\n",
       "  </thead>\n",
       "  <tbody>\n",
       "    <tr>\n",
       "      <th>symboling</th>\n",
       "      <td>10555.011307</td>\n",
       "      <td>11266.073521</td>\n",
       "      <td>9139.925251</td>\n",
       "      <td>7705.465066</td>\n",
       "      <td>6984.723728</td>\n",
       "      <td>8879.833790</td>\n",
       "      <td>7166.319268</td>\n",
       "      <td>7572.687586</td>\n",
       "      <td>7150.692028</td>\n",
       "      <td>7205.104875</td>\n",
       "      <td>15390.939574</td>\n",
       "      <td>8445.989152</td>\n",
       "      <td>7401.701593</td>\n",
       "      <td>7020.331422</td>\n",
       "      <td>7205.892343</td>\n",
       "    </tr>\n",
       "    <tr>\n",
       "      <th>normalized_losses</th>\n",
       "      <td>6817.911144</td>\n",
       "      <td>6685.536154</td>\n",
       "      <td>6565.157661</td>\n",
       "      <td>7142.670998</td>\n",
       "      <td>6800.933103</td>\n",
       "      <td>6097.597946</td>\n",
       "      <td>6775.563532</td>\n",
       "      <td>7036.280158</td>\n",
       "      <td>6581.770406</td>\n",
       "      <td>6734.059696</td>\n",
       "      <td>7406.558677</td>\n",
       "      <td>7238.314716</td>\n",
       "      <td>7899.939719</td>\n",
       "      <td>8134.057136</td>\n",
       "      <td>8363.491893</td>\n",
       "    </tr>\n",
       "    <tr>\n",
       "      <th>wheel_base</th>\n",
       "      <td>4507.039788</td>\n",
       "      <td>4958.900500</td>\n",
       "      <td>5692.399245</td>\n",
       "      <td>5518.370755</td>\n",
       "      <td>5650.010375</td>\n",
       "      <td>4102.025336</td>\n",
       "      <td>3807.512273</td>\n",
       "      <td>5420.347821</td>\n",
       "      <td>5239.365461</td>\n",
       "      <td>5224.027154</td>\n",
       "      <td>3890.949095</td>\n",
       "      <td>5730.080848</td>\n",
       "      <td>5928.061398</td>\n",
       "      <td>5981.879923</td>\n",
       "      <td>6107.644102</td>\n",
       "    </tr>\n",
       "    <tr>\n",
       "      <th>length</th>\n",
       "      <td>4177.073283</td>\n",
       "      <td>4424.271077</td>\n",
       "      <td>5248.787424</td>\n",
       "      <td>5348.244491</td>\n",
       "      <td>4935.329760</td>\n",
       "      <td>5612.168989</td>\n",
       "      <td>5411.432825</td>\n",
       "      <td>4642.182450</td>\n",
       "      <td>4491.043914</td>\n",
       "      <td>4132.795706</td>\n",
       "      <td>4870.269269</td>\n",
       "      <td>5401.313651</td>\n",
       "      <td>5097.049296</td>\n",
       "      <td>5082.216636</td>\n",
       "      <td>5205.273251</td>\n",
       "    </tr>\n",
       "    <tr>\n",
       "      <th>width</th>\n",
       "      <td>4124.807424</td>\n",
       "      <td>3425.909636</td>\n",
       "      <td>3127.931827</td>\n",
       "      <td>3194.559820</td>\n",
       "      <td>3280.133327</td>\n",
       "      <td>3945.691722</td>\n",
       "      <td>3880.738131</td>\n",
       "      <td>3924.483420</td>\n",
       "      <td>3559.970342</td>\n",
       "      <td>3447.442624</td>\n",
       "      <td>4279.114585</td>\n",
       "      <td>4193.853006</td>\n",
       "      <td>4324.021786</td>\n",
       "      <td>4390.805737</td>\n",
       "      <td>4511.944398</td>\n",
       "    </tr>\n",
       "    <tr>\n",
       "      <th>height</th>\n",
       "      <td>11577.219893</td>\n",
       "      <td>8847.078330</td>\n",
       "      <td>7769.183762</td>\n",
       "      <td>7231.639613</td>\n",
       "      <td>7185.097449</td>\n",
       "      <td>9661.932240</td>\n",
       "      <td>7376.701190</td>\n",
       "      <td>7295.291201</td>\n",
       "      <td>7036.614783</td>\n",
       "      <td>7119.238477</td>\n",
       "      <td>9804.521205</td>\n",
       "      <td>7753.477529</td>\n",
       "      <td>7952.288599</td>\n",
       "      <td>7695.623106</td>\n",
       "      <td>7663.820089</td>\n",
       "    </tr>\n",
       "    <tr>\n",
       "      <th>curb_weight</th>\n",
       "      <td>5189.272676</td>\n",
       "      <td>3701.758307</td>\n",
       "      <td>3711.471033</td>\n",
       "      <td>3722.399033</td>\n",
       "      <td>3669.062666</td>\n",
       "      <td>5893.477270</td>\n",
       "      <td>4406.259213</td>\n",
       "      <td>4269.753672</td>\n",
       "      <td>4120.374385</td>\n",
       "      <td>3798.835472</td>\n",
       "      <td>4531.735536</td>\n",
       "      <td>3932.259907</td>\n",
       "      <td>3890.354246</td>\n",
       "      <td>3961.053369</td>\n",
       "      <td>3775.880792</td>\n",
       "    </tr>\n",
       "    <tr>\n",
       "      <th>engine_size</th>\n",
       "      <td>2993.611979</td>\n",
       "      <td>2420.576413</td>\n",
       "      <td>2497.602611</td>\n",
       "      <td>2781.943187</td>\n",
       "      <td>2806.019104</td>\n",
       "      <td>3277.146902</td>\n",
       "      <td>2461.686799</td>\n",
       "      <td>2928.943843</td>\n",
       "      <td>2656.232786</td>\n",
       "      <td>2729.280876</td>\n",
       "      <td>2693.041898</td>\n",
       "      <td>2408.662738</td>\n",
       "      <td>2353.206318</td>\n",
       "      <td>2765.514027</td>\n",
       "      <td>3005.716816</td>\n",
       "    </tr>\n",
       "    <tr>\n",
       "      <th>bore</th>\n",
       "      <td>6532.244670</td>\n",
       "      <td>5903.756404</td>\n",
       "      <td>6433.337847</td>\n",
       "      <td>7210.441640</td>\n",
       "      <td>6515.604834</td>\n",
       "      <td>10662.527910</td>\n",
       "      <td>8622.032236</td>\n",
       "      <td>7476.193227</td>\n",
       "      <td>6978.116219</td>\n",
       "      <td>6282.645610</td>\n",
       "      <td>6480.936018</td>\n",
       "      <td>5944.641569</td>\n",
       "      <td>5965.864590</td>\n",
       "      <td>5925.297530</td>\n",
       "      <td>5927.482422</td>\n",
       "    </tr>\n",
       "    <tr>\n",
       "      <th>stroke</th>\n",
       "      <td>6345.925578</td>\n",
       "      <td>6628.753130</td>\n",
       "      <td>6566.996247</td>\n",
       "      <td>6862.048056</td>\n",
       "      <td>6839.783321</td>\n",
       "      <td>7193.583458</td>\n",
       "      <td>7274.059233</td>\n",
       "      <td>6679.461391</td>\n",
       "      <td>6576.277472</td>\n",
       "      <td>6721.032815</td>\n",
       "      <td>6478.113359</td>\n",
       "      <td>6154.788515</td>\n",
       "      <td>6424.950616</td>\n",
       "      <td>6890.144968</td>\n",
       "      <td>7237.566469</td>\n",
       "    </tr>\n",
       "    <tr>\n",
       "      <th>compression_rate</th>\n",
       "      <td>7026.349602</td>\n",
       "      <td>6549.396763</td>\n",
       "      <td>6380.420152</td>\n",
       "      <td>6144.050586</td>\n",
       "      <td>6085.429332</td>\n",
       "      <td>7587.921436</td>\n",
       "      <td>6409.503176</td>\n",
       "      <td>6359.264612</td>\n",
       "      <td>6370.823113</td>\n",
       "      <td>6317.182224</td>\n",
       "      <td>8709.734365</td>\n",
       "      <td>5280.541025</td>\n",
       "      <td>5777.206957</td>\n",
       "      <td>5953.312704</td>\n",
       "      <td>6467.846941</td>\n",
       "    </tr>\n",
       "    <tr>\n",
       "      <th>horsepower</th>\n",
       "      <td>4367.022744</td>\n",
       "      <td>3606.376943</td>\n",
       "      <td>3436.536768</td>\n",
       "      <td>3538.991272</td>\n",
       "      <td>3708.647150</td>\n",
       "      <td>3915.785359</td>\n",
       "      <td>4573.288779</td>\n",
       "      <td>4189.883202</td>\n",
       "      <td>4393.461463</td>\n",
       "      <td>4327.505351</td>\n",
       "      <td>3952.924513</td>\n",
       "      <td>3522.068718</td>\n",
       "      <td>3740.335519</td>\n",
       "      <td>3813.920977</td>\n",
       "      <td>4051.082574</td>\n",
       "    </tr>\n",
       "    <tr>\n",
       "      <th>peak_rpm</th>\n",
       "      <td>5967.626894</td>\n",
       "      <td>8036.841051</td>\n",
       "      <td>7502.373121</td>\n",
       "      <td>7661.029440</td>\n",
       "      <td>7565.280615</td>\n",
       "      <td>12019.712099</td>\n",
       "      <td>9710.909902</td>\n",
       "      <td>8508.607095</td>\n",
       "      <td>8257.366206</td>\n",
       "      <td>8175.179938</td>\n",
       "      <td>10176.889612</td>\n",
       "      <td>6366.154752</td>\n",
       "      <td>7176.912533</td>\n",
       "      <td>7559.816706</td>\n",
       "      <td>7451.041870</td>\n",
       "    </tr>\n",
       "    <tr>\n",
       "      <th>city_mpg</th>\n",
       "      <td>6232.013175</td>\n",
       "      <td>3594.930129</td>\n",
       "      <td>3216.309003</td>\n",
       "      <td>3696.175130</td>\n",
       "      <td>3797.094260</td>\n",
       "      <td>6624.458183</td>\n",
       "      <td>4142.042354</td>\n",
       "      <td>3628.061924</td>\n",
       "      <td>3984.474033</td>\n",
       "      <td>4161.900824</td>\n",
       "      <td>5007.742167</td>\n",
       "      <td>3780.077242</td>\n",
       "      <td>3744.974559</td>\n",
       "      <td>3793.477973</td>\n",
       "      <td>4019.250233</td>\n",
       "    </tr>\n",
       "    <tr>\n",
       "      <th>highway_mpg</th>\n",
       "      <td>3629.864612</td>\n",
       "      <td>3300.191205</td>\n",
       "      <td>3056.495436</td>\n",
       "      <td>2970.703260</td>\n",
       "      <td>3131.563399</td>\n",
       "      <td>5913.485865</td>\n",
       "      <td>5293.909673</td>\n",
       "      <td>4458.836800</td>\n",
       "      <td>3770.911305</td>\n",
       "      <td>3622.307274</td>\n",
       "      <td>5101.116012</td>\n",
       "      <td>4767.126367</td>\n",
       "      <td>4215.026412</td>\n",
       "      <td>4173.685949</td>\n",
       "      <td>4358.155450</td>\n",
       "    </tr>\n",
       "  </tbody>\n",
       "</table>\n",
       "</div>"
      ],
      "text/plain": [
       "                   numeric_a_n_k1  numeric_a_n_k3  numeric_a_n_k5  \\\n",
       "symboling            10555.011307    11266.073521     9139.925251   \n",
       "normalized_losses     6817.911144     6685.536154     6565.157661   \n",
       "wheel_base            4507.039788     4958.900500     5692.399245   \n",
       "length                4177.073283     4424.271077     5248.787424   \n",
       "width                 4124.807424     3425.909636     3127.931827   \n",
       "height               11577.219893     8847.078330     7769.183762   \n",
       "curb_weight           5189.272676     3701.758307     3711.471033   \n",
       "engine_size           2993.611979     2420.576413     2497.602611   \n",
       "bore                  6532.244670     5903.756404     6433.337847   \n",
       "stroke                6345.925578     6628.753130     6566.996247   \n",
       "compression_rate      7026.349602     6549.396763     6380.420152   \n",
       "horsepower            4367.022744     3606.376943     3436.536768   \n",
       "peak_rpm              5967.626894     8036.841051     7502.373121   \n",
       "city_mpg              6232.013175     3594.930129     3216.309003   \n",
       "highway_mpg           3629.864612     3300.191205     3056.495436   \n",
       "\n",
       "                   numeric_a_n_k7  numeric_a_n_k9  numeric_b_n_k1  \\\n",
       "symboling             7705.465066     6984.723728     8879.833790   \n",
       "normalized_losses     7142.670998     6800.933103     6097.597946   \n",
       "wheel_base            5518.370755     5650.010375     4102.025336   \n",
       "length                5348.244491     4935.329760     5612.168989   \n",
       "width                 3194.559820     3280.133327     3945.691722   \n",
       "height                7231.639613     7185.097449     9661.932240   \n",
       "curb_weight           3722.399033     3669.062666     5893.477270   \n",
       "engine_size           2781.943187     2806.019104     3277.146902   \n",
       "bore                  7210.441640     6515.604834    10662.527910   \n",
       "stroke                6862.048056     6839.783321     7193.583458   \n",
       "compression_rate      6144.050586     6085.429332     7587.921436   \n",
       "horsepower            3538.991272     3708.647150     3915.785359   \n",
       "peak_rpm              7661.029440     7565.280615    12019.712099   \n",
       "city_mpg              3696.175130     3797.094260     6624.458183   \n",
       "highway_mpg           2970.703260     3131.563399     5913.485865   \n",
       "\n",
       "                   numeric_b_n_k3  numeric_b_n_k5  numeric_b_n_k7  \\\n",
       "symboling             7166.319268     7572.687586     7150.692028   \n",
       "normalized_losses     6775.563532     7036.280158     6581.770406   \n",
       "wheel_base            3807.512273     5420.347821     5239.365461   \n",
       "length                5411.432825     4642.182450     4491.043914   \n",
       "width                 3880.738131     3924.483420     3559.970342   \n",
       "height                7376.701190     7295.291201     7036.614783   \n",
       "curb_weight           4406.259213     4269.753672     4120.374385   \n",
       "engine_size           2461.686799     2928.943843     2656.232786   \n",
       "bore                  8622.032236     7476.193227     6978.116219   \n",
       "stroke                7274.059233     6679.461391     6576.277472   \n",
       "compression_rate      6409.503176     6359.264612     6370.823113   \n",
       "horsepower            4573.288779     4189.883202     4393.461463   \n",
       "peak_rpm              9710.909902     8508.607095     8257.366206   \n",
       "city_mpg              4142.042354     3628.061924     3984.474033   \n",
       "highway_mpg           5293.909673     4458.836800     3770.911305   \n",
       "\n",
       "                   numeric_b_n_k9  numeric_c_n_k1  numeric_c_n_k3  \\\n",
       "symboling             7205.104875    15390.939574     8445.989152   \n",
       "normalized_losses     6734.059696     7406.558677     7238.314716   \n",
       "wheel_base            5224.027154     3890.949095     5730.080848   \n",
       "length                4132.795706     4870.269269     5401.313651   \n",
       "width                 3447.442624     4279.114585     4193.853006   \n",
       "height                7119.238477     9804.521205     7753.477529   \n",
       "curb_weight           3798.835472     4531.735536     3932.259907   \n",
       "engine_size           2729.280876     2693.041898     2408.662738   \n",
       "bore                  6282.645610     6480.936018     5944.641569   \n",
       "stroke                6721.032815     6478.113359     6154.788515   \n",
       "compression_rate      6317.182224     8709.734365     5280.541025   \n",
       "horsepower            4327.505351     3952.924513     3522.068718   \n",
       "peak_rpm              8175.179938    10176.889612     6366.154752   \n",
       "city_mpg              4161.900824     5007.742167     3780.077242   \n",
       "highway_mpg           3622.307274     5101.116012     4767.126367   \n",
       "\n",
       "                   numeric_c_n_k5  numeric_c_n_k7  numeric_c_n_k9  \n",
       "symboling             7401.701593     7020.331422     7205.892343  \n",
       "normalized_losses     7899.939719     8134.057136     8363.491893  \n",
       "wheel_base            5928.061398     5981.879923     6107.644102  \n",
       "length                5097.049296     5082.216636     5205.273251  \n",
       "width                 4324.021786     4390.805737     4511.944398  \n",
       "height                7952.288599     7695.623106     7663.820089  \n",
       "curb_weight           3890.354246     3961.053369     3775.880792  \n",
       "engine_size           2353.206318     2765.514027     3005.716816  \n",
       "bore                  5965.864590     5925.297530     5927.482422  \n",
       "stroke                6424.950616     6890.144968     7237.566469  \n",
       "compression_rate      5777.206957     5953.312704     6467.846941  \n",
       "horsepower            3740.335519     3813.920977     4051.082574  \n",
       "peak_rpm              7176.912533     7559.816706     7451.041870  \n",
       "city_mpg              3744.974559     3793.477973     4019.250233  \n",
       "highway_mpg           4215.026412     4173.685949     4358.155450  "
      ]
     },
     "execution_count": 38,
     "metadata": {},
     "output_type": "execute_result"
    }
   ],
   "source": [
    "all_features = numeric.columns.tolist()\n",
    "all_features.remove('price')\n",
    "\n",
    "# setup renaming columns:\n",
    "k_list = [1, 3, 5, 7, 9]\n",
    "df_names = ['numeric_a_n', 'numeric_b_n', 'numeric_c_n']\n",
    "col_names = []\n",
    "for df in df_names:\n",
    "    for k in k_list:\n",
    "        col_names.append(df+'_k'+str(k))\n",
    "\n",
    "rmse_dict_a = {}\n",
    "rmse_dict_b = {}\n",
    "rmse_dict_c = {}\n",
    "for col in all_features:\n",
    "    rmse_dict_a[col] = knn_train_test_v3(numeric_a_n, col, 'price')\n",
    "for col in all_features:\n",
    "    rmse_dict_b[col] = knn_train_test_v3(numeric_b_n, col, 'price')\n",
    "for col in all_features:\n",
    "    rmse_dict_c[col] = knn_train_test_v3(numeric_c_n, col, 'price')\n",
    "\n",
    "# rmse_dict_a= dict(sorted(rmse_dict_a.items(), key=lambda item: item[1]))\n",
    "# rmse_dict_b = dict(sorted(rmse_dict_b.items(), key=lambda item: item[1]))\n",
    "# rmse_dict_c = dict(sorted(rmse_dict_c.items(), key=lambda item: item[1]))\n",
    "\n",
    "results_a = pd.DataFrame.from_dict(rmse_dict_a, orient='index')\n",
    "for n in range(len(results_a.columns)):\n",
    "    results_a = results_a.rename(columns= {results_a.columns[n]: col_names[n]}) \n",
    "results_b = pd.DataFrame.from_dict(rmse_dict_b, orient='index')\n",
    "for i in range(5,(len(results_b.columns)+5)):\n",
    "    results_b = results_b.rename(columns= {results_b.columns[i-5]: col_names[i]}) \n",
    "results_c = pd.DataFrame.from_dict(rmse_dict_c, orient='index')\n",
    "for i in range(10,(len(results_c.columns)+10)):\n",
    "    results_c = results_c.rename(columns= {results_c.columns[i-10]: col_names[i]}) \n",
    "\n",
    "results_frame = results_a.merge(results_b, left_index=True, right_index=True)\n",
    "results_frame2 = results_frame.merge(results_c, left_index=True, right_index=True)\n",
    "# results_frame2 = results_frame2.rename(columns={results_frame2.columns[0]: 'numeric_a', results_frame2.columns[1]: 'numeric_b', \n",
    "#                               results_frame2.columns[2]: 'numeric_c'})\n",
    "results_frame2\n"
   ]
  },
  {
   "cell_type": "code",
   "execution_count": 57,
   "id": "5c74903b",
   "metadata": {},
   "outputs": [
    {
     "data": {
      "application/vnd.plotly.v1+json": {
       "config": {
        "plotlyServerURL": "https://plot.ly"
       },
       "data": [
        {
         "hovertemplate": "variable=numeric_a_n_k1<br>value=%{x}<br>index=%{y}<extra></extra>",
         "legendgroup": "numeric_a_n_k1",
         "marker": {
          "color": "#636efa",
          "symbol": "circle"
         },
         "mode": "markers",
         "name": "numeric_a_n_k1",
         "orientation": "h",
         "showlegend": true,
         "type": "scatter",
         "x": [
          10555.011306633845,
          6817.911143916195,
          4507.039788316201,
          4177.073282565293,
          4124.807424247671,
          11577.219893197396,
          5189.272676482812,
          2993.6119793935077,
          6532.244669770306,
          6345.925577537414,
          7026.349602223993,
          4367.022743650914,
          5967.626893713636,
          6232.013175356883,
          3629.864611663898
         ],
         "xaxis": "x",
         "y": [
          "symboling",
          "normalized_losses",
          "wheel_base",
          "length",
          "width",
          "height",
          "curb_weight",
          "engine_size",
          "bore",
          "stroke",
          "compression_rate",
          "horsepower",
          "peak_rpm",
          "city_mpg",
          "highway_mpg"
         ],
         "yaxis": "y"
        },
        {
         "hovertemplate": "variable=numeric_a_n_k3<br>value=%{x}<br>index=%{y}<extra></extra>",
         "legendgroup": "numeric_a_n_k3",
         "marker": {
          "color": "#EF553B",
          "symbol": "circle"
         },
         "mode": "markers",
         "name": "numeric_a_n_k3",
         "orientation": "h",
         "showlegend": true,
         "type": "scatter",
         "x": [
          11266.073520670692,
          6685.536153687767,
          4958.9004999411745,
          4424.2710771783,
          3425.9096362986006,
          8847.078330171946,
          3701.7583069747175,
          2420.5764128647234,
          5903.756403991256,
          6628.7531304843815,
          6549.396763343656,
          3606.3769427869493,
          8036.841051284288,
          3594.930129482851,
          3300.1912045817403
         ],
         "xaxis": "x",
         "y": [
          "symboling",
          "normalized_losses",
          "wheel_base",
          "length",
          "width",
          "height",
          "curb_weight",
          "engine_size",
          "bore",
          "stroke",
          "compression_rate",
          "horsepower",
          "peak_rpm",
          "city_mpg",
          "highway_mpg"
         ],
         "yaxis": "y"
        },
        {
         "hovertemplate": "variable=numeric_a_n_k5<br>value=%{x}<br>index=%{y}<extra></extra>",
         "legendgroup": "numeric_a_n_k5",
         "marker": {
          "color": "#00cc96",
          "symbol": "circle"
         },
         "mode": "markers",
         "name": "numeric_a_n_k5",
         "orientation": "h",
         "showlegend": true,
         "type": "scatter",
         "x": [
          9139.92525055553,
          6565.1576606588005,
          5692.399244711154,
          5248.787423644995,
          3127.9318270153276,
          7769.183762038122,
          3711.4710330151966,
          2497.602611218277,
          6433.337846955444,
          6566.996246548205,
          6380.42015196833,
          3436.5367676839373,
          7502.373120632439,
          3216.3090026911404,
          3056.4954359041617
         ],
         "xaxis": "x",
         "y": [
          "symboling",
          "normalized_losses",
          "wheel_base",
          "length",
          "width",
          "height",
          "curb_weight",
          "engine_size",
          "bore",
          "stroke",
          "compression_rate",
          "horsepower",
          "peak_rpm",
          "city_mpg",
          "highway_mpg"
         ],
         "yaxis": "y"
        },
        {
         "hovertemplate": "variable=numeric_a_n_k7<br>value=%{x}<br>index=%{y}<extra></extra>",
         "legendgroup": "numeric_a_n_k7",
         "marker": {
          "color": "#ab63fa",
          "symbol": "circle"
         },
         "mode": "markers",
         "name": "numeric_a_n_k7",
         "orientation": "h",
         "showlegend": true,
         "type": "scatter",
         "x": [
          7705.4650655059395,
          7142.670998182715,
          5518.370754616908,
          5348.244490742181,
          3194.559819994602,
          7231.63961261656,
          3722.3990331413565,
          2781.943187043649,
          7210.4416399944885,
          6862.048056315053,
          6144.0505857062335,
          3538.991272369038,
          7661.029439899435,
          3696.175130328568,
          2970.7032599977747
         ],
         "xaxis": "x",
         "y": [
          "symboling",
          "normalized_losses",
          "wheel_base",
          "length",
          "width",
          "height",
          "curb_weight",
          "engine_size",
          "bore",
          "stroke",
          "compression_rate",
          "horsepower",
          "peak_rpm",
          "city_mpg",
          "highway_mpg"
         ],
         "yaxis": "y"
        },
        {
         "hovertemplate": "variable=numeric_a_n_k9<br>value=%{x}<br>index=%{y}<extra></extra>",
         "legendgroup": "numeric_a_n_k9",
         "marker": {
          "color": "#FFA15A",
          "symbol": "circle"
         },
         "mode": "markers",
         "name": "numeric_a_n_k9",
         "orientation": "h",
         "showlegend": true,
         "type": "scatter",
         "x": [
          6984.723727819628,
          6800.933103280492,
          5650.010374676911,
          4935.329759720592,
          3280.1333274186195,
          7185.097448790284,
          3669.0626663565768,
          2806.019104490545,
          6515.604833600236,
          6839.783320608642,
          6085.4293321793675,
          3708.6471497975517,
          7565.280614552386,
          3797.0942597441185,
          3131.563398533056
         ],
         "xaxis": "x",
         "y": [
          "symboling",
          "normalized_losses",
          "wheel_base",
          "length",
          "width",
          "height",
          "curb_weight",
          "engine_size",
          "bore",
          "stroke",
          "compression_rate",
          "horsepower",
          "peak_rpm",
          "city_mpg",
          "highway_mpg"
         ],
         "yaxis": "y"
        },
        {
         "hovertemplate": "variable=numeric_b_n_k1<br>value=%{x}<br>index=%{y}<extra></extra>",
         "legendgroup": "numeric_b_n_k1",
         "marker": {
          "color": "#19d3f3",
          "symbol": "circle"
         },
         "mode": "markers",
         "name": "numeric_b_n_k1",
         "orientation": "h",
         "showlegend": true,
         "type": "scatter",
         "x": [
          8879.833789697477,
          6097.597946264227,
          4102.025335994752,
          5612.168989375331,
          3945.691721772661,
          9661.932239569931,
          5893.477269535415,
          3277.1469018532766,
          10662.527910339813,
          7193.583458151282,
          7587.921435695398,
          3915.7853592340625,
          12019.712099255106,
          6624.458182695828,
          5913.4858646511175
         ],
         "xaxis": "x",
         "y": [
          "symboling",
          "normalized_losses",
          "wheel_base",
          "length",
          "width",
          "height",
          "curb_weight",
          "engine_size",
          "bore",
          "stroke",
          "compression_rate",
          "horsepower",
          "peak_rpm",
          "city_mpg",
          "highway_mpg"
         ],
         "yaxis": "y"
        },
        {
         "hovertemplate": "variable=numeric_b_n_k3<br>value=%{x}<br>index=%{y}<extra></extra>",
         "legendgroup": "numeric_b_n_k3",
         "marker": {
          "color": "#FF6692",
          "symbol": "circle"
         },
         "mode": "markers",
         "name": "numeric_b_n_k3",
         "orientation": "h",
         "showlegend": true,
         "type": "scatter",
         "x": [
          7166.31926788127,
          6775.563532386505,
          3807.5122733903486,
          5411.4328254622,
          3880.738131100432,
          7376.701190088006,
          4406.259212820655,
          2461.686799092321,
          8622.032235806326,
          7274.059233107561,
          6409.503175778718,
          4573.288778887907,
          9710.909902056055,
          4142.042354058176,
          5293.909673425255
         ],
         "xaxis": "x",
         "y": [
          "symboling",
          "normalized_losses",
          "wheel_base",
          "length",
          "width",
          "height",
          "curb_weight",
          "engine_size",
          "bore",
          "stroke",
          "compression_rate",
          "horsepower",
          "peak_rpm",
          "city_mpg",
          "highway_mpg"
         ],
         "yaxis": "y"
        },
        {
         "hovertemplate": "variable=numeric_b_n_k5<br>value=%{x}<br>index=%{y}<extra></extra>",
         "legendgroup": "numeric_b_n_k5",
         "marker": {
          "color": "#B6E880",
          "symbol": "circle"
         },
         "mode": "markers",
         "name": "numeric_b_n_k5",
         "orientation": "h",
         "showlegend": true,
         "type": "scatter",
         "x": [
          7572.687586157969,
          7036.2801578095,
          5420.347821319369,
          4642.182449878418,
          3924.483419638871,
          7295.291201248954,
          4269.753671956226,
          2928.9438425926205,
          7476.1932268026485,
          6679.46139057359,
          6359.264611636815,
          4189.8832021615,
          8508.607094883511,
          3628.061924409083,
          4458.836800039642
         ],
         "xaxis": "x",
         "y": [
          "symboling",
          "normalized_losses",
          "wheel_base",
          "length",
          "width",
          "height",
          "curb_weight",
          "engine_size",
          "bore",
          "stroke",
          "compression_rate",
          "horsepower",
          "peak_rpm",
          "city_mpg",
          "highway_mpg"
         ],
         "yaxis": "y"
        },
        {
         "hovertemplate": "variable=numeric_b_n_k7<br>value=%{x}<br>index=%{y}<extra></extra>",
         "legendgroup": "numeric_b_n_k7",
         "marker": {
          "color": "#FF97FF",
          "symbol": "circle"
         },
         "mode": "markers",
         "name": "numeric_b_n_k7",
         "orientation": "h",
         "showlegend": true,
         "type": "scatter",
         "x": [
          7150.692027772671,
          6581.770406215434,
          5239.365461344152,
          4491.043914492399,
          3559.9703424654613,
          7036.61478313299,
          4120.374384963283,
          2656.232785896153,
          6978.116219087859,
          6576.2774723846815,
          6370.823112582869,
          4393.4614629476,
          8257.366205807373,
          3984.474033392886,
          3770.9113046413445
         ],
         "xaxis": "x",
         "y": [
          "symboling",
          "normalized_losses",
          "wheel_base",
          "length",
          "width",
          "height",
          "curb_weight",
          "engine_size",
          "bore",
          "stroke",
          "compression_rate",
          "horsepower",
          "peak_rpm",
          "city_mpg",
          "highway_mpg"
         ],
         "yaxis": "y"
        },
        {
         "hovertemplate": "variable=numeric_b_n_k9<br>value=%{x}<br>index=%{y}<extra></extra>",
         "legendgroup": "numeric_b_n_k9",
         "marker": {
          "color": "#FECB52",
          "symbol": "circle"
         },
         "mode": "markers",
         "name": "numeric_b_n_k9",
         "orientation": "h",
         "showlegend": true,
         "type": "scatter",
         "x": [
          7205.1048748174135,
          6734.0596964677125,
          5224.027153552918,
          4132.795705730091,
          3447.442624362895,
          7119.2384771889,
          3798.83547198147,
          2729.280876217206,
          6282.645609895278,
          6721.032815494496,
          6317.182223659025,
          4327.5053510063,
          8175.179937689778,
          4161.90082446268,
          3622.3072735657015
         ],
         "xaxis": "x",
         "y": [
          "symboling",
          "normalized_losses",
          "wheel_base",
          "length",
          "width",
          "height",
          "curb_weight",
          "engine_size",
          "bore",
          "stroke",
          "compression_rate",
          "horsepower",
          "peak_rpm",
          "city_mpg",
          "highway_mpg"
         ],
         "yaxis": "y"
        },
        {
         "hovertemplate": "variable=numeric_c_n_k1<br>value=%{x}<br>index=%{y}<extra></extra>",
         "legendgroup": "numeric_c_n_k1",
         "marker": {
          "color": "#636efa",
          "symbol": "circle"
         },
         "mode": "markers",
         "name": "numeric_c_n_k1",
         "orientation": "h",
         "showlegend": true,
         "type": "scatter",
         "x": [
          15390.939573635753,
          7406.5586766531915,
          3890.9490945893385,
          4870.269269306028,
          4279.114585465862,
          9804.521204878687,
          4531.73553573309,
          2693.041898087253,
          6480.936017537257,
          6478.113358997395,
          8709.73436480968,
          3952.924513357334,
          10176.889612237437,
          5007.742167064582,
          5101.116012085003
         ],
         "xaxis": "x",
         "y": [
          "symboling",
          "normalized_losses",
          "wheel_base",
          "length",
          "width",
          "height",
          "curb_weight",
          "engine_size",
          "bore",
          "stroke",
          "compression_rate",
          "horsepower",
          "peak_rpm",
          "city_mpg",
          "highway_mpg"
         ],
         "yaxis": "y"
        },
        {
         "hovertemplate": "variable=numeric_c_n_k3<br>value=%{x}<br>index=%{y}<extra></extra>",
         "legendgroup": "numeric_c_n_k3",
         "marker": {
          "color": "#EF553B",
          "symbol": "circle"
         },
         "mode": "markers",
         "name": "numeric_c_n_k3",
         "orientation": "h",
         "showlegend": true,
         "type": "scatter",
         "x": [
          8445.989152183027,
          7238.314716416373,
          5730.080848484265,
          5401.313651353709,
          4193.853006253329,
          7753.477528602082,
          3932.2599066850644,
          2408.662738183055,
          5944.641568675126,
          6154.788515048251,
          5280.5410254134495,
          3522.0687178599064,
          6366.154752379795,
          3780.0772416018126,
          4767.126366967019
         ],
         "xaxis": "x",
         "y": [
          "symboling",
          "normalized_losses",
          "wheel_base",
          "length",
          "width",
          "height",
          "curb_weight",
          "engine_size",
          "bore",
          "stroke",
          "compression_rate",
          "horsepower",
          "peak_rpm",
          "city_mpg",
          "highway_mpg"
         ],
         "yaxis": "y"
        },
        {
         "hovertemplate": "variable=numeric_c_n_k5<br>value=%{x}<br>index=%{y}<extra></extra>",
         "legendgroup": "numeric_c_n_k5",
         "marker": {
          "color": "#00cc96",
          "symbol": "circle"
         },
         "mode": "markers",
         "name": "numeric_c_n_k5",
         "orientation": "h",
         "showlegend": true,
         "type": "scatter",
         "x": [
          7401.701593221194,
          7899.9397185640755,
          5928.061397517002,
          5097.049295516632,
          4324.021786122303,
          7952.288598942168,
          3890.354245751573,
          2353.2063175828102,
          5965.86458999219,
          6424.950616092394,
          5777.206956898693,
          3740.335518674099,
          7176.912532997773,
          3744.9745591448705,
          4215.02641210733
         ],
         "xaxis": "x",
         "y": [
          "symboling",
          "normalized_losses",
          "wheel_base",
          "length",
          "width",
          "height",
          "curb_weight",
          "engine_size",
          "bore",
          "stroke",
          "compression_rate",
          "horsepower",
          "peak_rpm",
          "city_mpg",
          "highway_mpg"
         ],
         "yaxis": "y"
        },
        {
         "hovertemplate": "variable=numeric_c_n_k7<br>value=%{x}<br>index=%{y}<extra></extra>",
         "legendgroup": "numeric_c_n_k7",
         "marker": {
          "color": "#ab63fa",
          "symbol": "circle"
         },
         "mode": "markers",
         "name": "numeric_c_n_k7",
         "orientation": "h",
         "showlegend": true,
         "type": "scatter",
         "x": [
          7020.331421584982,
          8134.057135992776,
          5981.879923432098,
          5082.216636249557,
          4390.805736988797,
          7695.62310553563,
          3961.0533694432133,
          2765.5140266115295,
          5925.297530397809,
          6890.144968495881,
          5953.312703594651,
          3813.920977044949,
          7559.816705561562,
          3793.4779728178714,
          4173.685948943675
         ],
         "xaxis": "x",
         "y": [
          "symboling",
          "normalized_losses",
          "wheel_base",
          "length",
          "width",
          "height",
          "curb_weight",
          "engine_size",
          "bore",
          "stroke",
          "compression_rate",
          "horsepower",
          "peak_rpm",
          "city_mpg",
          "highway_mpg"
         ],
         "yaxis": "y"
        },
        {
         "hovertemplate": "variable=numeric_c_n_k9<br>value=%{x}<br>index=%{y}<extra></extra>",
         "legendgroup": "numeric_c_n_k9",
         "marker": {
          "color": "#FFA15A",
          "symbol": "circle"
         },
         "mode": "markers",
         "name": "numeric_c_n_k9",
         "orientation": "h",
         "showlegend": true,
         "type": "scatter",
         "x": [
          7205.89234264889,
          8363.491893352557,
          6107.644102218803,
          5205.273250939614,
          4511.944397665691,
          7663.820089416815,
          3775.8807915561188,
          3005.7168161588393,
          5927.482421931915,
          7237.566468801807,
          6467.846941398527,
          4051.082574059664,
          7451.04187015843,
          4019.2502325241285,
          4358.155450495955
         ],
         "xaxis": "x",
         "y": [
          "symboling",
          "normalized_losses",
          "wheel_base",
          "length",
          "width",
          "height",
          "curb_weight",
          "engine_size",
          "bore",
          "stroke",
          "compression_rate",
          "horsepower",
          "peak_rpm",
          "city_mpg",
          "highway_mpg"
         ],
         "yaxis": "y"
        }
       ],
       "layout": {
        "legend": {
         "title": {
          "text": "variable"
         },
         "tracegroupgap": 0
        },
        "margin": {
         "t": 60
        },
        "template": {
         "data": {
          "bar": [
           {
            "error_x": {
             "color": "#2a3f5f"
            },
            "error_y": {
             "color": "#2a3f5f"
            },
            "marker": {
             "line": {
              "color": "#E5ECF6",
              "width": 0.5
             },
             "pattern": {
              "fillmode": "overlay",
              "size": 10,
              "solidity": 0.2
             }
            },
            "type": "bar"
           }
          ],
          "barpolar": [
           {
            "marker": {
             "line": {
              "color": "#E5ECF6",
              "width": 0.5
             },
             "pattern": {
              "fillmode": "overlay",
              "size": 10,
              "solidity": 0.2
             }
            },
            "type": "barpolar"
           }
          ],
          "carpet": [
           {
            "aaxis": {
             "endlinecolor": "#2a3f5f",
             "gridcolor": "white",
             "linecolor": "white",
             "minorgridcolor": "white",
             "startlinecolor": "#2a3f5f"
            },
            "baxis": {
             "endlinecolor": "#2a3f5f",
             "gridcolor": "white",
             "linecolor": "white",
             "minorgridcolor": "white",
             "startlinecolor": "#2a3f5f"
            },
            "type": "carpet"
           }
          ],
          "choropleth": [
           {
            "colorbar": {
             "outlinewidth": 0,
             "ticks": ""
            },
            "type": "choropleth"
           }
          ],
          "contour": [
           {
            "colorbar": {
             "outlinewidth": 0,
             "ticks": ""
            },
            "colorscale": [
             [
              0,
              "#0d0887"
             ],
             [
              0.1111111111111111,
              "#46039f"
             ],
             [
              0.2222222222222222,
              "#7201a8"
             ],
             [
              0.3333333333333333,
              "#9c179e"
             ],
             [
              0.4444444444444444,
              "#bd3786"
             ],
             [
              0.5555555555555556,
              "#d8576b"
             ],
             [
              0.6666666666666666,
              "#ed7953"
             ],
             [
              0.7777777777777778,
              "#fb9f3a"
             ],
             [
              0.8888888888888888,
              "#fdca26"
             ],
             [
              1,
              "#f0f921"
             ]
            ],
            "type": "contour"
           }
          ],
          "contourcarpet": [
           {
            "colorbar": {
             "outlinewidth": 0,
             "ticks": ""
            },
            "type": "contourcarpet"
           }
          ],
          "heatmap": [
           {
            "colorbar": {
             "outlinewidth": 0,
             "ticks": ""
            },
            "colorscale": [
             [
              0,
              "#0d0887"
             ],
             [
              0.1111111111111111,
              "#46039f"
             ],
             [
              0.2222222222222222,
              "#7201a8"
             ],
             [
              0.3333333333333333,
              "#9c179e"
             ],
             [
              0.4444444444444444,
              "#bd3786"
             ],
             [
              0.5555555555555556,
              "#d8576b"
             ],
             [
              0.6666666666666666,
              "#ed7953"
             ],
             [
              0.7777777777777778,
              "#fb9f3a"
             ],
             [
              0.8888888888888888,
              "#fdca26"
             ],
             [
              1,
              "#f0f921"
             ]
            ],
            "type": "heatmap"
           }
          ],
          "heatmapgl": [
           {
            "colorbar": {
             "outlinewidth": 0,
             "ticks": ""
            },
            "colorscale": [
             [
              0,
              "#0d0887"
             ],
             [
              0.1111111111111111,
              "#46039f"
             ],
             [
              0.2222222222222222,
              "#7201a8"
             ],
             [
              0.3333333333333333,
              "#9c179e"
             ],
             [
              0.4444444444444444,
              "#bd3786"
             ],
             [
              0.5555555555555556,
              "#d8576b"
             ],
             [
              0.6666666666666666,
              "#ed7953"
             ],
             [
              0.7777777777777778,
              "#fb9f3a"
             ],
             [
              0.8888888888888888,
              "#fdca26"
             ],
             [
              1,
              "#f0f921"
             ]
            ],
            "type": "heatmapgl"
           }
          ],
          "histogram": [
           {
            "marker": {
             "pattern": {
              "fillmode": "overlay",
              "size": 10,
              "solidity": 0.2
             }
            },
            "type": "histogram"
           }
          ],
          "histogram2d": [
           {
            "colorbar": {
             "outlinewidth": 0,
             "ticks": ""
            },
            "colorscale": [
             [
              0,
              "#0d0887"
             ],
             [
              0.1111111111111111,
              "#46039f"
             ],
             [
              0.2222222222222222,
              "#7201a8"
             ],
             [
              0.3333333333333333,
              "#9c179e"
             ],
             [
              0.4444444444444444,
              "#bd3786"
             ],
             [
              0.5555555555555556,
              "#d8576b"
             ],
             [
              0.6666666666666666,
              "#ed7953"
             ],
             [
              0.7777777777777778,
              "#fb9f3a"
             ],
             [
              0.8888888888888888,
              "#fdca26"
             ],
             [
              1,
              "#f0f921"
             ]
            ],
            "type": "histogram2d"
           }
          ],
          "histogram2dcontour": [
           {
            "colorbar": {
             "outlinewidth": 0,
             "ticks": ""
            },
            "colorscale": [
             [
              0,
              "#0d0887"
             ],
             [
              0.1111111111111111,
              "#46039f"
             ],
             [
              0.2222222222222222,
              "#7201a8"
             ],
             [
              0.3333333333333333,
              "#9c179e"
             ],
             [
              0.4444444444444444,
              "#bd3786"
             ],
             [
              0.5555555555555556,
              "#d8576b"
             ],
             [
              0.6666666666666666,
              "#ed7953"
             ],
             [
              0.7777777777777778,
              "#fb9f3a"
             ],
             [
              0.8888888888888888,
              "#fdca26"
             ],
             [
              1,
              "#f0f921"
             ]
            ],
            "type": "histogram2dcontour"
           }
          ],
          "mesh3d": [
           {
            "colorbar": {
             "outlinewidth": 0,
             "ticks": ""
            },
            "type": "mesh3d"
           }
          ],
          "parcoords": [
           {
            "line": {
             "colorbar": {
              "outlinewidth": 0,
              "ticks": ""
             }
            },
            "type": "parcoords"
           }
          ],
          "pie": [
           {
            "automargin": true,
            "type": "pie"
           }
          ],
          "scatter": [
           {
            "marker": {
             "colorbar": {
              "outlinewidth": 0,
              "ticks": ""
             }
            },
            "type": "scatter"
           }
          ],
          "scatter3d": [
           {
            "line": {
             "colorbar": {
              "outlinewidth": 0,
              "ticks": ""
             }
            },
            "marker": {
             "colorbar": {
              "outlinewidth": 0,
              "ticks": ""
             }
            },
            "type": "scatter3d"
           }
          ],
          "scattercarpet": [
           {
            "marker": {
             "colorbar": {
              "outlinewidth": 0,
              "ticks": ""
             }
            },
            "type": "scattercarpet"
           }
          ],
          "scattergeo": [
           {
            "marker": {
             "colorbar": {
              "outlinewidth": 0,
              "ticks": ""
             }
            },
            "type": "scattergeo"
           }
          ],
          "scattergl": [
           {
            "marker": {
             "colorbar": {
              "outlinewidth": 0,
              "ticks": ""
             }
            },
            "type": "scattergl"
           }
          ],
          "scattermapbox": [
           {
            "marker": {
             "colorbar": {
              "outlinewidth": 0,
              "ticks": ""
             }
            },
            "type": "scattermapbox"
           }
          ],
          "scatterpolar": [
           {
            "marker": {
             "colorbar": {
              "outlinewidth": 0,
              "ticks": ""
             }
            },
            "type": "scatterpolar"
           }
          ],
          "scatterpolargl": [
           {
            "marker": {
             "colorbar": {
              "outlinewidth": 0,
              "ticks": ""
             }
            },
            "type": "scatterpolargl"
           }
          ],
          "scatterternary": [
           {
            "marker": {
             "colorbar": {
              "outlinewidth": 0,
              "ticks": ""
             }
            },
            "type": "scatterternary"
           }
          ],
          "surface": [
           {
            "colorbar": {
             "outlinewidth": 0,
             "ticks": ""
            },
            "colorscale": [
             [
              0,
              "#0d0887"
             ],
             [
              0.1111111111111111,
              "#46039f"
             ],
             [
              0.2222222222222222,
              "#7201a8"
             ],
             [
              0.3333333333333333,
              "#9c179e"
             ],
             [
              0.4444444444444444,
              "#bd3786"
             ],
             [
              0.5555555555555556,
              "#d8576b"
             ],
             [
              0.6666666666666666,
              "#ed7953"
             ],
             [
              0.7777777777777778,
              "#fb9f3a"
             ],
             [
              0.8888888888888888,
              "#fdca26"
             ],
             [
              1,
              "#f0f921"
             ]
            ],
            "type": "surface"
           }
          ],
          "table": [
           {
            "cells": {
             "fill": {
              "color": "#EBF0F8"
             },
             "line": {
              "color": "white"
             }
            },
            "header": {
             "fill": {
              "color": "#C8D4E3"
             },
             "line": {
              "color": "white"
             }
            },
            "type": "table"
           }
          ]
         },
         "layout": {
          "annotationdefaults": {
           "arrowcolor": "#2a3f5f",
           "arrowhead": 0,
           "arrowwidth": 1
          },
          "autotypenumbers": "strict",
          "coloraxis": {
           "colorbar": {
            "outlinewidth": 0,
            "ticks": ""
           }
          },
          "colorscale": {
           "diverging": [
            [
             0,
             "#8e0152"
            ],
            [
             0.1,
             "#c51b7d"
            ],
            [
             0.2,
             "#de77ae"
            ],
            [
             0.3,
             "#f1b6da"
            ],
            [
             0.4,
             "#fde0ef"
            ],
            [
             0.5,
             "#f7f7f7"
            ],
            [
             0.6,
             "#e6f5d0"
            ],
            [
             0.7,
             "#b8e186"
            ],
            [
             0.8,
             "#7fbc41"
            ],
            [
             0.9,
             "#4d9221"
            ],
            [
             1,
             "#276419"
            ]
           ],
           "sequential": [
            [
             0,
             "#0d0887"
            ],
            [
             0.1111111111111111,
             "#46039f"
            ],
            [
             0.2222222222222222,
             "#7201a8"
            ],
            [
             0.3333333333333333,
             "#9c179e"
            ],
            [
             0.4444444444444444,
             "#bd3786"
            ],
            [
             0.5555555555555556,
             "#d8576b"
            ],
            [
             0.6666666666666666,
             "#ed7953"
            ],
            [
             0.7777777777777778,
             "#fb9f3a"
            ],
            [
             0.8888888888888888,
             "#fdca26"
            ],
            [
             1,
             "#f0f921"
            ]
           ],
           "sequentialminus": [
            [
             0,
             "#0d0887"
            ],
            [
             0.1111111111111111,
             "#46039f"
            ],
            [
             0.2222222222222222,
             "#7201a8"
            ],
            [
             0.3333333333333333,
             "#9c179e"
            ],
            [
             0.4444444444444444,
             "#bd3786"
            ],
            [
             0.5555555555555556,
             "#d8576b"
            ],
            [
             0.6666666666666666,
             "#ed7953"
            ],
            [
             0.7777777777777778,
             "#fb9f3a"
            ],
            [
             0.8888888888888888,
             "#fdca26"
            ],
            [
             1,
             "#f0f921"
            ]
           ]
          },
          "colorway": [
           "#636efa",
           "#EF553B",
           "#00cc96",
           "#ab63fa",
           "#FFA15A",
           "#19d3f3",
           "#FF6692",
           "#B6E880",
           "#FF97FF",
           "#FECB52"
          ],
          "font": {
           "color": "#2a3f5f"
          },
          "geo": {
           "bgcolor": "white",
           "lakecolor": "white",
           "landcolor": "#E5ECF6",
           "showlakes": true,
           "showland": true,
           "subunitcolor": "white"
          },
          "hoverlabel": {
           "align": "left"
          },
          "hovermode": "closest",
          "mapbox": {
           "style": "light"
          },
          "paper_bgcolor": "white",
          "plot_bgcolor": "#E5ECF6",
          "polar": {
           "angularaxis": {
            "gridcolor": "white",
            "linecolor": "white",
            "ticks": ""
           },
           "bgcolor": "#E5ECF6",
           "radialaxis": {
            "gridcolor": "white",
            "linecolor": "white",
            "ticks": ""
           }
          },
          "scene": {
           "xaxis": {
            "backgroundcolor": "#E5ECF6",
            "gridcolor": "white",
            "gridwidth": 2,
            "linecolor": "white",
            "showbackground": true,
            "ticks": "",
            "zerolinecolor": "white"
           },
           "yaxis": {
            "backgroundcolor": "#E5ECF6",
            "gridcolor": "white",
            "gridwidth": 2,
            "linecolor": "white",
            "showbackground": true,
            "ticks": "",
            "zerolinecolor": "white"
           },
           "zaxis": {
            "backgroundcolor": "#E5ECF6",
            "gridcolor": "white",
            "gridwidth": 2,
            "linecolor": "white",
            "showbackground": true,
            "ticks": "",
            "zerolinecolor": "white"
           }
          },
          "shapedefaults": {
           "line": {
            "color": "#2a3f5f"
           }
          },
          "ternary": {
           "aaxis": {
            "gridcolor": "white",
            "linecolor": "white",
            "ticks": ""
           },
           "baxis": {
            "gridcolor": "white",
            "linecolor": "white",
            "ticks": ""
           },
           "bgcolor": "#E5ECF6",
           "caxis": {
            "gridcolor": "white",
            "linecolor": "white",
            "ticks": ""
           }
          },
          "title": {
           "x": 0.05
          },
          "xaxis": {
           "automargin": true,
           "gridcolor": "white",
           "linecolor": "white",
           "ticks": "",
           "title": {
            "standoff": 15
           },
           "zerolinecolor": "white",
           "zerolinewidth": 2
          },
          "yaxis": {
           "automargin": true,
           "gridcolor": "white",
           "linecolor": "white",
           "ticks": "",
           "title": {
            "standoff": 15
           },
           "zerolinecolor": "white",
           "zerolinewidth": 2
          }
         }
        },
        "xaxis": {
         "anchor": "y",
         "domain": [
          0,
          1
         ],
         "title": {
          "text": "value"
         }
        },
        "yaxis": {
         "anchor": "x",
         "domain": [
          0,
          1
         ],
         "title": {
          "text": "index"
         }
        }
       }
      },
      "text/html": [
       "<div>                            <div id=\"34730abe-29fa-4112-bf10-1f281c066642\" class=\"plotly-graph-div\" style=\"height:525px; width:100%;\"></div>            <script type=\"text/javascript\">                require([\"plotly\"], function(Plotly) {                    window.PLOTLYENV=window.PLOTLYENV || {};                                    if (document.getElementById(\"34730abe-29fa-4112-bf10-1f281c066642\")) {                    Plotly.newPlot(                        \"34730abe-29fa-4112-bf10-1f281c066642\",                        [{\"hovertemplate\":\"variable=numeric_a_n_k1<br>value=%{x}<br>index=%{y}<extra></extra>\",\"legendgroup\":\"numeric_a_n_k1\",\"marker\":{\"color\":\"#636efa\",\"symbol\":\"circle\"},\"mode\":\"markers\",\"name\":\"numeric_a_n_k1\",\"orientation\":\"h\",\"showlegend\":true,\"type\":\"scatter\",\"x\":[10555.011306633845,6817.911143916195,4507.039788316201,4177.073282565293,4124.807424247671,11577.219893197396,5189.272676482812,2993.6119793935077,6532.244669770306,6345.925577537414,7026.349602223993,4367.022743650914,5967.626893713636,6232.013175356883,3629.864611663898],\"xaxis\":\"x\",\"y\":[\"symboling\",\"normalized_losses\",\"wheel_base\",\"length\",\"width\",\"height\",\"curb_weight\",\"engine_size\",\"bore\",\"stroke\",\"compression_rate\",\"horsepower\",\"peak_rpm\",\"city_mpg\",\"highway_mpg\"],\"yaxis\":\"y\"},{\"hovertemplate\":\"variable=numeric_a_n_k3<br>value=%{x}<br>index=%{y}<extra></extra>\",\"legendgroup\":\"numeric_a_n_k3\",\"marker\":{\"color\":\"#EF553B\",\"symbol\":\"circle\"},\"mode\":\"markers\",\"name\":\"numeric_a_n_k3\",\"orientation\":\"h\",\"showlegend\":true,\"type\":\"scatter\",\"x\":[11266.073520670692,6685.536153687767,4958.9004999411745,4424.2710771783,3425.9096362986006,8847.078330171946,3701.7583069747175,2420.5764128647234,5903.756403991256,6628.7531304843815,6549.396763343656,3606.3769427869493,8036.841051284288,3594.930129482851,3300.1912045817403],\"xaxis\":\"x\",\"y\":[\"symboling\",\"normalized_losses\",\"wheel_base\",\"length\",\"width\",\"height\",\"curb_weight\",\"engine_size\",\"bore\",\"stroke\",\"compression_rate\",\"horsepower\",\"peak_rpm\",\"city_mpg\",\"highway_mpg\"],\"yaxis\":\"y\"},{\"hovertemplate\":\"variable=numeric_a_n_k5<br>value=%{x}<br>index=%{y}<extra></extra>\",\"legendgroup\":\"numeric_a_n_k5\",\"marker\":{\"color\":\"#00cc96\",\"symbol\":\"circle\"},\"mode\":\"markers\",\"name\":\"numeric_a_n_k5\",\"orientation\":\"h\",\"showlegend\":true,\"type\":\"scatter\",\"x\":[9139.92525055553,6565.1576606588005,5692.399244711154,5248.787423644995,3127.9318270153276,7769.183762038122,3711.4710330151966,2497.602611218277,6433.337846955444,6566.996246548205,6380.42015196833,3436.5367676839373,7502.373120632439,3216.3090026911404,3056.4954359041617],\"xaxis\":\"x\",\"y\":[\"symboling\",\"normalized_losses\",\"wheel_base\",\"length\",\"width\",\"height\",\"curb_weight\",\"engine_size\",\"bore\",\"stroke\",\"compression_rate\",\"horsepower\",\"peak_rpm\",\"city_mpg\",\"highway_mpg\"],\"yaxis\":\"y\"},{\"hovertemplate\":\"variable=numeric_a_n_k7<br>value=%{x}<br>index=%{y}<extra></extra>\",\"legendgroup\":\"numeric_a_n_k7\",\"marker\":{\"color\":\"#ab63fa\",\"symbol\":\"circle\"},\"mode\":\"markers\",\"name\":\"numeric_a_n_k7\",\"orientation\":\"h\",\"showlegend\":true,\"type\":\"scatter\",\"x\":[7705.4650655059395,7142.670998182715,5518.370754616908,5348.244490742181,3194.559819994602,7231.63961261656,3722.3990331413565,2781.943187043649,7210.4416399944885,6862.048056315053,6144.0505857062335,3538.991272369038,7661.029439899435,3696.175130328568,2970.7032599977747],\"xaxis\":\"x\",\"y\":[\"symboling\",\"normalized_losses\",\"wheel_base\",\"length\",\"width\",\"height\",\"curb_weight\",\"engine_size\",\"bore\",\"stroke\",\"compression_rate\",\"horsepower\",\"peak_rpm\",\"city_mpg\",\"highway_mpg\"],\"yaxis\":\"y\"},{\"hovertemplate\":\"variable=numeric_a_n_k9<br>value=%{x}<br>index=%{y}<extra></extra>\",\"legendgroup\":\"numeric_a_n_k9\",\"marker\":{\"color\":\"#FFA15A\",\"symbol\":\"circle\"},\"mode\":\"markers\",\"name\":\"numeric_a_n_k9\",\"orientation\":\"h\",\"showlegend\":true,\"type\":\"scatter\",\"x\":[6984.723727819628,6800.933103280492,5650.010374676911,4935.329759720592,3280.1333274186195,7185.097448790284,3669.0626663565768,2806.019104490545,6515.604833600236,6839.783320608642,6085.4293321793675,3708.6471497975517,7565.280614552386,3797.0942597441185,3131.563398533056],\"xaxis\":\"x\",\"y\":[\"symboling\",\"normalized_losses\",\"wheel_base\",\"length\",\"width\",\"height\",\"curb_weight\",\"engine_size\",\"bore\",\"stroke\",\"compression_rate\",\"horsepower\",\"peak_rpm\",\"city_mpg\",\"highway_mpg\"],\"yaxis\":\"y\"},{\"hovertemplate\":\"variable=numeric_b_n_k1<br>value=%{x}<br>index=%{y}<extra></extra>\",\"legendgroup\":\"numeric_b_n_k1\",\"marker\":{\"color\":\"#19d3f3\",\"symbol\":\"circle\"},\"mode\":\"markers\",\"name\":\"numeric_b_n_k1\",\"orientation\":\"h\",\"showlegend\":true,\"type\":\"scatter\",\"x\":[8879.833789697477,6097.597946264227,4102.025335994752,5612.168989375331,3945.691721772661,9661.932239569931,5893.477269535415,3277.1469018532766,10662.527910339813,7193.583458151282,7587.921435695398,3915.7853592340625,12019.712099255106,6624.458182695828,5913.4858646511175],\"xaxis\":\"x\",\"y\":[\"symboling\",\"normalized_losses\",\"wheel_base\",\"length\",\"width\",\"height\",\"curb_weight\",\"engine_size\",\"bore\",\"stroke\",\"compression_rate\",\"horsepower\",\"peak_rpm\",\"city_mpg\",\"highway_mpg\"],\"yaxis\":\"y\"},{\"hovertemplate\":\"variable=numeric_b_n_k3<br>value=%{x}<br>index=%{y}<extra></extra>\",\"legendgroup\":\"numeric_b_n_k3\",\"marker\":{\"color\":\"#FF6692\",\"symbol\":\"circle\"},\"mode\":\"markers\",\"name\":\"numeric_b_n_k3\",\"orientation\":\"h\",\"showlegend\":true,\"type\":\"scatter\",\"x\":[7166.31926788127,6775.563532386505,3807.5122733903486,5411.4328254622,3880.738131100432,7376.701190088006,4406.259212820655,2461.686799092321,8622.032235806326,7274.059233107561,6409.503175778718,4573.288778887907,9710.909902056055,4142.042354058176,5293.909673425255],\"xaxis\":\"x\",\"y\":[\"symboling\",\"normalized_losses\",\"wheel_base\",\"length\",\"width\",\"height\",\"curb_weight\",\"engine_size\",\"bore\",\"stroke\",\"compression_rate\",\"horsepower\",\"peak_rpm\",\"city_mpg\",\"highway_mpg\"],\"yaxis\":\"y\"},{\"hovertemplate\":\"variable=numeric_b_n_k5<br>value=%{x}<br>index=%{y}<extra></extra>\",\"legendgroup\":\"numeric_b_n_k5\",\"marker\":{\"color\":\"#B6E880\",\"symbol\":\"circle\"},\"mode\":\"markers\",\"name\":\"numeric_b_n_k5\",\"orientation\":\"h\",\"showlegend\":true,\"type\":\"scatter\",\"x\":[7572.687586157969,7036.2801578095,5420.347821319369,4642.182449878418,3924.483419638871,7295.291201248954,4269.753671956226,2928.9438425926205,7476.1932268026485,6679.46139057359,6359.264611636815,4189.8832021615,8508.607094883511,3628.061924409083,4458.836800039642],\"xaxis\":\"x\",\"y\":[\"symboling\",\"normalized_losses\",\"wheel_base\",\"length\",\"width\",\"height\",\"curb_weight\",\"engine_size\",\"bore\",\"stroke\",\"compression_rate\",\"horsepower\",\"peak_rpm\",\"city_mpg\",\"highway_mpg\"],\"yaxis\":\"y\"},{\"hovertemplate\":\"variable=numeric_b_n_k7<br>value=%{x}<br>index=%{y}<extra></extra>\",\"legendgroup\":\"numeric_b_n_k7\",\"marker\":{\"color\":\"#FF97FF\",\"symbol\":\"circle\"},\"mode\":\"markers\",\"name\":\"numeric_b_n_k7\",\"orientation\":\"h\",\"showlegend\":true,\"type\":\"scatter\",\"x\":[7150.692027772671,6581.770406215434,5239.365461344152,4491.043914492399,3559.9703424654613,7036.61478313299,4120.374384963283,2656.232785896153,6978.116219087859,6576.2774723846815,6370.823112582869,4393.4614629476,8257.366205807373,3984.474033392886,3770.9113046413445],\"xaxis\":\"x\",\"y\":[\"symboling\",\"normalized_losses\",\"wheel_base\",\"length\",\"width\",\"height\",\"curb_weight\",\"engine_size\",\"bore\",\"stroke\",\"compression_rate\",\"horsepower\",\"peak_rpm\",\"city_mpg\",\"highway_mpg\"],\"yaxis\":\"y\"},{\"hovertemplate\":\"variable=numeric_b_n_k9<br>value=%{x}<br>index=%{y}<extra></extra>\",\"legendgroup\":\"numeric_b_n_k9\",\"marker\":{\"color\":\"#FECB52\",\"symbol\":\"circle\"},\"mode\":\"markers\",\"name\":\"numeric_b_n_k9\",\"orientation\":\"h\",\"showlegend\":true,\"type\":\"scatter\",\"x\":[7205.1048748174135,6734.0596964677125,5224.027153552918,4132.795705730091,3447.442624362895,7119.2384771889,3798.83547198147,2729.280876217206,6282.645609895278,6721.032815494496,6317.182223659025,4327.5053510063,8175.179937689778,4161.90082446268,3622.3072735657015],\"xaxis\":\"x\",\"y\":[\"symboling\",\"normalized_losses\",\"wheel_base\",\"length\",\"width\",\"height\",\"curb_weight\",\"engine_size\",\"bore\",\"stroke\",\"compression_rate\",\"horsepower\",\"peak_rpm\",\"city_mpg\",\"highway_mpg\"],\"yaxis\":\"y\"},{\"hovertemplate\":\"variable=numeric_c_n_k1<br>value=%{x}<br>index=%{y}<extra></extra>\",\"legendgroup\":\"numeric_c_n_k1\",\"marker\":{\"color\":\"#636efa\",\"symbol\":\"circle\"},\"mode\":\"markers\",\"name\":\"numeric_c_n_k1\",\"orientation\":\"h\",\"showlegend\":true,\"type\":\"scatter\",\"x\":[15390.939573635753,7406.5586766531915,3890.9490945893385,4870.269269306028,4279.114585465862,9804.521204878687,4531.73553573309,2693.041898087253,6480.936017537257,6478.113358997395,8709.73436480968,3952.924513357334,10176.889612237437,5007.742167064582,5101.116012085003],\"xaxis\":\"x\",\"y\":[\"symboling\",\"normalized_losses\",\"wheel_base\",\"length\",\"width\",\"height\",\"curb_weight\",\"engine_size\",\"bore\",\"stroke\",\"compression_rate\",\"horsepower\",\"peak_rpm\",\"city_mpg\",\"highway_mpg\"],\"yaxis\":\"y\"},{\"hovertemplate\":\"variable=numeric_c_n_k3<br>value=%{x}<br>index=%{y}<extra></extra>\",\"legendgroup\":\"numeric_c_n_k3\",\"marker\":{\"color\":\"#EF553B\",\"symbol\":\"circle\"},\"mode\":\"markers\",\"name\":\"numeric_c_n_k3\",\"orientation\":\"h\",\"showlegend\":true,\"type\":\"scatter\",\"x\":[8445.989152183027,7238.314716416373,5730.080848484265,5401.313651353709,4193.853006253329,7753.477528602082,3932.2599066850644,2408.662738183055,5944.641568675126,6154.788515048251,5280.5410254134495,3522.0687178599064,6366.154752379795,3780.0772416018126,4767.126366967019],\"xaxis\":\"x\",\"y\":[\"symboling\",\"normalized_losses\",\"wheel_base\",\"length\",\"width\",\"height\",\"curb_weight\",\"engine_size\",\"bore\",\"stroke\",\"compression_rate\",\"horsepower\",\"peak_rpm\",\"city_mpg\",\"highway_mpg\"],\"yaxis\":\"y\"},{\"hovertemplate\":\"variable=numeric_c_n_k5<br>value=%{x}<br>index=%{y}<extra></extra>\",\"legendgroup\":\"numeric_c_n_k5\",\"marker\":{\"color\":\"#00cc96\",\"symbol\":\"circle\"},\"mode\":\"markers\",\"name\":\"numeric_c_n_k5\",\"orientation\":\"h\",\"showlegend\":true,\"type\":\"scatter\",\"x\":[7401.701593221194,7899.9397185640755,5928.061397517002,5097.049295516632,4324.021786122303,7952.288598942168,3890.354245751573,2353.2063175828102,5965.86458999219,6424.950616092394,5777.206956898693,3740.335518674099,7176.912532997773,3744.9745591448705,4215.02641210733],\"xaxis\":\"x\",\"y\":[\"symboling\",\"normalized_losses\",\"wheel_base\",\"length\",\"width\",\"height\",\"curb_weight\",\"engine_size\",\"bore\",\"stroke\",\"compression_rate\",\"horsepower\",\"peak_rpm\",\"city_mpg\",\"highway_mpg\"],\"yaxis\":\"y\"},{\"hovertemplate\":\"variable=numeric_c_n_k7<br>value=%{x}<br>index=%{y}<extra></extra>\",\"legendgroup\":\"numeric_c_n_k7\",\"marker\":{\"color\":\"#ab63fa\",\"symbol\":\"circle\"},\"mode\":\"markers\",\"name\":\"numeric_c_n_k7\",\"orientation\":\"h\",\"showlegend\":true,\"type\":\"scatter\",\"x\":[7020.331421584982,8134.057135992776,5981.879923432098,5082.216636249557,4390.805736988797,7695.62310553563,3961.0533694432133,2765.5140266115295,5925.297530397809,6890.144968495881,5953.312703594651,3813.920977044949,7559.816705561562,3793.4779728178714,4173.685948943675],\"xaxis\":\"x\",\"y\":[\"symboling\",\"normalized_losses\",\"wheel_base\",\"length\",\"width\",\"height\",\"curb_weight\",\"engine_size\",\"bore\",\"stroke\",\"compression_rate\",\"horsepower\",\"peak_rpm\",\"city_mpg\",\"highway_mpg\"],\"yaxis\":\"y\"},{\"hovertemplate\":\"variable=numeric_c_n_k9<br>value=%{x}<br>index=%{y}<extra></extra>\",\"legendgroup\":\"numeric_c_n_k9\",\"marker\":{\"color\":\"#FFA15A\",\"symbol\":\"circle\"},\"mode\":\"markers\",\"name\":\"numeric_c_n_k9\",\"orientation\":\"h\",\"showlegend\":true,\"type\":\"scatter\",\"x\":[7205.89234264889,8363.491893352557,6107.644102218803,5205.273250939614,4511.944397665691,7663.820089416815,3775.8807915561188,3005.7168161588393,5927.482421931915,7237.566468801807,6467.846941398527,4051.082574059664,7451.04187015843,4019.2502325241285,4358.155450495955],\"xaxis\":\"x\",\"y\":[\"symboling\",\"normalized_losses\",\"wheel_base\",\"length\",\"width\",\"height\",\"curb_weight\",\"engine_size\",\"bore\",\"stroke\",\"compression_rate\",\"horsepower\",\"peak_rpm\",\"city_mpg\",\"highway_mpg\"],\"yaxis\":\"y\"}],                        {\"legend\":{\"title\":{\"text\":\"variable\"},\"tracegroupgap\":0},\"margin\":{\"t\":60},\"template\":{\"data\":{\"bar\":[{\"error_x\":{\"color\":\"#2a3f5f\"},\"error_y\":{\"color\":\"#2a3f5f\"},\"marker\":{\"line\":{\"color\":\"#E5ECF6\",\"width\":0.5},\"pattern\":{\"fillmode\":\"overlay\",\"size\":10,\"solidity\":0.2}},\"type\":\"bar\"}],\"barpolar\":[{\"marker\":{\"line\":{\"color\":\"#E5ECF6\",\"width\":0.5},\"pattern\":{\"fillmode\":\"overlay\",\"size\":10,\"solidity\":0.2}},\"type\":\"barpolar\"}],\"carpet\":[{\"aaxis\":{\"endlinecolor\":\"#2a3f5f\",\"gridcolor\":\"white\",\"linecolor\":\"white\",\"minorgridcolor\":\"white\",\"startlinecolor\":\"#2a3f5f\"},\"baxis\":{\"endlinecolor\":\"#2a3f5f\",\"gridcolor\":\"white\",\"linecolor\":\"white\",\"minorgridcolor\":\"white\",\"startlinecolor\":\"#2a3f5f\"},\"type\":\"carpet\"}],\"choropleth\":[{\"colorbar\":{\"outlinewidth\":0,\"ticks\":\"\"},\"type\":\"choropleth\"}],\"contour\":[{\"colorbar\":{\"outlinewidth\":0,\"ticks\":\"\"},\"colorscale\":[[0.0,\"#0d0887\"],[0.1111111111111111,\"#46039f\"],[0.2222222222222222,\"#7201a8\"],[0.3333333333333333,\"#9c179e\"],[0.4444444444444444,\"#bd3786\"],[0.5555555555555556,\"#d8576b\"],[0.6666666666666666,\"#ed7953\"],[0.7777777777777778,\"#fb9f3a\"],[0.8888888888888888,\"#fdca26\"],[1.0,\"#f0f921\"]],\"type\":\"contour\"}],\"contourcarpet\":[{\"colorbar\":{\"outlinewidth\":0,\"ticks\":\"\"},\"type\":\"contourcarpet\"}],\"heatmap\":[{\"colorbar\":{\"outlinewidth\":0,\"ticks\":\"\"},\"colorscale\":[[0.0,\"#0d0887\"],[0.1111111111111111,\"#46039f\"],[0.2222222222222222,\"#7201a8\"],[0.3333333333333333,\"#9c179e\"],[0.4444444444444444,\"#bd3786\"],[0.5555555555555556,\"#d8576b\"],[0.6666666666666666,\"#ed7953\"],[0.7777777777777778,\"#fb9f3a\"],[0.8888888888888888,\"#fdca26\"],[1.0,\"#f0f921\"]],\"type\":\"heatmap\"}],\"heatmapgl\":[{\"colorbar\":{\"outlinewidth\":0,\"ticks\":\"\"},\"colorscale\":[[0.0,\"#0d0887\"],[0.1111111111111111,\"#46039f\"],[0.2222222222222222,\"#7201a8\"],[0.3333333333333333,\"#9c179e\"],[0.4444444444444444,\"#bd3786\"],[0.5555555555555556,\"#d8576b\"],[0.6666666666666666,\"#ed7953\"],[0.7777777777777778,\"#fb9f3a\"],[0.8888888888888888,\"#fdca26\"],[1.0,\"#f0f921\"]],\"type\":\"heatmapgl\"}],\"histogram\":[{\"marker\":{\"pattern\":{\"fillmode\":\"overlay\",\"size\":10,\"solidity\":0.2}},\"type\":\"histogram\"}],\"histogram2d\":[{\"colorbar\":{\"outlinewidth\":0,\"ticks\":\"\"},\"colorscale\":[[0.0,\"#0d0887\"],[0.1111111111111111,\"#46039f\"],[0.2222222222222222,\"#7201a8\"],[0.3333333333333333,\"#9c179e\"],[0.4444444444444444,\"#bd3786\"],[0.5555555555555556,\"#d8576b\"],[0.6666666666666666,\"#ed7953\"],[0.7777777777777778,\"#fb9f3a\"],[0.8888888888888888,\"#fdca26\"],[1.0,\"#f0f921\"]],\"type\":\"histogram2d\"}],\"histogram2dcontour\":[{\"colorbar\":{\"outlinewidth\":0,\"ticks\":\"\"},\"colorscale\":[[0.0,\"#0d0887\"],[0.1111111111111111,\"#46039f\"],[0.2222222222222222,\"#7201a8\"],[0.3333333333333333,\"#9c179e\"],[0.4444444444444444,\"#bd3786\"],[0.5555555555555556,\"#d8576b\"],[0.6666666666666666,\"#ed7953\"],[0.7777777777777778,\"#fb9f3a\"],[0.8888888888888888,\"#fdca26\"],[1.0,\"#f0f921\"]],\"type\":\"histogram2dcontour\"}],\"mesh3d\":[{\"colorbar\":{\"outlinewidth\":0,\"ticks\":\"\"},\"type\":\"mesh3d\"}],\"parcoords\":[{\"line\":{\"colorbar\":{\"outlinewidth\":0,\"ticks\":\"\"}},\"type\":\"parcoords\"}],\"pie\":[{\"automargin\":true,\"type\":\"pie\"}],\"scatter\":[{\"marker\":{\"colorbar\":{\"outlinewidth\":0,\"ticks\":\"\"}},\"type\":\"scatter\"}],\"scatter3d\":[{\"line\":{\"colorbar\":{\"outlinewidth\":0,\"ticks\":\"\"}},\"marker\":{\"colorbar\":{\"outlinewidth\":0,\"ticks\":\"\"}},\"type\":\"scatter3d\"}],\"scattercarpet\":[{\"marker\":{\"colorbar\":{\"outlinewidth\":0,\"ticks\":\"\"}},\"type\":\"scattercarpet\"}],\"scattergeo\":[{\"marker\":{\"colorbar\":{\"outlinewidth\":0,\"ticks\":\"\"}},\"type\":\"scattergeo\"}],\"scattergl\":[{\"marker\":{\"colorbar\":{\"outlinewidth\":0,\"ticks\":\"\"}},\"type\":\"scattergl\"}],\"scattermapbox\":[{\"marker\":{\"colorbar\":{\"outlinewidth\":0,\"ticks\":\"\"}},\"type\":\"scattermapbox\"}],\"scatterpolar\":[{\"marker\":{\"colorbar\":{\"outlinewidth\":0,\"ticks\":\"\"}},\"type\":\"scatterpolar\"}],\"scatterpolargl\":[{\"marker\":{\"colorbar\":{\"outlinewidth\":0,\"ticks\":\"\"}},\"type\":\"scatterpolargl\"}],\"scatterternary\":[{\"marker\":{\"colorbar\":{\"outlinewidth\":0,\"ticks\":\"\"}},\"type\":\"scatterternary\"}],\"surface\":[{\"colorbar\":{\"outlinewidth\":0,\"ticks\":\"\"},\"colorscale\":[[0.0,\"#0d0887\"],[0.1111111111111111,\"#46039f\"],[0.2222222222222222,\"#7201a8\"],[0.3333333333333333,\"#9c179e\"],[0.4444444444444444,\"#bd3786\"],[0.5555555555555556,\"#d8576b\"],[0.6666666666666666,\"#ed7953\"],[0.7777777777777778,\"#fb9f3a\"],[0.8888888888888888,\"#fdca26\"],[1.0,\"#f0f921\"]],\"type\":\"surface\"}],\"table\":[{\"cells\":{\"fill\":{\"color\":\"#EBF0F8\"},\"line\":{\"color\":\"white\"}},\"header\":{\"fill\":{\"color\":\"#C8D4E3\"},\"line\":{\"color\":\"white\"}},\"type\":\"table\"}]},\"layout\":{\"annotationdefaults\":{\"arrowcolor\":\"#2a3f5f\",\"arrowhead\":0,\"arrowwidth\":1},\"autotypenumbers\":\"strict\",\"coloraxis\":{\"colorbar\":{\"outlinewidth\":0,\"ticks\":\"\"}},\"colorscale\":{\"diverging\":[[0,\"#8e0152\"],[0.1,\"#c51b7d\"],[0.2,\"#de77ae\"],[0.3,\"#f1b6da\"],[0.4,\"#fde0ef\"],[0.5,\"#f7f7f7\"],[0.6,\"#e6f5d0\"],[0.7,\"#b8e186\"],[0.8,\"#7fbc41\"],[0.9,\"#4d9221\"],[1,\"#276419\"]],\"sequential\":[[0.0,\"#0d0887\"],[0.1111111111111111,\"#46039f\"],[0.2222222222222222,\"#7201a8\"],[0.3333333333333333,\"#9c179e\"],[0.4444444444444444,\"#bd3786\"],[0.5555555555555556,\"#d8576b\"],[0.6666666666666666,\"#ed7953\"],[0.7777777777777778,\"#fb9f3a\"],[0.8888888888888888,\"#fdca26\"],[1.0,\"#f0f921\"]],\"sequentialminus\":[[0.0,\"#0d0887\"],[0.1111111111111111,\"#46039f\"],[0.2222222222222222,\"#7201a8\"],[0.3333333333333333,\"#9c179e\"],[0.4444444444444444,\"#bd3786\"],[0.5555555555555556,\"#d8576b\"],[0.6666666666666666,\"#ed7953\"],[0.7777777777777778,\"#fb9f3a\"],[0.8888888888888888,\"#fdca26\"],[1.0,\"#f0f921\"]]},\"colorway\":[\"#636efa\",\"#EF553B\",\"#00cc96\",\"#ab63fa\",\"#FFA15A\",\"#19d3f3\",\"#FF6692\",\"#B6E880\",\"#FF97FF\",\"#FECB52\"],\"font\":{\"color\":\"#2a3f5f\"},\"geo\":{\"bgcolor\":\"white\",\"lakecolor\":\"white\",\"landcolor\":\"#E5ECF6\",\"showlakes\":true,\"showland\":true,\"subunitcolor\":\"white\"},\"hoverlabel\":{\"align\":\"left\"},\"hovermode\":\"closest\",\"mapbox\":{\"style\":\"light\"},\"paper_bgcolor\":\"white\",\"plot_bgcolor\":\"#E5ECF6\",\"polar\":{\"angularaxis\":{\"gridcolor\":\"white\",\"linecolor\":\"white\",\"ticks\":\"\"},\"bgcolor\":\"#E5ECF6\",\"radialaxis\":{\"gridcolor\":\"white\",\"linecolor\":\"white\",\"ticks\":\"\"}},\"scene\":{\"xaxis\":{\"backgroundcolor\":\"#E5ECF6\",\"gridcolor\":\"white\",\"gridwidth\":2,\"linecolor\":\"white\",\"showbackground\":true,\"ticks\":\"\",\"zerolinecolor\":\"white\"},\"yaxis\":{\"backgroundcolor\":\"#E5ECF6\",\"gridcolor\":\"white\",\"gridwidth\":2,\"linecolor\":\"white\",\"showbackground\":true,\"ticks\":\"\",\"zerolinecolor\":\"white\"},\"zaxis\":{\"backgroundcolor\":\"#E5ECF6\",\"gridcolor\":\"white\",\"gridwidth\":2,\"linecolor\":\"white\",\"showbackground\":true,\"ticks\":\"\",\"zerolinecolor\":\"white\"}},\"shapedefaults\":{\"line\":{\"color\":\"#2a3f5f\"}},\"ternary\":{\"aaxis\":{\"gridcolor\":\"white\",\"linecolor\":\"white\",\"ticks\":\"\"},\"baxis\":{\"gridcolor\":\"white\",\"linecolor\":\"white\",\"ticks\":\"\"},\"bgcolor\":\"#E5ECF6\",\"caxis\":{\"gridcolor\":\"white\",\"linecolor\":\"white\",\"ticks\":\"\"}},\"title\":{\"x\":0.05},\"xaxis\":{\"automargin\":true,\"gridcolor\":\"white\",\"linecolor\":\"white\",\"ticks\":\"\",\"title\":{\"standoff\":15},\"zerolinecolor\":\"white\",\"zerolinewidth\":2},\"yaxis\":{\"automargin\":true,\"gridcolor\":\"white\",\"linecolor\":\"white\",\"ticks\":\"\",\"title\":{\"standoff\":15},\"zerolinecolor\":\"white\",\"zerolinewidth\":2}}},\"xaxis\":{\"anchor\":\"y\",\"domain\":[0.0,1.0],\"title\":{\"text\":\"value\"}},\"yaxis\":{\"anchor\":\"x\",\"domain\":[0.0,1.0],\"title\":{\"text\":\"index\"}}},                        {\"responsive\": true}                    ).then(function(){\n",
       "                            \n",
       "var gd = document.getElementById('34730abe-29fa-4112-bf10-1f281c066642');\n",
       "var x = new MutationObserver(function (mutations, observer) {{\n",
       "        var display = window.getComputedStyle(gd).display;\n",
       "        if (!display || display === 'none') {{\n",
       "            console.log([gd, 'removed!']);\n",
       "            Plotly.purge(gd);\n",
       "            observer.disconnect();\n",
       "        }}\n",
       "}});\n",
       "\n",
       "// Listen for the removal of the full notebook cells\n",
       "var notebookContainer = gd.closest('#notebook-container');\n",
       "if (notebookContainer) {{\n",
       "    x.observe(notebookContainer, {childList: true});\n",
       "}}\n",
       "\n",
       "// Listen for the clearing of the current output cell\n",
       "var outputEl = gd.closest('.output');\n",
       "if (outputEl) {{\n",
       "    x.observe(outputEl, {childList: true});\n",
       "}}\n",
       "\n",
       "                        })                };                });            </script>        </div>"
      ]
     },
     "metadata": {},
     "output_type": "display_data"
    }
   ],
   "source": [
    "results_frame2.plot(\n",
    "    kind='scatter',\n",
    "    y=results_frame2.index, \n",
    "    x=results_frame2.columns, \n",
    "    backend='plotly'     \n",
    ")"
   ]
  },
  {
   "cell_type": "code",
   "execution_count": 50,
   "id": "96d49b66",
   "metadata": {},
   "outputs": [
    {
     "data": {
      "text/plain": [
       "Index(['symboling', 'normalized_losses', 'wheel_base', 'length', 'width',\n",
       "       'height', 'curb_weight', 'engine_size', 'bore', 'stroke',\n",
       "       'compression_rate', 'horsepower', 'peak_rpm', 'city_mpg',\n",
       "       'highway_mpg'],\n",
       "      dtype='object')"
      ]
     },
     "execution_count": 50,
     "metadata": {},
     "output_type": "execute_result"
    }
   ],
   "source": [
    "results_frame2.index"
   ]
  },
  {
   "cell_type": "code",
   "execution_count": 46,
   "id": "cf14d135",
   "metadata": {},
   "outputs": [
    {
     "data": {
      "text/plain": [
       "Index(['numeric_a_n_k1', 'numeric_a_n_k3', 'numeric_a_n_k5', 'numeric_a_n_k7',\n",
       "       'numeric_a_n_k9', 'numeric_b_n_k1', 'numeric_b_n_k3', 'numeric_b_n_k5',\n",
       "       'numeric_b_n_k7', 'numeric_b_n_k9', 'numeric_c_n_k1', 'numeric_c_n_k3',\n",
       "       'numeric_c_n_k5', 'numeric_c_n_k7', 'numeric_c_n_k9'],\n",
       "      dtype='object')"
      ]
     },
     "execution_count": 46,
     "metadata": {},
     "output_type": "execute_result"
    }
   ],
   "source": [
    "results_frame2.columns"
   ]
  },
  {
   "cell_type": "code",
   "execution_count": null,
   "id": "66792253",
   "metadata": {},
   "outputs": [],
   "source": []
  }
 ],
 "metadata": {
  "kernelspec": {
   "display_name": "Python 3 (ipykernel)",
   "language": "python",
   "name": "python3"
  },
  "language_info": {
   "codemirror_mode": {
    "name": "ipython",
    "version": 3
   },
   "file_extension": ".py",
   "mimetype": "text/x-python",
   "name": "python",
   "nbconvert_exporter": "python",
   "pygments_lexer": "ipython3",
   "version": "3.8.2"
  }
 },
 "nbformat": 4,
 "nbformat_minor": 5
}
