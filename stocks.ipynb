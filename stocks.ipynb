{
 "cells": [
  {
   "cell_type": "markdown",
   "id": "931c1ff6",
   "metadata": {},
   "source": [
    "# A very inaccurate stocks price prediction model"
   ]
  },
  {
   "cell_type": "markdown",
   "id": "827a480c",
   "metadata": {},
   "source": [
    "The good old stock prices predicting, the Internet is full of notebooks boasting 90-something accuracy. This one is also pretty good at predicting the prices in part 1. But in part 2, we'll quickly learn that being so accurate in price prediction doesn't mean being successful. We shouldn't be predicting the price at all.\n",
    "\n",
    "We're going to build the price prediction model with a satisfying accuracy, then we're going to quickly prove that predicting the price is not what we should be after.\n",
    "This notebook is divided in 2 parts:"
   ]
  },
  {
   "cell_type": "code",
   "execution_count": 1,
   "id": "a4e64ac5",
   "metadata": {},
   "outputs": [],
   "source": [
    "\n",
    "import pandas as pd\n",
    "import numpy as np\n",
    "import matplotlib.pyplot as plt\n",
    "import seaborn as sns\n",
    "from sklearn.model_selection import KFold\n",
    "from sklearn.metrics import mean_squared_error\n",
    "from sklearn import linear_model\n",
    "from sklearn.model_selection import KFold\n",
    "from itertools import combinations\n",
    "from sklearn.feature_selection import SelectKBest, f_classif\n",
    "import pynance as pn"
   ]
  },
  {
   "cell_type": "code",
   "execution_count": 2,
   "id": "8aa015ca",
   "metadata": {},
   "outputs": [],
   "source": [
    "df = pn.data.get('AAPL', '1980', '2022')"
   ]
  },
  {
   "cell_type": "code",
   "execution_count": 3,
   "id": "9def0311",
   "metadata": {
    "scrolled": true
   },
   "outputs": [
    {
     "data": {
      "text/html": [
       "<div>\n",
       "<style scoped>\n",
       "    .dataframe tbody tr th:only-of-type {\n",
       "        vertical-align: middle;\n",
       "    }\n",
       "\n",
       "    .dataframe tbody tr th {\n",
       "        vertical-align: top;\n",
       "    }\n",
       "\n",
       "    .dataframe thead th {\n",
       "        text-align: right;\n",
       "    }\n",
       "</style>\n",
       "<table border=\"1\" class=\"dataframe\">\n",
       "  <thead>\n",
       "    <tr style=\"text-align: right;\">\n",
       "      <th></th>\n",
       "      <th>Date</th>\n",
       "      <th>Open</th>\n",
       "      <th>High</th>\n",
       "      <th>Low</th>\n",
       "      <th>Close</th>\n",
       "      <th>Volume</th>\n",
       "    </tr>\n",
       "  </thead>\n",
       "  <tbody>\n",
       "    <tr>\n",
       "      <th>0</th>\n",
       "      <td>1984-09-07</td>\n",
       "      <td>0.10135</td>\n",
       "      <td>0.10259</td>\n",
       "      <td>0.10013</td>\n",
       "      <td>0.10135</td>\n",
       "      <td>97112425</td>\n",
       "    </tr>\n",
       "    <tr>\n",
       "      <th>1</th>\n",
       "      <td>1984-09-10</td>\n",
       "      <td>0.10135</td>\n",
       "      <td>0.10166</td>\n",
       "      <td>0.09891</td>\n",
       "      <td>0.10075</td>\n",
       "      <td>75375084</td>\n",
       "    </tr>\n",
       "    <tr>\n",
       "      <th>2</th>\n",
       "      <td>1984-09-11</td>\n",
       "      <td>0.10166</td>\n",
       "      <td>0.10441</td>\n",
       "      <td>0.10166</td>\n",
       "      <td>0.10259</td>\n",
       "      <td>177738922</td>\n",
       "    </tr>\n",
       "    <tr>\n",
       "      <th>3</th>\n",
       "      <td>1984-09-12</td>\n",
       "      <td>0.10259</td>\n",
       "      <td>0.10319</td>\n",
       "      <td>0.09951</td>\n",
       "      <td>0.09951</td>\n",
       "      <td>155270107</td>\n",
       "    </tr>\n",
       "    <tr>\n",
       "      <th>4</th>\n",
       "      <td>1984-09-13</td>\n",
       "      <td>0.10503</td>\n",
       "      <td>0.10533</td>\n",
       "      <td>0.10503</td>\n",
       "      <td>0.10503</td>\n",
       "      <td>241827450</td>\n",
       "    </tr>\n",
       "  </tbody>\n",
       "</table>\n",
       "</div>"
      ],
      "text/plain": [
       "        Date     Open     High      Low    Close     Volume\n",
       "0 1984-09-07  0.10135  0.10259  0.10013  0.10135   97112425\n",
       "1 1984-09-10  0.10135  0.10166  0.09891  0.10075   75375084\n",
       "2 1984-09-11  0.10166  0.10441  0.10166  0.10259  177738922\n",
       "3 1984-09-12  0.10259  0.10319  0.09951  0.09951  155270107\n",
       "4 1984-09-13  0.10503  0.10533  0.10503  0.10503  241827450"
      ]
     },
     "execution_count": 3,
     "metadata": {},
     "output_type": "execute_result"
    }
   ],
   "source": [
    "df = df.sort_index()\n",
    "df = df.reset_index()\n",
    "df.head()"
   ]
  },
  {
   "cell_type": "code",
   "execution_count": 4,
   "id": "681b64d9",
   "metadata": {},
   "outputs": [
    {
     "data": {
      "text/html": [
       "<div>\n",
       "<style scoped>\n",
       "    .dataframe tbody tr th:only-of-type {\n",
       "        vertical-align: middle;\n",
       "    }\n",
       "\n",
       "    .dataframe tbody tr th {\n",
       "        vertical-align: top;\n",
       "    }\n",
       "\n",
       "    .dataframe thead th {\n",
       "        text-align: right;\n",
       "    }\n",
       "</style>\n",
       "<table border=\"1\" class=\"dataframe\">\n",
       "  <thead>\n",
       "    <tr style=\"text-align: right;\">\n",
       "      <th></th>\n",
       "      <th>Date</th>\n",
       "      <th>Open</th>\n",
       "      <th>High</th>\n",
       "      <th>Low</th>\n",
       "      <th>Close</th>\n",
       "      <th>Volume</th>\n",
       "    </tr>\n",
       "  </thead>\n",
       "  <tbody>\n",
       "    <tr>\n",
       "      <th>9369</th>\n",
       "      <td>2021-11-08</td>\n",
       "      <td>151.41</td>\n",
       "      <td>151.570</td>\n",
       "      <td>150.1600</td>\n",
       "      <td>150.44</td>\n",
       "      <td>55020868</td>\n",
       "    </tr>\n",
       "    <tr>\n",
       "      <th>9370</th>\n",
       "      <td>2021-11-09</td>\n",
       "      <td>150.20</td>\n",
       "      <td>151.428</td>\n",
       "      <td>150.0601</td>\n",
       "      <td>150.81</td>\n",
       "      <td>56787930</td>\n",
       "    </tr>\n",
       "    <tr>\n",
       "      <th>9371</th>\n",
       "      <td>2021-11-10</td>\n",
       "      <td>150.02</td>\n",
       "      <td>150.130</td>\n",
       "      <td>147.8500</td>\n",
       "      <td>147.92</td>\n",
       "      <td>65187092</td>\n",
       "    </tr>\n",
       "    <tr>\n",
       "      <th>9372</th>\n",
       "      <td>2021-11-11</td>\n",
       "      <td>148.96</td>\n",
       "      <td>149.430</td>\n",
       "      <td>147.6810</td>\n",
       "      <td>147.87</td>\n",
       "      <td>40999950</td>\n",
       "    </tr>\n",
       "    <tr>\n",
       "      <th>9373</th>\n",
       "      <td>2021-11-12</td>\n",
       "      <td>148.43</td>\n",
       "      <td>150.400</td>\n",
       "      <td>147.4800</td>\n",
       "      <td>149.99</td>\n",
       "      <td>63804008</td>\n",
       "    </tr>\n",
       "  </tbody>\n",
       "</table>\n",
       "</div>"
      ],
      "text/plain": [
       "           Date    Open     High       Low   Close    Volume\n",
       "9369 2021-11-08  151.41  151.570  150.1600  150.44  55020868\n",
       "9370 2021-11-09  150.20  151.428  150.0601  150.81  56787930\n",
       "9371 2021-11-10  150.02  150.130  147.8500  147.92  65187092\n",
       "9372 2021-11-11  148.96  149.430  147.6810  147.87  40999950\n",
       "9373 2021-11-12  148.43  150.400  147.4800  149.99  63804008"
      ]
     },
     "execution_count": 4,
     "metadata": {},
     "output_type": "execute_result"
    }
   ],
   "source": [
    "df.tail()"
   ]
  },
  {
   "cell_type": "code",
   "execution_count": 5,
   "id": "2fe98840",
   "metadata": {},
   "outputs": [],
   "source": [
    "df['last5'] = df['Close'].shift(1).rolling(window=5).mean()\n",
    "df['last30'] = df['Close'].shift(1).rolling(window=30).mean()\n",
    "df['vol5'] = df['Volume'].shift(1).rolling(window=5).mean()\n",
    "df['vol30'] = df['Volume'].shift(1).rolling(window=30).mean()\n",
    "\n",
    "df['change'] = df['Close'] - df['Close'].shift()\n",
    "df['dev'] = df['High'] - df['Low']\n",
    "df['prev_close'] = df['Close'].shift()\n",
    "df['prev_volume'] = df['Volume'].shift()\n",
    "df['prev_change'] = df['change'].shift()\n",
    "df['prev_dev'] = df['dev'].shift()\n",
    "df['prev_low'] = df['Low'].shift()\n",
    "df['prev_high'] = df['High'].shift()\n",
    "df['change_5'] = df['change'].shift(1).rolling(window=5).mean()\n",
    "df['change_30'] = df['change'].shift(1).rolling(window=30).mean()\n",
    "df['prev_power'] =   df['prev_change'] * df['prev_volume']\n",
    "df['dir'] = np.where(df['prev_change']>=0, 1,0)\n",
    "df['prev_dir'] = df['dir'].shift()\n",
    "df = df[df['Date']> '1984-10-20']"
   ]
  },
  {
   "cell_type": "code",
   "execution_count": 6,
   "id": "c9ae2e6f",
   "metadata": {},
   "outputs": [
    {
     "data": {
      "text/plain": [
       "Index(['Date', 'Open', 'High', 'Low', 'Close', 'Volume', 'last5', 'last30',\n",
       "       'vol5', 'vol30', 'change', 'dev', 'prev_close', 'prev_volume',\n",
       "       'prev_change', 'prev_dev', 'prev_low', 'prev_high', 'change_5',\n",
       "       'change_30', 'prev_power', 'abs_change'],\n",
       "      dtype='object')"
      ]
     },
     "execution_count": 6,
     "metadata": {},
     "output_type": "execute_result"
    }
   ],
   "source": [
    "df.columns"
   ]
  },
  {
   "cell_type": "code",
   "execution_count": 7,
   "id": "8f7644ac",
   "metadata": {},
   "outputs": [],
   "source": [
    "def spines(ax,yl='price',xl='date'):\n",
    "    x1 = ax.spines['right'].set_visible(False)\n",
    "    x2 = ax.spines['top'].set_visible(False)\n",
    "    x3 = ax.spines['left'].set_linewidth(2)\n",
    "    x4 = ax.spines['bottom'].set_linewidth(2)\n",
    "    x5 = ax.set_ylabel(yl)\n",
    "    x6 = ax.set_xlabel(xl)\n",
    "    return x1, x2, x3, x4, x5, x6"
   ]
  },
  {
   "cell_type": "code",
   "execution_count": 8,
   "id": "ea326f67",
   "metadata": {},
   "outputs": [],
   "source": [
    "def train_and_test1(df, features):\n",
    "    # split\n",
    "    train = df[df['Date'] < '2021-01-01']\n",
    "    test = df[df['Date'] >= '2021-01-01']\n",
    "\n",
    "    # train\n",
    "    lr = linear_model.LinearRegression()\n",
    "    lr.fit(train[features], train[\"Close\"])\n",
    "    predictions = lr.predict(test[features])\n",
    "    mse = mean_squared_error(test[\"Close\"], predictions)\n",
    "    rmse = np.sqrt(mse)\n",
    "    \n",
    "    return rmse, predictions"
   ]
  },
  {
   "cell_type": "code",
   "execution_count": 9,
   "id": "4e7e6fbb",
   "metadata": {},
   "outputs": [
    {
     "data": {
      "image/png": "[encoded data removed]",
      "text/plain": [
       "<Figure size 1152x576 with 1 Axes>"
      ]
     },
     "metadata": {
      "needs_background": "light"
     },
     "output_type": "display_data"
    }
   ],
   "source": [
    "r,p = train_and_test1(df, ['prev_close','prev_change'])\n",
    "results = df[['Date', 'Close', 'change']].copy()\n",
    "results = results[results['Date']>= '2021-01-01'].copy()\n",
    "results['predicted'] = p\n",
    "fig, ax = plt.subplots(figsize=(16,8))\n",
    "plt.scatter(results['Date'], results['Close'], label='Close')\n",
    "plt.plot(results['Date'], results['Close'], label='Close')\n",
    "plt.scatter(results['Date'], results['predicted'], label='prediction')\n",
    "plt.plot(results['Date'], results['predicted'], label='prediction')\n",
    "plt.legend()\n",
    "spines(ax)\n",
    "plt.xlim(18800,18900)\n",
    "plt.ylim(125,165)\n",
    "plt.show()\n"
   ]
  },
  {
   "cell_type": "code",
   "execution_count": 10,
   "id": "1c4c5616",
   "metadata": {},
   "outputs": [
    {
     "data": {
      "image/png": "[encoded data removed]",
      "text/plain": [
       "<Figure size 1152x576 with 1 Axes>"
      ]
     },
     "metadata": {
      "needs_background": "light"
     },
     "output_type": "display_data"
    }
   ],
   "source": [
    "r,p = train_and_test1(df, ['prev_change', 'last5', 'last30',\n",
    "       'vol5', 'vol30', 'prev_close', 'prev_volume',\n",
    "       'prev_change', 'prev_dev', 'prev_low', 'prev_high', 'prev_power'])\n",
    "results = df[['Date', 'Close', 'change']].copy()\n",
    "results = results[results['Date']>= '2021-01-01'].copy()\n",
    "results['predicted'] = p\n",
    "fig, ax = plt.subplots(figsize=(16,8))\n",
    "plt.scatter(results['Date'], results['Close'], label='Close')\n",
    "plt.plot(results['Date'], results['Close'], label='Close')\n",
    "plt.scatter(results['Date'], results['predicted'], label='prediction')\n",
    "plt.plot(results['Date'], results['predicted'], label='prediction')\n",
    "plt.legend()\n",
    "spines(ax)\n",
    "plt.xlim(18800,18900)\n",
    "plt.ylim(125,165)\n",
    "plt.show()\n",
    "\n"
   ]
  },
  {
   "cell_type": "code",
   "execution_count": 11,
   "id": "ee514f4b",
   "metadata": {},
   "outputs": [],
   "source": [
    "def train_and_test2(df, features):\n",
    "    # split\n",
    "    train = df[df['Date'] < '2021-01-01']\n",
    "    test = df[df['Date'] >= '2021-01-01']\n",
    "\n",
    "    # train\n",
    "    lr = linear_model.LinearRegression()\n",
    "    lr.fit(train[features], train[\"change\"])\n",
    "    predictions = lr.predict(test[features])\n",
    "    mse = mean_squared_error(test[\"change\"], predictions)\n",
    "    rmse = np.sqrt(mse)\n",
    "    \n",
    "    return rmse, predictions"
   ]
  },
  {
   "cell_type": "code",
   "execution_count": 12,
   "id": "57f7b32a",
   "metadata": {},
   "outputs": [
    {
     "data": {
      "image/png": "[encoded data removed]",
      "text/plain": [
       "<Figure size 1152x576 with 1 Axes>"
      ]
     },
     "metadata": {
      "needs_background": "light"
     },
     "output_type": "display_data"
    }
   ],
   "source": [
    "def plot_it(df, features):\n",
    "    results = df[['Date', 'Close', 'change']].copy()\n",
    "    r,p = train_and_test2(df, features)\n",
    "    results = results[results['Date']>= '2021-01-01'].copy()\n",
    "    results['predicted'] = p\n",
    "    fig, ax = plt.subplots(figsize=(16,8))\n",
    "    x1 = plt.scatter(results['Date'], results['change'], label='change')\n",
    "    x2 = plt.scatter(results['Date'], results['predicted'], label='prediction')\n",
    "    x3 = plt.legend()\n",
    "    x4 = spines(ax)\n",
    "    return fig, ax, x1, x2, x3, x4, results\n",
    "\n",
    "fig, ax, x1, x2, x3, x4, results = plot_it(df, ['prev_close','prev_change', 'prev_volume'])\n",
    "fig, ax, x1, x2, x3, x4\n",
    "plt.show()"
   ]
  },
  {
   "cell_type": "code",
   "execution_count": 13,
   "id": "d3471f7f",
   "metadata": {},
   "outputs": [
    {
     "data": {
      "text/plain": [
       "True     0.520548\n",
       "False    0.479452\n",
       "Name: dir, dtype: float64"
      ]
     },
     "execution_count": 13,
     "metadata": {},
     "output_type": "execute_result"
    }
   ],
   "source": [
    "results['dir'] = ((results['change'] > 0) & (results['predicted'] > 0)) |  ((results['change'] < 0) & (results['predicted'] < 0))\n",
    "results['dir'].value_counts(normalize=True)"
   ]
  },
  {
   "cell_type": "code",
   "execution_count": 20,
   "id": "712e2de1",
   "metadata": {},
   "outputs": [
    {
     "data": {
      "image/png": "[encoded data removed]",
      "text/plain": [
       "<Figure size 1152x576 with 1 Axes>"
      ]
     },
     "metadata": {
      "needs_background": "light"
     },
     "output_type": "display_data"
    }
   ],
   "source": [
    "\n",
    "def train_and_test3(df, features):\n",
    "    # split\n",
    "    train = df[df['Date'] < '2021-01-01']\n",
    "    test = df[df['Date'] >= '2021-01-01']\n",
    "\n",
    "    # train\n",
    "    lr = linear_model.LinearRegression()\n",
    "    lr.fit(train[features], train[\"change_30\"])\n",
    "    predictions = lr.predict(test[features])\n",
    "    mse = mean_squared_error(test[\"change_30\"], predictions)\n",
    "    rmse = np.sqrt(mse)\n",
    "    \n",
    "    return rmse, predictions\n",
    "\n",
    "def plot_it2(df, features):\n",
    "    results = df[['Date', 'Close', 'change', 'change_30']].copy()\n",
    "    r,p = train_and_test3(df, features)\n",
    "    results = results[results['Date']>= '2021-01-01'].copy()\n",
    "    results['predicted'] = p\n",
    "    fig, ax = plt.subplots(figsize=(16,8))\n",
    "    x1 = plt.scatter(results['Date'], results['change_30'], label='change_30')\n",
    "    x2 = plt.scatter(results['Date'], results['predicted'], label='prediction')\n",
    "    x3 = plt.legend()\n",
    "    x4 = spines(ax)\n",
    "    return fig, ax, x1, x2, x3, x4, results\n",
    "\n",
    "fig, ax, x1, x2, x3, x4, results = plot_it2(df, ['last5', 'last30',\n",
    "       'vol5', 'vol30', 'prev_close', 'prev_volume',\n",
    "        'prev_dev', 'prev_low', 'prev_high', \n",
    "       'prev_power'])\n",
    "fig, ax, x1, x2, x3, x4\n",
    "plt.show()"
   ]
  },
  {
   "cell_type": "code",
   "execution_count": 16,
   "id": "bcf7384d",
   "metadata": {},
   "outputs": [
    {
     "data": {
      "text/plain": [
       "Index(['Date', 'Open', 'High', 'Low', 'Close', 'Volume', 'last5', 'last30',\n",
       "       'vol5', 'vol30', 'change', 'dev', 'prev_close', 'prev_volume',\n",
       "       'prev_change', 'prev_dev', 'prev_low', 'prev_high', 'change_5',\n",
       "       'change_30', 'prev_power', 'abs_change'],\n",
       "      dtype='object')"
      ]
     },
     "execution_count": 16,
     "metadata": {},
     "output_type": "execute_result"
    }
   ],
   "source": [
    "df.columns"
   ]
  },
  {
   "cell_type": "code",
   "execution_count": null,
   "id": "09727d6d",
   "metadata": {},
   "outputs": [],
   "source": [
    "\n",
    "fig, ax, x1, x2, x3, x4, results = plot_it(df, ['prev_power', 'last5', \n",
    "         'prev_close', 'prev_volume',\n",
    "       'prev_change', 'prev_dev', 'abs_change'])\n",
    "fig, ax, x1, x2, x3, x4\n",
    "plt.show()"
   ]
  },
  {
   "cell_type": "code",
   "execution_count": null,
   "id": "9d1e7c65",
   "metadata": {},
   "outputs": [],
   "source": [
    "results['dir'] = ((results['change'] > 0) & (results['predicted'] > 0)) |  ((results['change'] < 0) & (results['predicted'] < 0))\n",
    "results['dir'].value_counts(normalize=True)"
   ]
  },
  {
   "cell_type": "code",
   "execution_count": null,
   "id": "12621bc8",
   "metadata": {},
   "outputs": [],
   "source": [
    "date_col =  df['Date']\n",
    "change_col = df['change']\n",
    "df_n = (df - df.min())/(df.max() - df.min()).copy()\n",
    "df_n['change'] = change_col\n",
    "df_n['Date'] = date_col\n",
    "fig, ax, x1, x2, x3, x4, results = plot_it(df_n,['prev_power', 'last5', \n",
    "         'prev_close', 'prev_volume',\n",
    "       'prev_change', 'prev_dev', ])\n",
    "fig, ax, x1, x2, x3, x4\n",
    "plt.show()"
   ]
  },
  {
   "cell_type": "code",
   "execution_count": null,
   "id": "46471647",
   "metadata": {},
   "outputs": [],
   "source": [
    "results['dir'] = ((results['change'] > 0) & (results['predicted'] > 0)) |  ((results['change'] < 0) & (results['predicted'] < 0))\n",
    "results['dir'].value_counts(normalize=True)"
   ]
  },
  {
   "cell_type": "code",
   "execution_count": null,
   "id": "748e7c63",
   "metadata": {},
   "outputs": [],
   "source": [
    "df_2010 = df[df['Date'] > '2015-01-01'].copy()\n",
    "df_2010.head()"
   ]
  },
  {
   "cell_type": "code",
   "execution_count": null,
   "id": "920184eb",
   "metadata": {},
   "outputs": [],
   "source": [
    "fig, ax, x1, x2, x3, x4, results = plot_it(df_2010,['prev_power', 'last5', \n",
    "         'prev_close', 'prev_volume',\n",
    "       'prev_change', 'prev_dev', ])\n",
    "fig, ax, x1, x2, x3, x4\n",
    "plt.show()"
   ]
  },
  {
   "cell_type": "code",
   "execution_count": null,
   "id": "e6edc4f6",
   "metadata": {},
   "outputs": [],
   "source": []
  },
  {
   "cell_type": "code",
   "execution_count": null,
   "id": "5bd8fa7e",
   "metadata": {
    "scrolled": true
   },
   "outputs": [],
   "source": [
    "fig, ax = plt.subplots(figsize=(16,8))\n",
    "plt.plot(df['Date'], abs(df['change']))\n",
    "plt.show()"
   ]
  },
  {
   "cell_type": "code",
   "execution_count": null,
   "id": "0208c2e1",
   "metadata": {},
   "outputs": [],
   "source": [
    "def train_and_test3(df, features):\n",
    "    # split\n",
    "    train = df[df['Date'] < '2021-01-01']\n",
    "    test = df[df['Date'] >= '2021-01-01']\n",
    "\n",
    "    # train\n",
    "    lr = linear_model.LinearRegression()\n",
    "    lr.fit(train[features], train[\"abs_change\"])\n",
    "    predictions = lr.predict(test[features])\n",
    "    mse = mean_squared_error(test[\"abs_change\"], predictions)\n",
    "    rmse = np.sqrt(mse)\n",
    "    \n",
    "    return rmse, predictions"
   ]
  },
  {
   "cell_type": "code",
   "execution_count": null,
   "id": "7278c6fb",
   "metadata": {},
   "outputs": [],
   "source": [
    "r,p = train_and_test3(df_2010, ['last5', 'last30',\n",
    "       'vol5', 'vol30', 'prev_close', 'prev_volume',\n",
    "       'prev_change', 'prev_dev', 'prev_low', 'prev_high', 'prev_power',\n",
    "       'prev_day_dev'])\n",
    "r"
   ]
  },
  {
   "cell_type": "code",
   "execution_count": null,
   "id": "d6142204",
   "metadata": {},
   "outputs": [],
   "source": [
    "df['prev_day_dev'] = (df['High'].shift(1) - df['Low'].shift(1)) / df['Close'].shift(1) *100\n",
    "df2 = df[df['Date'] > '1951-07-01'].copy()"
   ]
  },
  {
   "cell_type": "code",
   "execution_count": null,
   "id": "795628a1",
   "metadata": {},
   "outputs": [],
   "source": [
    "df2.columns"
   ]
  },
  {
   "cell_type": "code",
   "execution_count": null,
   "id": "e6396208",
   "metadata": {},
   "outputs": [],
   "source": [
    "def spines(ax,yl='price',xl='date'):\n",
    "    x1 = ax.spines['right'].set_visible(False)\n",
    "    x2 = ax.spines['top'].set_visible(False)\n",
    "    x3 = ax.spines['left'].set_linewidth(2)\n",
    "    x4 = ax.spines['bottom'].set_linewidth(2)\n",
    "    x5 = ax.set_ylabel(yl)\n",
    "    x6 = ax.set_xlabel(xl)\n",
    "    return x1, x2, x3, x4, x5, x6"
   ]
  },
  {
   "cell_type": "code",
   "execution_count": null,
   "id": "7c7aa5cd",
   "metadata": {},
   "outputs": [],
   "source": [
    "rmse, results = train_and_test2(df2, ['last5'])\n",
    "results_frame = df2[df2['Date'] >= '2013-01-01'][['Date','Close']].copy()\n",
    "results_frame['results'] = results\n",
    "fig, ax = plt.subplots(figsize=(16,8))\n",
    "# plt.scatter(results_frame['Date'], results_frame['results'])\n",
    "plt.plot(results_frame['Date'], results_frame['results'],linewidth=2 , label='predictions')\n",
    "plt.plot(results_frame['Date'], results_frame['Close'],linewidth=2, label='real prices')\n",
    "spines(ax)\n",
    "plt.legend()\n",
    "plt.title('Stock prices vs predictions')\n",
    "plt.show()"
   ]
  },
  {
   "cell_type": "code",
   "execution_count": null,
   "id": "d83fab1e",
   "metadata": {},
   "outputs": [],
   "source": [
    "rmse, results = train_and_test2(df2, [ 'last30', 'last365'])\n",
    "results_frame = df2[df2['Date'] >= '2013-01-01'][['Date','Close']].copy()\n",
    "results_frame['results'] = results\n",
    "fig, ax = plt.subplots(figsize=(16,8))\n",
    "plt.plot(results_frame['Date'], results_frame['results'],linewidth=2 , label='predictions')\n",
    "plt.plot(results_frame['Date'], results_frame['Close'],linewidth=2, label='real prices')\n",
    "spines(ax)\n",
    "plt.legend()\n",
    "plt.title('Stock prices vs predictions')\n",
    "plt.show()"
   ]
  },
  {
   "cell_type": "code",
   "execution_count": null,
   "id": "5096a6ca",
   "metadata": {},
   "outputs": [],
   "source": [
    "results_frame = results_frame[1:].copy()"
   ]
  },
  {
   "cell_type": "code",
   "execution_count": null,
   "id": "ece1c426",
   "metadata": {},
   "outputs": [],
   "source": [
    "results_frame = df2[df2['Date'] >= '2013-01-01'][['Date','Close']].copy()\n",
    "results_frame['results'] = results\n",
    "results_frame = results_frame[1:].copy()\n",
    "frame2 = results_frame[results_frame['Date']>'2015-08-12']\n",
    "\n",
    "fig, ax = plt.subplots(figsize=(16,8))\n",
    "plt.plot(frame2['Date'], frame2['Close'],linewidth=2, label='real prices')\n",
    "plt.scatter(frame2['Date'], frame2['Close'], label='real prices')\n",
    "plt.plot(frame2['Date'], frame2['results'],linewidth=2 , label='predictions')\n",
    "plt.scatter(frame2['Date'], frame2['results'], label='predictions')\n",
    "spines(ax)\n",
    "plt.legend()\n",
    "plt.title('Stock prices vs predictions')\n",
    "plt.show()"
   ]
  },
  {
   "cell_type": "code",
   "execution_count": null,
   "id": "715241e9",
   "metadata": {},
   "outputs": [],
   "source": [
    "results_frame['up_or_down'] = results_frame['Close'] - results_frame['Close'].shift()\n",
    "results_frame['predict_up_or_down'] = results_frame['results'] - results_frame['Close'].shift()\n",
    "results_frame['true_results'] = (results_frame['up_or_down'] > 0) == (results_frame['predict_up_or_down'] > 0)\n",
    "results_frame['true_results'].value_counts(normalize=True)"
   ]
  },
  {
   "cell_type": "code",
   "execution_count": null,
   "id": "d84d502d",
   "metadata": {},
   "outputs": [],
   "source": [
    "abs(results_frame['predict_up_or_down']).mean()"
   ]
  },
  {
   "cell_type": "code",
   "execution_count": null,
   "id": "3cb6bedc",
   "metadata": {},
   "outputs": [],
   "source": [
    "abs(results_frame['up_or_down']).mean()"
   ]
  },
  {
   "cell_type": "markdown",
   "id": "1f2bdfac",
   "metadata": {},
   "source": [
    "Lets introduce some previous day data:\n",
    "* the volume of trading on a previous day\n",
    "* close price\n",
    "* 'prev_day_magnify' in this column we'll multiply 'prev_day_close' by 'prev_day_vol' (it should strongly indicate the direction of the market)"
   ]
  },
  {
   "cell_type": "code",
   "execution_count": null,
   "id": "740b747f",
   "metadata": {},
   "outputs": [],
   "source": []
  },
  {
   "cell_type": "code",
   "execution_count": null,
   "id": "97a4b534",
   "metadata": {},
   "outputs": [],
   "source": [
    "df['prev_day_vol'] = df['Volume'].shift(1)\n",
    "df['prev_day_close'] = df['Close'].shift(1)\n",
    "df['prev_day_magnify'] = df['prev_day_vol'] * df['prev_day_dev']\n",
    "df2 = df[df['Date'] > '1951-07-01'].copy()\n",
    "res = train_and_test2(df2, ['last5', 'last30', 'last365', 'vol5', 'vol30', 'vol365', 'prev_day_dev',\n",
    "                     'prev_day_vol','prev_day_close', 'prev_day_magnify'])"
   ]
  },
  {
   "cell_type": "code",
   "execution_count": null,
   "id": "4f97def7",
   "metadata": {},
   "outputs": [],
   "source": [
    "df['prev_day_open'] = df['Open'].shift(1)\n",
    "df['prev_day_low'] = df['Low'].shift(1)\n",
    "df['prev_day_high'] = df['High'].shift(1)\n",
    "df2 = df[df['Date'] > '1951-07-01'].copy()\n",
    "df2.columns"
   ]
  },
  {
   "cell_type": "code",
   "execution_count": null,
   "id": "83b2537a",
   "metadata": {},
   "outputs": [],
   "source": [
    "features2 = ['last5','last30', 'last365', 'vol5', 'vol30', 'vol365', 'prev_day_dev',\n",
    "       'prev_day_vol', 'prev_day_close', 'prev_day_magnify', 'prev_day_open',\n",
    "       'prev_day_low', 'prev_day_high']\n",
    "rmse, results = train_and_test2(df2, features2)\n",
    "rmse"
   ]
  },
  {
   "cell_type": "code",
   "execution_count": null,
   "id": "5b455805",
   "metadata": {},
   "outputs": [],
   "source": [
    "\n",
    "results_frame = df2[df2['Date'] >= '2013-01-01'][['Date','Close']].copy()\n",
    "results_frame['results'] = results\n",
    "results_frame = results_frame[1:].copy()\n",
    "frame2 = results_frame[results_frame['Date']>'2015-08-12']\n",
    "\n",
    "fig, ax = plt.subplots(figsize=(16,8))\n",
    "\n",
    "plt.plot(frame2['Date'], frame2['Close'],linewidth=2, label='real prices')\n",
    "plt.scatter(frame2['Date'], frame2['Close'], label='real prices')\n",
    "plt.plot(frame2['Date'], frame2['results'],linewidth=2 , label='predictions')\n",
    "plt.scatter(frame2['Date'], frame2['results'], label='predictions')\n",
    "spines(ax)\n",
    "plt.legend()\n",
    "plt.title('Stock prices vs predictions')\n",
    "plt.show()"
   ]
  },
  {
   "cell_type": "code",
   "execution_count": null,
   "id": "4e55e807",
   "metadata": {},
   "outputs": [],
   "source": [
    "results_frame['up_or_down'] = results_frame['Close'] - results_frame['Close'].shift()\n",
    "results_frame['predict_up_or_down'] = results_frame['results'] - results_frame['Close'].shift()\n",
    "results_frame['true_results'] = (results_frame['up_or_down'] > 0) == (results_frame['predict_up_or_down'] > 0)\n",
    "results_frame['true_results'].value_counts(normalize=True)"
   ]
  },
  {
   "cell_type": "code",
   "execution_count": null,
   "id": "4ceb803a",
   "metadata": {},
   "outputs": [],
   "source": [
    "df['prev_day_dev'].describe()"
   ]
  },
  {
   "cell_type": "code",
   "execution_count": null,
   "id": "cc3b5e0b",
   "metadata": {},
   "outputs": [],
   "source": [
    "df[df['prev_day_dev'] > 5]"
   ]
  },
  {
   "cell_type": "markdown",
   "id": "ff448d90",
   "metadata": {},
   "source": [
    "# but wait a second! lets train the model to predict the movement not the price!"
   ]
  },
  {
   "cell_type": "code",
   "execution_count": null,
   "id": "8bc1f81d",
   "metadata": {},
   "outputs": [],
   "source": [
    "df2['up_or_down'] = df2['Close'].shift(2) - df2['Close'].shift(1)\n",
    "df2[[\"Close\",'up_or_down']][:10]\n",
    "df2 = df2[2:]"
   ]
  },
  {
   "cell_type": "code",
   "execution_count": null,
   "id": "f4466abb",
   "metadata": {},
   "outputs": [],
   "source": [
    "def train_and_test3(df, features):\n",
    "    # split 50:50\n",
    "    train = df2[df2['Date'] < '2013-01-01']\n",
    "    test = df2[df2['Date'] >= '2013-01-01']\n",
    "\n",
    "    # train\n",
    "    lr = linear_model.LinearRegression()\n",
    "    lr.fit(train[features], train[\"up_or_down\"])\n",
    "    predictions = lr.predict(test[features])\n",
    "    mse = mean_squared_error(test[\"up_or_down\"], predictions)\n",
    "    rmse = np.sqrt(mse)\n",
    "    \n",
    "    return rmse, predictions"
   ]
  },
  {
   "cell_type": "code",
   "execution_count": null,
   "id": "27c62b9b",
   "metadata": {},
   "outputs": [],
   "source": [
    "features2 = ['last5','last30', 'last365', 'vol5', 'vol30', 'vol365', 'prev_day_dev',\n",
    "       'prev_day_vol', 'prev_day_close', 'prev_day_magnify', 'prev_day_open',\n",
    "       'prev_day_low', 'prev_day_high']\n",
    "rmse, results = train_and_test3(df2, features2)\n",
    "rmse"
   ]
  },
  {
   "cell_type": "code",
   "execution_count": null,
   "id": "5411276a",
   "metadata": {},
   "outputs": [],
   "source": [
    "rmse /df2[\"up_or_down\"].mean()"
   ]
  },
  {
   "cell_type": "code",
   "execution_count": null,
   "id": "37b36523",
   "metadata": {},
   "outputs": [],
   "source": [
    "res_frame2 = df2[df2['Date'] >= '2013-01-01'] .copy()\n",
    "res_frame2.loc[res_frame2['Date'] >= '2013-01-01','predicted']= results\n",
    "res_frame2['true_results'] = (res_frame2['up_or_down'] > 0) == (res_frame2['predicted'] > 0)\n",
    "res_frame2['true_results'].value_counts(normalize=True)\n",
    "# res_frame2[['up_or_down','predicted' ]]"
   ]
  },
  {
   "cell_type": "code",
   "execution_count": null,
   "id": "efbc895e",
   "metadata": {},
   "outputs": [],
   "source": [
    "res_frame2['Close2'] = res_frame2['Close'].shift(1) + res_frame2['predicted'].shift(1)\n",
    "res_frame2"
   ]
  },
  {
   "cell_type": "code",
   "execution_count": null,
   "id": "405e0f3d",
   "metadata": {
    "scrolled": false
   },
   "outputs": [],
   "source": [
    "\n",
    "fig, ax = plt.subplots(figsize=(16,98))\n",
    "\n",
    "plt.plot( res_frame2['up_or_down'],res_frame2['Date'],linewidth=2, label='real prices')\n",
    "plt.scatter(res_frame2['up_or_down'],res_frame2['Date'],  label='real prices')\n",
    "plt.plot( res_frame2['predicted'],res_frame2['Date'],linewidth=2 , label='predictions')\n",
    "plt.scatter( res_frame2['predicted'],res_frame2['Date'], label='predictions')\n",
    "spines(ax)\n",
    "plt.legend()\n",
    "plt.title('Stock prices vs predictions')\n",
    "# plt.xlim(16200,16290)\n",
    "plt.show()"
   ]
  },
  {
   "cell_type": "code",
   "execution_count": null,
   "id": "c7ffc11a",
   "metadata": {},
   "outputs": [],
   "source": [
    "res_frame3 = res_frame2[1:]"
   ]
  },
  {
   "cell_type": "code",
   "execution_count": null,
   "id": "53fd31f7",
   "metadata": {},
   "outputs": [],
   "source": [
    "mse = mean_squared_error( res_frame3['Close'], res_frame3['Close2'])\n",
    "rmse = np.sqrt(mse)\n",
    "rmse"
   ]
  },
  {
   "cell_type": "code",
   "execution_count": null,
   "id": "87452be4",
   "metadata": {},
   "outputs": [],
   "source": [
    "\n",
    "fig, ax = plt.subplots(figsize=(16,8))\n",
    "\n",
    "res_frame3 = res_frame3[res_frame3['Date']>'2015-07-01']\n",
    "\n",
    "\n",
    "plt.plot(res_frame3['Date'], res_frame3['Close'],linewidth=2, label='real prices')\n",
    "plt.scatter(res_frame3['Date'], res_frame3['Close'], label='real prices')\n",
    "plt.plot(res_frame3['Date'], res_frame3['Close2'],linewidth=2 , label='predictions')\n",
    "plt.scatter(res_frame3['Date'], res_frame3['Close2'], label='predictions')\n",
    "spines(ax)\n",
    "plt.legend()\n",
    "plt.title('Stock prices vs predictions')\n",
    "plt.show()"
   ]
  },
  {
   "cell_type": "code",
   "execution_count": null,
   "id": "f4310c2a",
   "metadata": {},
   "outputs": [],
   "source": [
    "res_frame3[['Date','Close','predicted','up_or_down','Close2']]"
   ]
  }
 ],
 "metadata": {
  "kernelspec": {
   "display_name": "Python 3 (ipykernel)",
   "language": "python",
   "name": "python3"
  },
  "language_info": {
   "codemirror_mode": {
    "name": "ipython",
    "version": 3
   },
   "file_extension": ".py",
   "mimetype": "text/x-python",
   "name": "python",
   "nbconvert_exporter": "python",
   "pygments_lexer": "ipython3",
   "version": "3.8.2"
  }
 },
 "nbformat": 4,
 "nbformat_minor": 5
}
